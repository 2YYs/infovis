{
 "cells": [
  {
   "cell_type": "markdown",
   "id": "d8d64d04",
   "metadata": {},
   "source": [
    "# INFORMATIE VISUALISATIE GROEP I3\n",
    "*Yurish Koebeer, Abuzar Hosseini, Mohamed el Harchaoui en Mouad Kasmi*"
   ]
  },
  {
   "cell_type": "markdown",
   "id": "b9bf94b4",
   "metadata": {},
   "source": [
    "## Introductie\n",
    "Immigratie en de invloed ervan op de lonen van Amerikaanse werknemers is een veelbesproken onderwerp. Sommige mensen denken dat een toestroom van immigranten het arbeidsaanbod vergroot, wat de lonen kan verlagen, vooral in laaggeschoolde sectoren. Dit komt doordat de concurrentie voor banen toeneemt, wat de onderhandelingspositie van inheemse werknemers verzwakt.\n",
    "\n",
    "Aan de andere kant zijn er mensen die geloven dat immigranten de economische groei stimuleren, essentiële rollen vervullen en innovatie bevorderen. Dit zou uiteindelijk kunnen leiden tot hogere lonen en meer welvaart voor iedereen.\n",
    "\n",
    "Een recent voorbeeld is het beleid van voormalig president Donald Trump. Tijdens zijn presidentschap werden maatregelen genomen om de immigratie te beperken, zoals strengere regels voor asielaanvragen en het blokkeren van migranten uit bepaalde landen. In dezelfde periode zagen we een daling van de werkloosheid en een stijging van de lonen. De vraag is echter of deze verbeteringen direct toe te schrijven zijn aan de afname van de immigratie, of dat er andere factoren meespelen.\n",
    "\n",
    "In deze studie onderzoeken we deze verschillende perspectieven en proberen we de complexe dynamiek van immigratie en de effecten ervan op de Amerikaanse arbeidsmarkt te begrijpen."
   ]
  },
  {
   "cell_type": "markdown",
   "id": "c7239904",
   "metadata": {},
   "source": [
    "## Dataset en Voorverwerking\n",
    "\n",
    "In eerste instantie hebben we besloten dat elk teamlid ten minste één dataset van interesse moest vinden met voldoende gegevens waaruit ten minste twee perspectieven kunnen worden afgeleid. Tijdens de eerste teamvergadering werd elke dataset besproken samen met mogelijke correlaties. Uiteindelijk hebben we de datasets gekozen van [US Immigration Statistics (1980-2021)](https://www.kaggle.com/datasets/justin2028/us-immigration-statistics-1980-2021) en [Minimum Wage by State](https://www.kaggle.com/datasets/lislejoem/us-minimum-wage-by-state-from-1968-to-2017), omdat deze datasets correlaties hebben die nuttig kunnen zijn voor onze studie. Na wat brainstormen tijdens teamvergaderingen, hebben we besloten om de impact van immigratie op de lonen van Amerikaanse werknemers te onderzoeken.\n",
    "\n",
    "### Opschonen\n",
    "\n",
    "Elke dataset bevatte enkele wijzigingen vergeleken met andere jaren, zoals kolomhernoemingen of structurele wijzigingen. We moesten twee fasen doorlopen om alles correct op te schonen. De eerste fase is waarin kolommen worden hernoemd en herstructureerd om ze samen te voegen. Kolommen zijn handmatig samengevoegd door ze één voor één te inspecteren en de kolommen samen te voegen die ongeveer dezelfde naam of inhoud hebben qua wat ze vertegenwoordigen. Kolommen die niet nuttig waren, werden onmiddellijk uitgesloten tijdens dit proces.\n",
    "\n",
    "De tweede fase omvat het normaliseren van de data. In het algemeen is dit gedaan door de unieke waarden voor elke kolom grondig te inspecteren en waarden die dezelfde betekenis vertegenwoordigen te combineren.\n",
    "\n",
    "Ten slotte hebben we besloten om parquet (`.parquet`) te gebruiken als het bestandstype voor onze uiteindelijke dataset. Dit stelt ons in staat om het datatype voor elke kolom te specificeren en de algehele bestandsgrootte van de uiteindelijke dataset te verkleinen met extra gzip-compressie. Dit resulteerde in een 7.2MB parquet-bestand, in plaats van een 145MB CSV-bestand.\n",
    "\n",
    "Uiteindelijk zijn in totaal 955 kolommen uit de twee datasets teruggebracht tot één dataset met 19 kolommen en 535,759 rijen.\n",
    "\n",
    "### Variabele Beschrijvingen\n",
    "\n",
    "Qua variabele type en meetschaal kunnen de variabelen in de uiteindelijke dataset worden ingedeeld in verschillende combinaties:\n",
    "\n",
    "- **Continue / Ratio variabelen:** Year, Immigrants Obtaining Lawful Permanent Resident Status, Average Wage, CPI.Average, High.2018, Low.2018\n",
    "- **Discrete / Ordinale variabelen:** Immigrant Population Level\n",
    "- **Discrete / Nominale variabelen:** Sector\n",
    "\n",
    "Variabelen die momenteel worden gebruikt zijn: Year, Immigrants Obtaining Lawful Permanent Resident Status, Average Wage, CPI.Average, High.2018, Low.2018, Immigrant Population Level, Sector\n",
    "\n",
    "### Aggregaties\n",
    "\n",
    "In het algemeen worden de meeste aggregaties uitgevoerd om de impact van immigratie op lonen in verhouding tot de Amerikaanse beroepsbevolking te berekenen. Dit wordt gedaan door het gemiddelde loon voor zowel sectoren met een hoge als lage immigrantenpopulatie te nemen, deze te vergelijken en trends in de tijd af te leiden. In wiskundige notatie is dit gedefinieerd als:\n",
    "\n",
    "$$\n",
    "\\text{Wage Difference} = \\frac{\\text{Mean Wage in High Immigrant Population Sectors} - \\text{Mean Wage in Low Immigrant Population Sectors}}{\\text{Mean Wage in Low Immigrant Population Sectors}}\n",
    "$$\n",
    "\n",
    "In de meeste grafieken wordt een percentage gebruikt, wat de bovenstaande formule vermenigvuldigd met 100 is.\n",
    "\n",
    "**Voorbeeld:**\n",
    "Stel dat in de Verenigde Staten het gemiddelde jaarlijkse loon voor sectoren met hoge immigrantenpopulaties \\\\$50.000 is en voor sectoren met lage immigrantenpopulaties \\\\$55.000. Dan is het loonverschil -9,1% met behulp van de bovengenoemde berekening. Als sectoren met hoge immigrantenpopulaties \\\\$60.000 per jaar zouden verdienen en sectoren met lage immigrantenpopulaties \\\\$55.000 per jaar zouden verdienen, dan is het loonverschil +9,1%. We noemen de procentuele uitkomst een positieve verschil als het percentage positief is. Wanneer de uitkomst negatief is, wordt het beschouwd als een negatieve verschil. "
   ]
  },
  {
   "cell_type": "code",
   "execution_count": 1,
   "id": "283a2fcd",
   "metadata": {},
   "outputs": [],
   "source": [
    "import pandas as pd\n",
    "import matplotlib.pyplot as plt\n",
    "import seaborn as sns\n",
    "\n",
    "# Load the datasets\n",
    "dataset1 = pd.read_csv('immigration_statistics_us.csv', encoding='ISO-8859-1')\n",
    "dataset2 = pd.read_csv('minimum_wage_us.csv', encoding='ISO-8859-1')\n",
    "# dataset3 = pd.read_csv('unemployment_rate_data.csv', encoding='ISO-8859-1')\n",
    "dataset3 = pd.read_csv('unemployment_rate_data_corrected.csv', encoding='ISO-8859-1')"
   ]
  },
  {
   "cell_type": "code",
   "execution_count": 2,
   "id": "df937279",
   "metadata": {},
   "outputs": [
    {
     "name": "stdout",
     "output_type": "stream",
     "text": [
      "First Dataset Head:\n"
     ]
    },
    {
     "data": {
      "text/html": [
       "<div>\n",
       "<style scoped>\n",
       "    .dataframe tbody tr th:only-of-type {\n",
       "        vertical-align: middle;\n",
       "    }\n",
       "\n",
       "    .dataframe tbody tr th {\n",
       "        vertical-align: top;\n",
       "    }\n",
       "\n",
       "    .dataframe thead th {\n",
       "        text-align: right;\n",
       "    }\n",
       "</style>\n",
       "<table border=\"1\" class=\"dataframe\">\n",
       "  <thead>\n",
       "    <tr style=\"text-align: right;\">\n",
       "      <th></th>\n",
       "      <th>ï»¿Year</th>\n",
       "      <th>Immigrants Obtaining Lawful Permanent Resident Status</th>\n",
       "      <th>Refugee Arrivals</th>\n",
       "      <th>Noncitizen Apprehensions</th>\n",
       "      <th>Noncitizen Removals</th>\n",
       "      <th>Noncitizen Returns</th>\n",
       "    </tr>\n",
       "  </thead>\n",
       "  <tbody>\n",
       "    <tr>\n",
       "      <th>0</th>\n",
       "      <td>1980</td>\n",
       "      <td>524,295</td>\n",
       "      <td>207,116</td>\n",
       "      <td>910,361</td>\n",
       "      <td>18,013</td>\n",
       "      <td>719,211</td>\n",
       "    </tr>\n",
       "    <tr>\n",
       "      <th>1</th>\n",
       "      <td>1981</td>\n",
       "      <td>595,014</td>\n",
       "      <td>159,252</td>\n",
       "      <td>975,780</td>\n",
       "      <td>17,379</td>\n",
       "      <td>823,875</td>\n",
       "    </tr>\n",
       "    <tr>\n",
       "      <th>2</th>\n",
       "      <td>1982</td>\n",
       "      <td>533,624</td>\n",
       "      <td>98,096</td>\n",
       "      <td>970,246</td>\n",
       "      <td>15,216</td>\n",
       "      <td>812,572</td>\n",
       "    </tr>\n",
       "    <tr>\n",
       "      <th>3</th>\n",
       "      <td>1983</td>\n",
       "      <td>550,052</td>\n",
       "      <td>61,218</td>\n",
       "      <td>1,251,357</td>\n",
       "      <td>19,211</td>\n",
       "      <td>931,600</td>\n",
       "    </tr>\n",
       "    <tr>\n",
       "      <th>4</th>\n",
       "      <td>1984</td>\n",
       "      <td>541,811</td>\n",
       "      <td>70,393</td>\n",
       "      <td>1,246,981</td>\n",
       "      <td>18,696</td>\n",
       "      <td>909,833</td>\n",
       "    </tr>\n",
       "  </tbody>\n",
       "</table>\n",
       "</div>"
      ],
      "text/plain": [
       "   ï»¿Year Immigrants Obtaining Lawful Permanent Resident Status  \\\n",
       "0     1980                                           524,295       \n",
       "1     1981                                           595,014       \n",
       "2     1982                                           533,624       \n",
       "3     1983                                           550,052       \n",
       "4     1984                                           541,811       \n",
       "\n",
       "  Refugee Arrivals Noncitizen Apprehensions Noncitizen Removals  \\\n",
       "0         207,116                   910,361              18,013   \n",
       "1         159,252                   975,780              17,379   \n",
       "2          98,096                   970,246              15,216   \n",
       "3          61,218                 1,251,357              19,211   \n",
       "4          70,393                 1,246,981              18,696   \n",
       "\n",
       "  Noncitizen Returns  \n",
       "0            719,211  \n",
       "1            823,875  \n",
       "2            812,572  \n",
       "3            931,600  \n",
       "4            909,833  "
      ]
     },
     "execution_count": 2,
     "metadata": {},
     "output_type": "execute_result"
    }
   ],
   "source": [
    "# Display the first 5 rows of each dataset\n",
    "print(\"First Dataset Head:\")\n",
    "dataset1.head()"
   ]
  },
  {
   "cell_type": "code",
   "execution_count": 3,
   "id": "21375258",
   "metadata": {},
   "outputs": [
    {
     "name": "stdout",
     "output_type": "stream",
     "text": [
      "First Dataset Tail:\n"
     ]
    },
    {
     "data": {
      "text/html": [
       "<div>\n",
       "<style scoped>\n",
       "    .dataframe tbody tr th:only-of-type {\n",
       "        vertical-align: middle;\n",
       "    }\n",
       "\n",
       "    .dataframe tbody tr th {\n",
       "        vertical-align: top;\n",
       "    }\n",
       "\n",
       "    .dataframe thead th {\n",
       "        text-align: right;\n",
       "    }\n",
       "</style>\n",
       "<table border=\"1\" class=\"dataframe\">\n",
       "  <thead>\n",
       "    <tr style=\"text-align: right;\">\n",
       "      <th></th>\n",
       "      <th>ï»¿Year</th>\n",
       "      <th>Immigrants Obtaining Lawful Permanent Resident Status</th>\n",
       "      <th>Refugee Arrivals</th>\n",
       "      <th>Noncitizen Apprehensions</th>\n",
       "      <th>Noncitizen Removals</th>\n",
       "      <th>Noncitizen Returns</th>\n",
       "    </tr>\n",
       "  </thead>\n",
       "  <tbody>\n",
       "    <tr>\n",
       "      <th>37</th>\n",
       "      <td>2017</td>\n",
       "      <td>1,127,167</td>\n",
       "      <td>53,691</td>\n",
       "      <td>607,677</td>\n",
       "      <td>284,298</td>\n",
       "      <td>100,454</td>\n",
       "    </tr>\n",
       "    <tr>\n",
       "      <th>38</th>\n",
       "      <td>2018</td>\n",
       "      <td>1,096,611</td>\n",
       "      <td>22,405</td>\n",
       "      <td>739,486</td>\n",
       "      <td>327,554</td>\n",
       "      <td>159,960</td>\n",
       "    </tr>\n",
       "    <tr>\n",
       "      <th>39</th>\n",
       "      <td>2019</td>\n",
       "      <td>1,031,765</td>\n",
       "      <td>29,916</td>\n",
       "      <td>1,175,841</td>\n",
       "      <td>347,183</td>\n",
       "      <td>171,125</td>\n",
       "    </tr>\n",
       "    <tr>\n",
       "      <th>40</th>\n",
       "      <td>2020</td>\n",
       "      <td>707,362</td>\n",
       "      <td>11,840</td>\n",
       "      <td>609,265</td>\n",
       "      <td>237,861</td>\n",
       "      <td>167,453</td>\n",
       "    </tr>\n",
       "    <tr>\n",
       "      <th>41</th>\n",
       "      <td>2021</td>\n",
       "      <td>740,002</td>\n",
       "      <td>11,454</td>\n",
       "      <td>1,865,379</td>\n",
       "      <td>89,191</td>\n",
       "      <td>178,227</td>\n",
       "    </tr>\n",
       "  </tbody>\n",
       "</table>\n",
       "</div>"
      ],
      "text/plain": [
       "    ï»¿Year Immigrants Obtaining Lawful Permanent Resident Status  \\\n",
       "37     2017                                         1,127,167       \n",
       "38     2018                                         1,096,611       \n",
       "39     2019                                         1,031,765       \n",
       "40     2020                                           707,362       \n",
       "41     2021                                           740,002       \n",
       "\n",
       "   Refugee Arrivals Noncitizen Apprehensions Noncitizen Removals  \\\n",
       "37           53,691                  607,677             284,298   \n",
       "38           22,405                  739,486             327,554   \n",
       "39           29,916                1,175,841             347,183   \n",
       "40           11,840                  609,265             237,861   \n",
       "41           11,454                1,865,379              89,191   \n",
       "\n",
       "   Noncitizen Returns  \n",
       "37            100,454  \n",
       "38            159,960  \n",
       "39            171,125  \n",
       "40            167,453  \n",
       "41            178,227  "
      ]
     },
     "execution_count": 3,
     "metadata": {},
     "output_type": "execute_result"
    }
   ],
   "source": [
    "print(\"First Dataset Tail:\")\n",
    "dataset1.tail()"
   ]
  },
  {
   "cell_type": "code",
   "execution_count": 4,
   "id": "e5e34695",
   "metadata": {},
   "outputs": [
    {
     "name": "stdout",
     "output_type": "stream",
     "text": [
      "\n",
      "Second Dataset Head:\n"
     ]
    },
    {
     "data": {
      "text/html": [
       "<div>\n",
       "<style scoped>\n",
       "    .dataframe tbody tr th:only-of-type {\n",
       "        vertical-align: middle;\n",
       "    }\n",
       "\n",
       "    .dataframe tbody tr th {\n",
       "        vertical-align: top;\n",
       "    }\n",
       "\n",
       "    .dataframe thead th {\n",
       "        text-align: right;\n",
       "    }\n",
       "</style>\n",
       "<table border=\"1\" class=\"dataframe\">\n",
       "  <thead>\n",
       "    <tr style=\"text-align: right;\">\n",
       "      <th></th>\n",
       "      <th>Year</th>\n",
       "      <th>State</th>\n",
       "      <th>State.Minimum.Wage</th>\n",
       "      <th>State.Minimum.Wage.2020.Dollars</th>\n",
       "      <th>Federal.Minimum.Wage</th>\n",
       "      <th>Federal.Minimum.Wage.2020.Dollars</th>\n",
       "      <th>Effective.Minimum.Wage</th>\n",
       "      <th>Effective.Minimum.Wage.2020.Dollars</th>\n",
       "      <th>CPI.Average</th>\n",
       "      <th>Department.Of.Labor.Uncleaned.Data</th>\n",
       "      <th>Department.Of.Labor.Cleaned.Low.Value</th>\n",
       "      <th>Department.Of.Labor.Cleaned.Low.Value.2020.Dollars</th>\n",
       "      <th>Department.Of.Labor.Cleaned.High.Value</th>\n",
       "      <th>Department.Of.Labor.Cleaned.High.Value.2020.Dollars</th>\n",
       "      <th>Footnote</th>\n",
       "    </tr>\n",
       "  </thead>\n",
       "  <tbody>\n",
       "    <tr>\n",
       "      <th>0</th>\n",
       "      <td>1968</td>\n",
       "      <td>Alabama</td>\n",
       "      <td>0.00000</td>\n",
       "      <td>0.00</td>\n",
       "      <td>1.15</td>\n",
       "      <td>8.55</td>\n",
       "      <td>1.15</td>\n",
       "      <td>8.55</td>\n",
       "      <td>34.8</td>\n",
       "      <td>...</td>\n",
       "      <td>0.00000</td>\n",
       "      <td>0.00</td>\n",
       "      <td>0.00000</td>\n",
       "      <td>0.00</td>\n",
       "      <td>NaN</td>\n",
       "    </tr>\n",
       "    <tr>\n",
       "      <th>1</th>\n",
       "      <td>1968</td>\n",
       "      <td>Alaska</td>\n",
       "      <td>2.10000</td>\n",
       "      <td>15.61</td>\n",
       "      <td>1.15</td>\n",
       "      <td>8.55</td>\n",
       "      <td>2.10</td>\n",
       "      <td>15.61</td>\n",
       "      <td>34.8</td>\n",
       "      <td>2.1</td>\n",
       "      <td>2.10000</td>\n",
       "      <td>15.61</td>\n",
       "      <td>2.10000</td>\n",
       "      <td>15.61</td>\n",
       "      <td>NaN</td>\n",
       "    </tr>\n",
       "    <tr>\n",
       "      <th>2</th>\n",
       "      <td>1968</td>\n",
       "      <td>Arizona</td>\n",
       "      <td>0.46800</td>\n",
       "      <td>3.48</td>\n",
       "      <td>1.15</td>\n",
       "      <td>8.55</td>\n",
       "      <td>1.15</td>\n",
       "      <td>8.55</td>\n",
       "      <td>34.8</td>\n",
       "      <td>18.72 - 26.40/wk(b)</td>\n",
       "      <td>0.46800</td>\n",
       "      <td>3.48</td>\n",
       "      <td>0.66000</td>\n",
       "      <td>4.91</td>\n",
       "      <td>(b)</td>\n",
       "    </tr>\n",
       "    <tr>\n",
       "      <th>3</th>\n",
       "      <td>1968</td>\n",
       "      <td>Arkansas</td>\n",
       "      <td>0.15625</td>\n",
       "      <td>1.16</td>\n",
       "      <td>1.15</td>\n",
       "      <td>8.55</td>\n",
       "      <td>1.15</td>\n",
       "      <td>8.55</td>\n",
       "      <td>34.8</td>\n",
       "      <td>1.25/day(b)</td>\n",
       "      <td>0.15625</td>\n",
       "      <td>1.16</td>\n",
       "      <td>0.15625</td>\n",
       "      <td>1.16</td>\n",
       "      <td>(b)</td>\n",
       "    </tr>\n",
       "    <tr>\n",
       "      <th>4</th>\n",
       "      <td>1968</td>\n",
       "      <td>California</td>\n",
       "      <td>1.65000</td>\n",
       "      <td>12.26</td>\n",
       "      <td>1.15</td>\n",
       "      <td>8.55</td>\n",
       "      <td>1.65</td>\n",
       "      <td>12.26</td>\n",
       "      <td>34.8</td>\n",
       "      <td>1.65(b)</td>\n",
       "      <td>1.65000</td>\n",
       "      <td>12.26</td>\n",
       "      <td>1.65000</td>\n",
       "      <td>12.26</td>\n",
       "      <td>(b)</td>\n",
       "    </tr>\n",
       "  </tbody>\n",
       "</table>\n",
       "</div>"
      ],
      "text/plain": [
       "   Year       State  State.Minimum.Wage  State.Minimum.Wage.2020.Dollars  \\\n",
       "0  1968     Alabama             0.00000                             0.00   \n",
       "1  1968      Alaska             2.10000                            15.61   \n",
       "2  1968     Arizona             0.46800                             3.48   \n",
       "3  1968    Arkansas             0.15625                             1.16   \n",
       "4  1968  California             1.65000                            12.26   \n",
       "\n",
       "   Federal.Minimum.Wage  Federal.Minimum.Wage.2020.Dollars  \\\n",
       "0                  1.15                               8.55   \n",
       "1                  1.15                               8.55   \n",
       "2                  1.15                               8.55   \n",
       "3                  1.15                               8.55   \n",
       "4                  1.15                               8.55   \n",
       "\n",
       "   Effective.Minimum.Wage  Effective.Minimum.Wage.2020.Dollars  CPI.Average  \\\n",
       "0                    1.15                                 8.55         34.8   \n",
       "1                    2.10                                15.61         34.8   \n",
       "2                    1.15                                 8.55         34.8   \n",
       "3                    1.15                                 8.55         34.8   \n",
       "4                    1.65                                12.26         34.8   \n",
       "\n",
       "  Department.Of.Labor.Uncleaned.Data  Department.Of.Labor.Cleaned.Low.Value  \\\n",
       "0                                ...                                0.00000   \n",
       "1                                2.1                                2.10000   \n",
       "2                18.72 - 26.40/wk(b)                                0.46800   \n",
       "3                        1.25/day(b)                                0.15625   \n",
       "4                            1.65(b)                                1.65000   \n",
       "\n",
       "   Department.Of.Labor.Cleaned.Low.Value.2020.Dollars  \\\n",
       "0                                               0.00    \n",
       "1                                              15.61    \n",
       "2                                               3.48    \n",
       "3                                               1.16    \n",
       "4                                              12.26    \n",
       "\n",
       "   Department.Of.Labor.Cleaned.High.Value  \\\n",
       "0                                 0.00000   \n",
       "1                                 2.10000   \n",
       "2                                 0.66000   \n",
       "3                                 0.15625   \n",
       "4                                 1.65000   \n",
       "\n",
       "   Department.Of.Labor.Cleaned.High.Value.2020.Dollars Footnote  \n",
       "0                                               0.00        NaN  \n",
       "1                                              15.61        NaN  \n",
       "2                                               4.91        (b)  \n",
       "3                                               1.16        (b)  \n",
       "4                                              12.26        (b)  "
      ]
     },
     "execution_count": 4,
     "metadata": {},
     "output_type": "execute_result"
    }
   ],
   "source": [
    "print(\"\\nSecond Dataset Head:\")\n",
    "dataset2.head()"
   ]
  },
  {
   "cell_type": "code",
   "execution_count": 5,
   "id": "cbaa70fd",
   "metadata": {},
   "outputs": [
    {
     "name": "stdout",
     "output_type": "stream",
     "text": [
      "First Dataset Tail:\n"
     ]
    },
    {
     "data": {
      "text/html": [
       "<div>\n",
       "<style scoped>\n",
       "    .dataframe tbody tr th:only-of-type {\n",
       "        vertical-align: middle;\n",
       "    }\n",
       "\n",
       "    .dataframe tbody tr th {\n",
       "        vertical-align: top;\n",
       "    }\n",
       "\n",
       "    .dataframe thead th {\n",
       "        text-align: right;\n",
       "    }\n",
       "</style>\n",
       "<table border=\"1\" class=\"dataframe\">\n",
       "  <thead>\n",
       "    <tr style=\"text-align: right;\">\n",
       "      <th></th>\n",
       "      <th>Year</th>\n",
       "      <th>State</th>\n",
       "      <th>State.Minimum.Wage</th>\n",
       "      <th>State.Minimum.Wage.2020.Dollars</th>\n",
       "      <th>Federal.Minimum.Wage</th>\n",
       "      <th>Federal.Minimum.Wage.2020.Dollars</th>\n",
       "      <th>Effective.Minimum.Wage</th>\n",
       "      <th>Effective.Minimum.Wage.2020.Dollars</th>\n",
       "      <th>CPI.Average</th>\n",
       "      <th>Department.Of.Labor.Uncleaned.Data</th>\n",
       "      <th>Department.Of.Labor.Cleaned.Low.Value</th>\n",
       "      <th>Department.Of.Labor.Cleaned.Low.Value.2020.Dollars</th>\n",
       "      <th>Department.Of.Labor.Cleaned.High.Value</th>\n",
       "      <th>Department.Of.Labor.Cleaned.High.Value.2020.Dollars</th>\n",
       "      <th>Footnote</th>\n",
       "    </tr>\n",
       "  </thead>\n",
       "  <tbody>\n",
       "    <tr>\n",
       "      <th>2857</th>\n",
       "      <td>2020</td>\n",
       "      <td>Virginia</td>\n",
       "      <td>7.25</td>\n",
       "      <td>7.25</td>\n",
       "      <td>7.25</td>\n",
       "      <td>7.25</td>\n",
       "      <td>7.25</td>\n",
       "      <td>7.25</td>\n",
       "      <td>258.66</td>\n",
       "      <td>7.25[c]</td>\n",
       "      <td>7.25</td>\n",
       "      <td>7.25</td>\n",
       "      <td>7.25</td>\n",
       "      <td>7.25</td>\n",
       "      <td>[c]</td>\n",
       "    </tr>\n",
       "    <tr>\n",
       "      <th>2858</th>\n",
       "      <td>2020</td>\n",
       "      <td>Washington</td>\n",
       "      <td>13.50</td>\n",
       "      <td>13.50</td>\n",
       "      <td>7.25</td>\n",
       "      <td>7.25</td>\n",
       "      <td>13.50</td>\n",
       "      <td>13.50</td>\n",
       "      <td>258.66</td>\n",
       "      <td>13.5</td>\n",
       "      <td>13.50</td>\n",
       "      <td>13.50</td>\n",
       "      <td>13.50</td>\n",
       "      <td>13.50</td>\n",
       "      <td>NaN</td>\n",
       "    </tr>\n",
       "    <tr>\n",
       "      <th>2859</th>\n",
       "      <td>2020</td>\n",
       "      <td>West Virginia</td>\n",
       "      <td>8.75</td>\n",
       "      <td>8.75</td>\n",
       "      <td>7.25</td>\n",
       "      <td>7.25</td>\n",
       "      <td>8.75</td>\n",
       "      <td>8.75</td>\n",
       "      <td>258.66</td>\n",
       "      <td>8.75</td>\n",
       "      <td>8.75</td>\n",
       "      <td>8.75</td>\n",
       "      <td>8.75</td>\n",
       "      <td>8.75</td>\n",
       "      <td>NaN</td>\n",
       "    </tr>\n",
       "    <tr>\n",
       "      <th>2860</th>\n",
       "      <td>2020</td>\n",
       "      <td>Wisconsin</td>\n",
       "      <td>7.25</td>\n",
       "      <td>7.25</td>\n",
       "      <td>7.25</td>\n",
       "      <td>7.25</td>\n",
       "      <td>7.25</td>\n",
       "      <td>7.25</td>\n",
       "      <td>258.66</td>\n",
       "      <td>7.25</td>\n",
       "      <td>7.25</td>\n",
       "      <td>7.25</td>\n",
       "      <td>7.25</td>\n",
       "      <td>7.25</td>\n",
       "      <td>NaN</td>\n",
       "    </tr>\n",
       "    <tr>\n",
       "      <th>2861</th>\n",
       "      <td>2020</td>\n",
       "      <td>Wyoming</td>\n",
       "      <td>5.15</td>\n",
       "      <td>5.15</td>\n",
       "      <td>7.25</td>\n",
       "      <td>7.25</td>\n",
       "      <td>7.25</td>\n",
       "      <td>7.25</td>\n",
       "      <td>258.66</td>\n",
       "      <td>5.15</td>\n",
       "      <td>5.15</td>\n",
       "      <td>5.15</td>\n",
       "      <td>5.15</td>\n",
       "      <td>5.15</td>\n",
       "      <td>NaN</td>\n",
       "    </tr>\n",
       "  </tbody>\n",
       "</table>\n",
       "</div>"
      ],
      "text/plain": [
       "      Year          State  State.Minimum.Wage  \\\n",
       "2857  2020       Virginia                7.25   \n",
       "2858  2020     Washington               13.50   \n",
       "2859  2020  West Virginia                8.75   \n",
       "2860  2020      Wisconsin                7.25   \n",
       "2861  2020        Wyoming                5.15   \n",
       "\n",
       "      State.Minimum.Wage.2020.Dollars  Federal.Minimum.Wage  \\\n",
       "2857                             7.25                  7.25   \n",
       "2858                            13.50                  7.25   \n",
       "2859                             8.75                  7.25   \n",
       "2860                             7.25                  7.25   \n",
       "2861                             5.15                  7.25   \n",
       "\n",
       "      Federal.Minimum.Wage.2020.Dollars  Effective.Minimum.Wage  \\\n",
       "2857                               7.25                    7.25   \n",
       "2858                               7.25                   13.50   \n",
       "2859                               7.25                    8.75   \n",
       "2860                               7.25                    7.25   \n",
       "2861                               7.25                    7.25   \n",
       "\n",
       "      Effective.Minimum.Wage.2020.Dollars  CPI.Average  \\\n",
       "2857                                 7.25       258.66   \n",
       "2858                                13.50       258.66   \n",
       "2859                                 8.75       258.66   \n",
       "2860                                 7.25       258.66   \n",
       "2861                                 7.25       258.66   \n",
       "\n",
       "     Department.Of.Labor.Uncleaned.Data  \\\n",
       "2857                            7.25[c]   \n",
       "2858                               13.5   \n",
       "2859                               8.75   \n",
       "2860                               7.25   \n",
       "2861                               5.15   \n",
       "\n",
       "      Department.Of.Labor.Cleaned.Low.Value  \\\n",
       "2857                                   7.25   \n",
       "2858                                  13.50   \n",
       "2859                                   8.75   \n",
       "2860                                   7.25   \n",
       "2861                                   5.15   \n",
       "\n",
       "      Department.Of.Labor.Cleaned.Low.Value.2020.Dollars  \\\n",
       "2857                                               7.25    \n",
       "2858                                              13.50    \n",
       "2859                                               8.75    \n",
       "2860                                               7.25    \n",
       "2861                                               5.15    \n",
       "\n",
       "      Department.Of.Labor.Cleaned.High.Value  \\\n",
       "2857                                    7.25   \n",
       "2858                                   13.50   \n",
       "2859                                    8.75   \n",
       "2860                                    7.25   \n",
       "2861                                    5.15   \n",
       "\n",
       "      Department.Of.Labor.Cleaned.High.Value.2020.Dollars Footnote  \n",
       "2857                                               7.25        [c]  \n",
       "2858                                              13.50        NaN  \n",
       "2859                                               8.75        NaN  \n",
       "2860                                               7.25        NaN  \n",
       "2861                                               5.15        NaN  "
      ]
     },
     "execution_count": 5,
     "metadata": {},
     "output_type": "execute_result"
    }
   ],
   "source": [
    "print(\"First Dataset Tail:\")\n",
    "dataset2.tail()"
   ]
  },
  {
   "cell_type": "code",
   "execution_count": 6,
   "id": "d7059a36",
   "metadata": {},
   "outputs": [
    {
     "name": "stdout",
     "output_type": "stream",
     "text": [
      "Third Dataset Head:\n"
     ]
    },
    {
     "data": {
      "text/html": [
       "<div>\n",
       "<style scoped>\n",
       "    .dataframe tbody tr th:only-of-type {\n",
       "        vertical-align: middle;\n",
       "    }\n",
       "\n",
       "    .dataframe tbody tr th {\n",
       "        vertical-align: top;\n",
       "    }\n",
       "\n",
       "    .dataframe thead th {\n",
       "        text-align: right;\n",
       "    }\n",
       "</style>\n",
       "<table border=\"1\" class=\"dataframe\">\n",
       "  <thead>\n",
       "    <tr style=\"text-align: right;\">\n",
       "      <th></th>\n",
       "      <th>date</th>\n",
       "      <th>unrate</th>\n",
       "      <th>unrate_men</th>\n",
       "      <th>unrate_women</th>\n",
       "      <th>unrate_16_to_17</th>\n",
       "      <th>unrate_18_to_19</th>\n",
       "      <th>unrate_20_to_24</th>\n",
       "      <th>unrate_25_to_34</th>\n",
       "      <th>unrate_35_to_44</th>\n",
       "      <th>unrate_45_to_54</th>\n",
       "      <th>unrate_55_over</th>\n",
       "    </tr>\n",
       "  </thead>\n",
       "  <tbody>\n",
       "    <tr>\n",
       "      <th>0</th>\n",
       "      <td>1/1/1948</td>\n",
       "      <td>4.0</td>\n",
       "      <td>4.2</td>\n",
       "      <td>3.5</td>\n",
       "      <td>10.8</td>\n",
       "      <td>9.6</td>\n",
       "      <td>6.6</td>\n",
       "      <td>3.6</td>\n",
       "      <td>2.6</td>\n",
       "      <td>2.7</td>\n",
       "      <td>3.6</td>\n",
       "    </tr>\n",
       "    <tr>\n",
       "      <th>1</th>\n",
       "      <td>2/1/1948</td>\n",
       "      <td>4.7</td>\n",
       "      <td>4.7</td>\n",
       "      <td>4.8</td>\n",
       "      <td>15.0</td>\n",
       "      <td>9.5</td>\n",
       "      <td>8.0</td>\n",
       "      <td>4.0</td>\n",
       "      <td>3.2</td>\n",
       "      <td>3.4</td>\n",
       "      <td>4.0</td>\n",
       "    </tr>\n",
       "    <tr>\n",
       "      <th>2</th>\n",
       "      <td>3/1/1948</td>\n",
       "      <td>4.5</td>\n",
       "      <td>4.5</td>\n",
       "      <td>4.4</td>\n",
       "      <td>13.2</td>\n",
       "      <td>9.3</td>\n",
       "      <td>8.6</td>\n",
       "      <td>3.5</td>\n",
       "      <td>3.2</td>\n",
       "      <td>2.9</td>\n",
       "      <td>3.5</td>\n",
       "    </tr>\n",
       "    <tr>\n",
       "      <th>3</th>\n",
       "      <td>4/1/1948</td>\n",
       "      <td>4.0</td>\n",
       "      <td>4.0</td>\n",
       "      <td>4.1</td>\n",
       "      <td>9.9</td>\n",
       "      <td>8.1</td>\n",
       "      <td>6.8</td>\n",
       "      <td>3.5</td>\n",
       "      <td>3.1</td>\n",
       "      <td>2.9</td>\n",
       "      <td>3.2</td>\n",
       "    </tr>\n",
       "    <tr>\n",
       "      <th>4</th>\n",
       "      <td>5/1/1948</td>\n",
       "      <td>3.4</td>\n",
       "      <td>3.3</td>\n",
       "      <td>3.4</td>\n",
       "      <td>6.4</td>\n",
       "      <td>7.2</td>\n",
       "      <td>6.3</td>\n",
       "      <td>2.8</td>\n",
       "      <td>2.5</td>\n",
       "      <td>2.3</td>\n",
       "      <td>2.9</td>\n",
       "    </tr>\n",
       "  </tbody>\n",
       "</table>\n",
       "</div>"
      ],
      "text/plain": [
       "       date  unrate  unrate_men  unrate_women  unrate_16_to_17  \\\n",
       "0  1/1/1948     4.0         4.2           3.5             10.8   \n",
       "1  2/1/1948     4.7         4.7           4.8             15.0   \n",
       "2  3/1/1948     4.5         4.5           4.4             13.2   \n",
       "3  4/1/1948     4.0         4.0           4.1              9.9   \n",
       "4  5/1/1948     3.4         3.3           3.4              6.4   \n",
       "\n",
       "   unrate_18_to_19  unrate_20_to_24  unrate_25_to_34  unrate_35_to_44  \\\n",
       "0              9.6              6.6              3.6              2.6   \n",
       "1              9.5              8.0              4.0              3.2   \n",
       "2              9.3              8.6              3.5              3.2   \n",
       "3              8.1              6.8              3.5              3.1   \n",
       "4              7.2              6.3              2.8              2.5   \n",
       "\n",
       "   unrate_45_to_54  unrate_55_over  \n",
       "0              2.7             3.6  \n",
       "1              3.4             4.0  \n",
       "2              2.9             3.5  \n",
       "3              2.9             3.2  \n",
       "4              2.3             2.9  "
      ]
     },
     "execution_count": 6,
     "metadata": {},
     "output_type": "execute_result"
    }
   ],
   "source": [
    "print(\"Third Dataset Head:\")\n",
    "dataset3.head()"
   ]
  },
  {
   "cell_type": "code",
   "execution_count": 7,
   "id": "b66bcc70",
   "metadata": {},
   "outputs": [
    {
     "name": "stdout",
     "output_type": "stream",
     "text": [
      "Third Dataset Tail:\n"
     ]
    },
    {
     "data": {
      "text/html": [
       "<div>\n",
       "<style scoped>\n",
       "    .dataframe tbody tr th:only-of-type {\n",
       "        vertical-align: middle;\n",
       "    }\n",
       "\n",
       "    .dataframe tbody tr th {\n",
       "        vertical-align: top;\n",
       "    }\n",
       "\n",
       "    .dataframe thead th {\n",
       "        text-align: right;\n",
       "    }\n",
       "</style>\n",
       "<table border=\"1\" class=\"dataframe\">\n",
       "  <thead>\n",
       "    <tr style=\"text-align: right;\">\n",
       "      <th></th>\n",
       "      <th>date</th>\n",
       "      <th>unrate</th>\n",
       "      <th>unrate_men</th>\n",
       "      <th>unrate_women</th>\n",
       "      <th>unrate_16_to_17</th>\n",
       "      <th>unrate_18_to_19</th>\n",
       "      <th>unrate_20_to_24</th>\n",
       "      <th>unrate_25_to_34</th>\n",
       "      <th>unrate_35_to_44</th>\n",
       "      <th>unrate_45_to_54</th>\n",
       "      <th>unrate_55_over</th>\n",
       "    </tr>\n",
       "  </thead>\n",
       "  <tbody>\n",
       "    <tr>\n",
       "      <th>882</th>\n",
       "      <td>7/1/2021</td>\n",
       "      <td>5.7</td>\n",
       "      <td>5.5</td>\n",
       "      <td>5.8</td>\n",
       "      <td>12.8</td>\n",
       "      <td>9.9</td>\n",
       "      <td>9.5</td>\n",
       "      <td>6.3</td>\n",
       "      <td>4.8</td>\n",
       "      <td>4.0</td>\n",
       "      <td>4.6</td>\n",
       "    </tr>\n",
       "    <tr>\n",
       "      <th>883</th>\n",
       "      <td>8/1/2021</td>\n",
       "      <td>5.3</td>\n",
       "      <td>5.1</td>\n",
       "      <td>5.5</td>\n",
       "      <td>10.7</td>\n",
       "      <td>11.0</td>\n",
       "      <td>9.1</td>\n",
       "      <td>5.8</td>\n",
       "      <td>4.4</td>\n",
       "      <td>4.2</td>\n",
       "      <td>4.1</td>\n",
       "    </tr>\n",
       "    <tr>\n",
       "      <th>884</th>\n",
       "      <td>9/1/2021</td>\n",
       "      <td>4.6</td>\n",
       "      <td>4.6</td>\n",
       "      <td>4.5</td>\n",
       "      <td>9.2</td>\n",
       "      <td>12.6</td>\n",
       "      <td>7.7</td>\n",
       "      <td>5.0</td>\n",
       "      <td>3.8</td>\n",
       "      <td>3.7</td>\n",
       "      <td>3.3</td>\n",
       "    </tr>\n",
       "    <tr>\n",
       "      <th>885</th>\n",
       "      <td>10/1/2021</td>\n",
       "      <td>4.3</td>\n",
       "      <td>4.2</td>\n",
       "      <td>4.4</td>\n",
       "      <td>8.6</td>\n",
       "      <td>12.7</td>\n",
       "      <td>6.8</td>\n",
       "      <td>4.5</td>\n",
       "      <td>3.6</td>\n",
       "      <td>3.5</td>\n",
       "      <td>3.3</td>\n",
       "    </tr>\n",
       "    <tr>\n",
       "      <th>886</th>\n",
       "      <td>11/1/2021</td>\n",
       "      <td>3.9</td>\n",
       "      <td>3.9</td>\n",
       "      <td>3.9</td>\n",
       "      <td>9.7</td>\n",
       "      <td>11.0</td>\n",
       "      <td>6.6</td>\n",
       "      <td>3.8</td>\n",
       "      <td>3.6</td>\n",
       "      <td>2.8</td>\n",
       "      <td>3.1</td>\n",
       "    </tr>\n",
       "  </tbody>\n",
       "</table>\n",
       "</div>"
      ],
      "text/plain": [
       "          date  unrate  unrate_men  unrate_women  unrate_16_to_17  \\\n",
       "882   7/1/2021     5.7         5.5           5.8             12.8   \n",
       "883   8/1/2021     5.3         5.1           5.5             10.7   \n",
       "884   9/1/2021     4.6         4.6           4.5              9.2   \n",
       "885  10/1/2021     4.3         4.2           4.4              8.6   \n",
       "886  11/1/2021     3.9         3.9           3.9              9.7   \n",
       "\n",
       "     unrate_18_to_19  unrate_20_to_24  unrate_25_to_34  unrate_35_to_44  \\\n",
       "882              9.9              9.5              6.3              4.8   \n",
       "883             11.0              9.1              5.8              4.4   \n",
       "884             12.6              7.7              5.0              3.8   \n",
       "885             12.7              6.8              4.5              3.6   \n",
       "886             11.0              6.6              3.8              3.6   \n",
       "\n",
       "     unrate_45_to_54  unrate_55_over  \n",
       "882              4.0             4.6  \n",
       "883              4.2             4.1  \n",
       "884              3.7             3.3  \n",
       "885              3.5             3.3  \n",
       "886              2.8             3.1  "
      ]
     },
     "execution_count": 7,
     "metadata": {},
     "output_type": "execute_result"
    }
   ],
   "source": [
    "print(\"Third Dataset Tail:\")\n",
    "dataset3.tail()"
   ]
  },
  {
   "cell_type": "code",
   "execution_count": 8,
   "id": "74dcc1bf",
   "metadata": {},
   "outputs": [],
   "source": [
    "dataset1['Immigrants Obtaining Lawful Permanent Resident Status'] = dataset1['Immigrants Obtaining Lawful Permanent Resident Status'].str.replace(',', '').astype(int)"
   ]
  },
  {
   "cell_type": "code",
   "execution_count": 9,
   "id": "bade9165",
   "metadata": {
    "scrolled": false
   },
   "outputs": [
    {
     "name": "stderr",
     "output_type": "stream",
     "text": [
      "c:\\Users\\Mouad\\anaconda3\\Lib\\site-packages\\seaborn\\_oldcore.py:1119: FutureWarning: use_inf_as_na option is deprecated and will be removed in a future version. Convert inf values to NaN before operating instead.\n",
      "  with pd.option_context('mode.use_inf_as_na', True):\n",
      "c:\\Users\\Mouad\\anaconda3\\Lib\\site-packages\\seaborn\\_oldcore.py:1119: FutureWarning: use_inf_as_na option is deprecated and will be removed in a future version. Convert inf values to NaN before operating instead.\n",
      "  with pd.option_context('mode.use_inf_as_na', True):\n"
     ]
    },
    {
     "data": {
      "image/png": "[encoded data removed]",
      "text/plain": [
       "<Figure size 1000x600 with 1 Axes>"
      ]
     },
     "metadata": {},
     "output_type": "display_data"
    }
   ],
   "source": [
    "plt.figure(figsize=(10, 6))\n",
    "sns.lineplot(x='ï»¿Year', y='Immigrants Obtaining Lawful Permanent Resident Status', data=dataset1)\n",
    "plt.title('Trend of Immigrants Obtaining Lawful Permanent Resident Status')\n",
    "plt.xlabel('Year')\n",
    "plt.ylabel('Number of Immigrants')\n",
    "plt.show()"
   ]
  },
  {
   "cell_type": "markdown",
   "id": "53bfae35",
   "metadata": {},
   "source": [
    "Uit deze grafiek blijkt dat er grote fluctuaties zijn in het aantal \"Immigrants Obtaining Lawful Permanent Resident Status\". Vooral rond 1990 is er een duidelijke piek te zien. Dit kan wijzen op beleidswijzigingen of andere socio-economische factoren die de immigratie in die periode hebben beïnvloed."
   ]
  },
  {
   "cell_type": "code",
   "execution_count": 10,
   "id": "446617e1",
   "metadata": {
    "scrolled": false
   },
   "outputs": [
    {
     "data": {
      "image/png": "[encoded data removed]",
      "text/plain": [
       "<Figure size 1400x800 with 1 Axes>"
      ]
     },
     "metadata": {},
     "output_type": "display_data"
    }
   ],
   "source": [
    "dataset1.columns = dataset1.columns.str.strip()\n",
    "\n",
    "columns_to_convert = [\n",
    "    'Immigrants Obtaining Lawful Permanent Resident Status', \n",
    "    'Refugee Arrivals', \n",
    "    'Noncitizen Apprehensions', \n",
    "    'Noncitizen Removals', \n",
    "    'Noncitizen Returns'\n",
    "]\n",
    "\n",
    "for column in columns_to_convert:\n",
    "    dataset1[column] = dataset1[column].apply(lambda x: int(str(x).replace(',', '')) if pd.notnull(x) else x)\n",
    "\n",
    "merged_data = pd.merge(dataset1, dataset2, left_on='ï»¿Year', right_on='Year')\n",
    "\n",
    "grouped_data = merged_data[['ï»¿Year', 'Immigrants Obtaining Lawful Permanent Resident Status', 'Refugee Arrivals']]\n",
    "grouped_data = grouped_data.melt(id_vars=['ï»¿Year'], value_vars=['Immigrants Obtaining Lawful Permanent Resident Status', 'Refugee Arrivals'], \n",
    "                                 var_name='Category', value_name='Number of People')\n",
    "\n",
    "plt.figure(figsize=(14, 8))\n",
    "sns.barplot(x='ï»¿Year', y='Number of People', hue='Category', data=grouped_data)\n",
    "plt.title('Total Immigrants and Refugee Arrivals Each Year')\n",
    "plt.xlabel('Year')\n",
    "plt.ylabel('Number of People')\n",
    "plt.xticks(rotation=90)\n",
    "plt.legend(title='Category')\n",
    "plt.show()"
   ]
  },
  {
   "cell_type": "markdown",
   "id": "d964f02d",
   "metadata": {},
   "source": [
    "Deze grafiek toont een vergelijking tussen \"Immigrants Obtaining Lawful Permanent Resident Status\" en \"Refugee Arrivals\". De gegevens laten zien dat het aantal \"Refugee Arrivals\" relatief klein is in vergelijking met het totale aantal \"Immigrants Obtaining Lawful Permanent Resident Status\". Dit geeft een beter zicht op de relatieve schaal van deze twee categorieën binnen de totale immigratie."
   ]
  },
  {
   "cell_type": "code",
   "execution_count": 11,
   "id": "3934fd59",
   "metadata": {},
   "outputs": [
    {
     "name": "stderr",
     "output_type": "stream",
     "text": [
      "c:\\Users\\Mouad\\anaconda3\\Lib\\site-packages\\seaborn\\_oldcore.py:1119: FutureWarning: use_inf_as_na option is deprecated and will be removed in a future version. Convert inf values to NaN before operating instead.\n",
      "  with pd.option_context('mode.use_inf_as_na', True):\n",
      "c:\\Users\\Mouad\\anaconda3\\Lib\\site-packages\\seaborn\\_oldcore.py:1119: FutureWarning: use_inf_as_na option is deprecated and will be removed in a future version. Convert inf values to NaN before operating instead.\n",
      "  with pd.option_context('mode.use_inf_as_na', True):\n"
     ]
    },
    {
     "data": {
      "image/png": "[encoded data removed]",
      "text/plain": [
       "<Figure size 1000x600 with 1 Axes>"
      ]
     },
     "metadata": {},
     "output_type": "display_data"
    }
   ],
   "source": [
    "plt.figure(figsize=(10, 6))\n",
    "sns.lineplot(x='Year', y='CPI.Average', data=dataset2)\n",
    "plt.title('Minimum Wage Trends Over Time')\n",
    "plt.xlabel('Year')\n",
    "plt.ylabel('CPI Average')\n",
    "plt.show()"
   ]
  },
  {
   "cell_type": "markdown",
   "id": "8649188c",
   "metadata": {},
   "source": [
    "De grafiek toont een gelijkmatige stijging van het gemiddelde CPI (Consumentenprijsindex) over de jaren, wat aangeeft dat het minimumloon over tijd is verhoogd. Dit kan wijzen op inflatiecorrecties en beleidsmaatregelen die gericht zijn op het verbeteren van het loonpeil.\n",
    "Gestapelde Staafdiagram van Genormaliseerde Immigranten die de Status van Wettig Permanent Ingezetene Verkrijgen en Minimumloon"
   ]
  },
  {
   "cell_type": "code",
   "execution_count": 12,
   "id": "04bd3149",
   "metadata": {},
   "outputs": [
    {
     "data": {
      "image/png": "[encoded data removed]",
      "text/plain": [
       "<Figure size 1400x800 with 1 Axes>"
      ]
     },
     "metadata": {},
     "output_type": "display_data"
    }
   ],
   "source": [
    "for column in columns_to_convert:\n",
    "    dataset1[column] = dataset1[column].apply(lambda x: int(str(x).replace(',', '')) if pd.notnull(x) else x)\n",
    "\n",
    "merged_data = pd.merge(dataset1, dataset2, left_on='ï»¿Year', right_on='Year')\n",
    "\n",
    "merged_data['Normalized Immigrants'] = merged_data['Immigrants Obtaining Lawful Permanent Resident Status'] / merged_data['Immigrants Obtaining Lawful Permanent Resident Status'].max()\n",
    "merged_data['Normalized Minimum Wage'] = merged_data['State.Minimum.Wage.2020.Dollars'] / merged_data['State.Minimum.Wage.2020.Dollars'].max()\n",
    "\n",
    "bar_data = merged_data[['ï»¿Year', 'Normalized Immigrants', 'Normalized Minimum Wage']]\n",
    "bar_data = bar_data.melt(id_vars=['ï»¿Year'], value_vars=['Normalized Immigrants', 'Normalized Minimum Wage'], \n",
    "                         var_name='Category', value_name='Normalized Value')\n",
    "\n",
    "plt.figure(figsize=(14, 8))\n",
    "sns.barplot(x='ï»¿Year', y='Normalized Value', hue='Category', data=bar_data)\n",
    "plt.title('Normalized Immigrants Obtaining Lawful Permanent Resident Status and Minimum Wage Over Time')\n",
    "plt.xlabel('Year')\n",
    "plt.ylabel('Normalized Value')\n",
    "plt.xticks(rotation=90)\n",
    "plt.legend(title='Category')\n",
    "plt.show()"
   ]
  },
  {
   "cell_type": "markdown",
   "id": "b35b9778",
   "metadata": {},
   "source": [
    "De genormaliseerde waarden maken het mogelijk om de trends van beide variabelen (immigranten en minimumloon) over tijd te vergelijken. Het laat zien dat hoewel de waarden verschillen in schaal, er een algemene trend van stijging is voor beide variabelen, wat suggereert dat beide factoren mogelijk in verband zijn met de economische omstandigheden."
   ]
  },
  {
   "cell_type": "code",
   "execution_count": 13,
   "id": "d21a7766",
   "metadata": {},
   "outputs": [
    {
     "name": "stderr",
     "output_type": "stream",
     "text": [
      "c:\\Users\\Mouad\\anaconda3\\Lib\\site-packages\\seaborn\\_oldcore.py:1119: FutureWarning: use_inf_as_na option is deprecated and will be removed in a future version. Convert inf values to NaN before operating instead.\n",
      "  with pd.option_context('mode.use_inf_as_na', True):\n",
      "c:\\Users\\Mouad\\anaconda3\\Lib\\site-packages\\seaborn\\_oldcore.py:1119: FutureWarning: use_inf_as_na option is deprecated and will be removed in a future version. Convert inf values to NaN before operating instead.\n",
      "  with pd.option_context('mode.use_inf_as_na', True):\n"
     ]
    },
    {
     "data": {
      "image/png": "[encoded data removed]",
      "text/plain": [
       "<Figure size 1000x600 with 1 Axes>"
      ]
     },
     "metadata": {},
     "output_type": "display_data"
    }
   ],
   "source": [
    "for column in columns_to_convert:\n",
    "    dataset1[column] = dataset1[column].apply(lambda x: int(str(x).replace(',', '')) if pd.notnull(x) else x)\n",
    "\n",
    "merged_data = pd.merge(dataset1, dataset2, left_on='ï»¿Year', right_on='Year')\n",
    "\n",
    "plt.figure(figsize=(10, 6))\n",
    "sns.lineplot(x='ï»¿Year', y='Noncitizen Apprehensions', data=dataset1)\n",
    "plt.title('Trend of Noncitizen Apprehensions Over Time')\n",
    "plt.xlabel('Year')\n",
    "plt.ylabel('Noncitizen Apprehensions')\n",
    "plt.show()"
   ]
  },
  {
   "cell_type": "markdown",
   "id": "7bfb0fd0",
   "metadata": {},
   "source": [
    "Deze grafiek toont de trends in het aantal aanhoudingen van niet-burgers. De data laten zien dat er pieken en dalen zijn geweest, met name rond 1990 en een opmerkelijke piek na 2020. Dit kan wijzen op veranderende immigratiehandhavingsstrategieën of externe factoren zoals politieke veranderingen en crises."
   ]
  },
  {
   "cell_type": "code",
   "execution_count": 15,
   "id": "aa440dc4",
   "metadata": {},
   "outputs": [
    {
     "data": {
      "application/vnd.plotly.v1+json": {
       "config": {
        "plotlyServerURL": "https://plot.ly"
       },
       "data": [
        {
         "box": {
          "visible": false
         },
         "meanline": {
          "visible": true
         },
         "name": "1968",
         "type": "violin",
         "y": [
          0,
          15.61,
          3.48,
          1.16,
          12.26,
          7.43,
          10.41,
          9.29,
          9.29,
          0,
          0,
          9.29,
          9.29,
          8.55,
          0,
          8.55,
          0,
          0,
          4.83,
          0,
          10.41,
          7.43,
          11.89,
          9.29,
          5.2,
          0,
          0,
          0,
          7.43,
          9.29,
          10.41,
          10.41,
          8.55,
          11.89,
          7.43,
          7.43,
          5.57,
          7.43,
          9.29,
          8.55,
          3.2,
          10.41,
          0,
          3.16,
          0,
          0,
          0,
          7.43,
          10.41,
          0,
          11.89,
          7.43,
          9.29,
          8.92
         ]
        }
       ],
       "frames": [
        {
         "data": [
          {
           "box": {
            "visible": false
           },
           "meanline": {
            "visible": true
           },
           "type": "violin",
           "y": [
            0,
            15.61,
            3.48,
            1.16,
            12.26,
            7.43,
            10.41,
            9.29,
            9.29,
            0,
            0,
            9.29,
            9.29,
            8.55,
            0,
            8.55,
            0,
            0,
            4.83,
            0,
            10.41,
            7.43,
            11.89,
            9.29,
            5.2,
            0,
            0,
            0,
            7.43,
            9.29,
            10.41,
            10.41,
            8.55,
            11.89,
            7.43,
            7.43,
            5.57,
            7.43,
            9.29,
            8.55,
            3.2,
            10.41,
            0,
            3.16,
            0,
            0,
            0,
            7.43,
            10.41,
            0,
            11.89,
            7.43,
            9.29,
            8.92
           ]
          }
         ],
         "name": "1968"
        },
        {
         "data": [
          {
           "box": {
            "visible": false
           },
           "meanline": {
            "visible": true
           },
           "type": "violin",
           "y": [
            0,
            14.8,
            3.3,
            1.1,
            11.63,
            7.05,
            9.87,
            8.81,
            8.81,
            0,
            0,
            8.81,
            8.81,
            8.11,
            0,
            8.11,
            0,
            0,
            4.58,
            0,
            9.87,
            7.05,
            11.28,
            8.81,
            4.93,
            0,
            0,
            0,
            7.05,
            8.81,
            9.87,
            9.87,
            8.11,
            11.28,
            7.05,
            7.05,
            5.29,
            7.05,
            8.81,
            8.11,
            3.03,
            9.87,
            0,
            3,
            0,
            0,
            0,
            7.05,
            9.87,
            0,
            11.28,
            7.05,
            8.81,
            8.46
           ]
          }
         ],
         "name": "1969"
        },
        {
         "data": [
          {
           "box": {
            "visible": false
           },
           "meanline": {
            "visible": true
           },
           "type": "violin",
           "y": [
            0,
            14,
            3.12,
            7.33,
            11,
            6.67,
            10.67,
            8.33,
            10.67,
            0,
            0,
            10.67,
            10.67,
            8.33,
            0,
            8.33,
            0,
            0,
            4.33,
            0,
            10.67,
            8.67,
            10.67,
            8.33,
            4.67,
            0,
            0,
            0,
            6.67,
            8.67,
            9.67,
            10,
            8.67,
            10.67,
            8.33,
            6.67,
            5,
            6.67,
            8.33,
            8.67,
            2.87,
            10.67,
            0,
            6.67,
            0,
            0,
            0,
            6.67,
            10.67,
            0,
            10.67,
            6.67,
            8.67,
            8.67
           ]
          }
         ],
         "name": "1970"
        },
        {
         "data": [
          {
           "box": {
            "visible": false
           },
           "meanline": {
            "visible": true
           },
           "type": "violin",
           "y": [
            0,
            13.41,
            2.99,
            7.03,
            10.54,
            6.39,
            10.22,
            7.98,
            10.22,
            0,
            0,
            10.22,
            10.22,
            7.98,
            0,
            7.98,
            0,
            0,
            4.15,
            0,
            10.22,
            8.3,
            10.22,
            7.98,
            4.47,
            0,
            0,
            0,
            6.39,
            8.3,
            9.26,
            9.58,
            8.3,
            10.22,
            7.98,
            6.39,
            4.79,
            6.39,
            7.98,
            8.3,
            2.75,
            10.22,
            0,
            6.39,
            0,
            0,
            0,
            6.39,
            10.22,
            0,
            10.22,
            6.39,
            8.3,
            8.3
           ]
          }
         ],
         "name": "1971"
        },
        {
         "data": [
          {
           "box": {
            "visible": false
           },
           "meanline": {
            "visible": true
           },
           "type": "violin",
           "y": [
            0,
            12.99,
            2.9,
            7.43,
            10.21,
            6.19,
            11.45,
            9.9,
            9.9,
            0,
            7.74,
            11.76,
            9.9,
            8.66,
            8.66,
            7.74,
            0,
            0,
            4.02,
            0,
            8.66,
            9.9,
            10.83,
            9.9,
            4.64,
            0,
            0,
            9.9,
            6.19,
            9.9,
            9.9,
            9.28,
            8.04,
            11.45,
            8.97,
            6.19,
            4.64,
            8.66,
            7.74,
            9.9,
            4.02,
            9.9,
            0,
            6.19,
            0,
            8.66,
            0,
            7.43,
            9.9,
            0,
            9.9,
            7.43,
            8.97,
            9.28
           ]
          }
         ],
         "name": "1972"
        },
        {
         "data": [
          {
           "box": {
            "visible": false
           },
           "meanline": {
            "visible": true
           },
           "type": "violin",
           "y": [
            0,
            12.23,
            2.73,
            6.99,
            9.61,
            5.83,
            10.78,
            9.32,
            9.32,
            0,
            7.28,
            11.07,
            9.32,
            8.16,
            8.16,
            7.28,
            0,
            0,
            3.79,
            0,
            8.16,
            9.32,
            10.19,
            9.32,
            4.37,
            0,
            0,
            9.32,
            5.83,
            9.32,
            9.32,
            8.74,
            7.57,
            10.78,
            8.45,
            5.83,
            4.37,
            8.16,
            7.28,
            9.32,
            3.79,
            9.32,
            0,
            5.83,
            0,
            8.16,
            0,
            6.99,
            9.32,
            0,
            9.32,
            6.99,
            8.45,
            8.74
           ]
          }
         ],
         "name": "1973"
        },
        {
         "data": [
          {
           "box": {
            "visible": false
           },
           "meanline": {
            "visible": true
           },
           "type": "violin",
           "y": [
            0,
            11.02,
            2.46,
            6.3,
            8.66,
            5.25,
            9.71,
            8.39,
            8.39,
            0,
            6.56,
            9.97,
            8.39,
            7.35,
            7.35,
            6.56,
            0,
            0,
            3.41,
            0,
            7.35,
            8.39,
            9.18,
            8.39,
            3.93,
            0,
            0,
            8.39,
            5.25,
            8.39,
            8.39,
            7.87,
            6.82,
            9.71,
            7.61,
            5.25,
            3.93,
            7.35,
            6.56,
            8.39,
            3.41,
            8.39,
            0,
            5.25,
            0,
            7.35,
            0,
            6.3,
            8.39,
            0,
            8.39,
            6.3,
            7.61,
            7.87
           ]
          }
         ],
         "name": "1974"
        },
        {
         "data": [
          {
           "box": {
            "visible": false
           },
           "meanline": {
            "visible": true
           },
           "type": "violin",
           "y": [
            0,
            10.1,
            2.25,
            5.77,
            7.93,
            4.81,
            8.89,
            7.69,
            7.69,
            0,
            6.01,
            9.13,
            7.69,
            6.73,
            6.73,
            6.01,
            0,
            0,
            3.13,
            0,
            6.73,
            7.69,
            8.41,
            7.69,
            3.61,
            0,
            0,
            7.69,
            4.81,
            7.69,
            7.69,
            7.21,
            6.25,
            8.89,
            6.97,
            4.81,
            3.61,
            6.73,
            6.01,
            7.69,
            3.13,
            7.69,
            0,
            4.81,
            0,
            6.73,
            0,
            5.77,
            7.69,
            0,
            7.69,
            5.77,
            6.97,
            7.21
           ]
          }
         ],
         "name": "1975"
        },
        {
         "data": [
          {
           "box": {
            "visible": false
           },
           "meanline": {
            "visible": true
           },
           "type": "violin",
           "y": [
            0,
            12.73,
            0,
            8.64,
            9.09,
            4.55,
            10.05,
            9.09,
            10.23,
            0,
            5.68,
            10.46,
            10.91,
            7.27,
            9.55,
            5.68,
            0,
            0,
            7.27,
            0,
            10.46,
            10,
            9.55,
            10,
            8.18,
            0,
            0,
            8.18,
            7.27,
            10,
            10,
            10,
            9.09,
            10.46,
            9.09,
            9.09,
            7.27,
            8.18,
            10.46,
            10,
            3.45,
            10.46,
            0,
            9.09,
            0,
            6.36,
            0,
            7.05,
            10.46,
            9.09,
            10,
            9.09,
            9.55,
            7.27
           ]
          }
         ],
         "name": "1976"
        },
        {
         "data": [
          {
           "box": {
            "visible": false
           },
           "meanline": {
            "visible": true
           },
           "type": "violin",
           "y": [
            0,
            11.95,
            0,
            8.11,
            8.54,
            4.27,
            9.43,
            8.54,
            9.6,
            0,
            5.34,
            9.82,
            10.24,
            6.83,
            8.96,
            5.34,
            0,
            0,
            6.83,
            0,
            9.82,
            9.39,
            8.96,
            9.39,
            7.68,
            0,
            0,
            7.68,
            6.83,
            9.39,
            9.39,
            9.39,
            8.54,
            9.82,
            8.54,
            8.54,
            6.83,
            7.68,
            9.82,
            9.39,
            3.24,
            9.82,
            0,
            8.54,
            0,
            5.98,
            0,
            6.62,
            9.82,
            8.54,
            9.39,
            8.54,
            8.96,
            6.83
           ]
          }
         ],
         "name": "1977"
        },
        {
         "data": [
          {
           "box": {
            "visible": false
           },
           "meanline": {
            "visible": true
           },
           "type": "violin",
           "y": [
            0,
            11.11,
            0,
            7.54,
            7.93,
            3.97,
            8.77,
            7.93,
            8.93,
            0,
            4.96,
            9.12,
            9.52,
            6.35,
            8.33,
            4.96,
            0,
            0,
            6.35,
            0,
            9.12,
            8.73,
            8.33,
            8.73,
            7.14,
            0,
            0,
            7.14,
            6.35,
            8.73,
            8.73,
            8.73,
            7.93,
            9.12,
            7.93,
            7.93,
            6.35,
            7.14,
            9.12,
            8.73,
            3.02,
            9.12,
            0,
            7.93,
            0,
            5.55,
            0,
            6.15,
            9.12,
            7.93,
            8.73,
            7.93,
            8.33,
            6.35
           ]
          }
         ],
         "name": "1978"
        },
        {
         "data": [
          {
           "box": {
            "visible": false
           },
           "meanline": {
            "visible": true
           },
           "type": "violin",
           "y": [
            0,
            12.11,
            0,
            8.19,
            10.33,
            6.77,
            10.37,
            7.13,
            8.76,
            0,
            4.38,
            10.33,
            9.44,
            8.19,
            8.19,
            7.13,
            0,
            5.7,
            7.13,
            0,
            10.33,
            10.33,
            10.33,
            10.33,
            8.19,
            0,
            0,
            7.13,
            5.7,
            9.8,
            10.33,
            8.91,
            8.19,
            10.33,
            8.91,
            7.48,
            8.19,
            7.13,
            8.19,
            10.33,
            4.28,
            8.19,
            0,
            8.19,
            0,
            4.99,
            10.33,
            7.84,
            10.33,
            8.37,
            8.19,
            7.84,
            9.98,
            5.7
           ]
          }
         ],
         "name": "1979"
        },
        {
         "data": [
          {
           "box": {
            "visible": false
           },
           "meanline": {
            "visible": true
           },
           "type": "violin",
           "y": [
            0,
            11.3,
            0,
            8,
            9.1,
            5.96,
            9.79,
            6.28,
            7.85,
            0,
            3.92,
            9.73,
            9.1,
            7.22,
            7.22,
            6.28,
            0,
            5.02,
            6.75,
            0,
            9.73,
            9.73,
            9.73,
            9.73,
            9.1,
            0,
            0,
            6.28,
            5.02,
            8.63,
            9.73,
            9.73,
            8.32,
            9.73,
            8.63,
            8.16,
            7.22,
            6.28,
            9.1,
            9.73,
            3.77,
            8.32,
            0,
            7.22,
            0,
            4.39,
            9.73,
            7.38,
            9.73,
            7.38,
            7.22,
            6.91,
            9.42,
            5.02
           ]
          }
         ],
         "name": "1980"
        },
        {
         "data": [
          {
           "box": {
            "visible": false
           },
           "meanline": {
            "visible": true
           },
           "type": "violin",
           "y": [
            0,
            10.96,
            0,
            7.68,
            9.53,
            5.41,
            9.59,
            5.69,
            7.11,
            0,
            3.56,
            9.53,
            8.82,
            6.54,
            6.54,
            5.69,
            0,
            4.55,
            6.12,
            0,
            9.53,
            9.53,
            9.53,
            9.53,
            8.82,
            0,
            0,
            5.69,
            4.55,
            7.83,
            9.53,
            9.53,
            8.25,
            9.53,
            8.25,
            7.97,
            6.54,
            8.82,
            8.82,
            9.53,
            3.41,
            8.25,
            0,
            6.54,
            0,
            3.98,
            9.53,
            7.11,
            9.53,
            7.54,
            6.54,
            7.83,
            9.25,
            4.55
           ]
          }
         ],
         "name": "1981"
        },
        {
         "data": [
          {
           "box": {
            "visible": false
           },
           "meanline": {
            "visible": true
           },
           "type": "violin",
           "y": [
            0,
            10.32,
            0,
            7.24,
            8.98,
            5.09,
            9.03,
            5.36,
            6.7,
            0,
            3.35,
            8.98,
            8.31,
            6.16,
            6.16,
            5.36,
            0,
            4.29,
            5.76,
            0,
            8.98,
            8.98,
            8.98,
            8.98,
            8.31,
            0,
            0,
            5.36,
            4.29,
            7.37,
            8.98,
            8.98,
            7.77,
            8.98,
            7.77,
            7.51,
            6.16,
            8.31,
            8.31,
            8.98,
            3.22,
            7.77,
            0,
            6.16,
            0,
            3.75,
            8.98,
            6.7,
            8.98,
            7.1,
            6.16,
            7.37,
            8.71,
            4.29
           ]
          }
         ],
         "name": "1982"
        },
        {
         "data": [
          {
           "box": {
            "visible": false
           },
           "meanline": {
            "visible": true
           },
           "type": "violin",
           "y": [
            0,
            10,
            0,
            7.01,
            8.7,
            4.93,
            8.75,
            5.19,
            6.49,
            0,
            3.25,
            8.7,
            8.05,
            5.97,
            5.97,
            5.19,
            0,
            4.16,
            5.58,
            0,
            8.7,
            8.7,
            8.7,
            8.7,
            8.05,
            0,
            0,
            5.19,
            4.16,
            7.14,
            8.7,
            8.7,
            7.53,
            8.7,
            7.53,
            7.27,
            5.97,
            8.05,
            8.05,
            8.7,
            3.12,
            7.53,
            0,
            5.97,
            0,
            3.64,
            8.7,
            6.49,
            8.7,
            6.88,
            5.97,
            7.14,
            8.44,
            4.16
           ]
          }
         ],
         "name": "1983"
        },
        {
         "data": [
          {
           "box": {
            "visible": false
           },
           "meanline": {
            "visible": true
           },
           "type": "violin",
           "y": [
            0,
            9.58,
            0,
            6.72,
            8.34,
            4.73,
            8.39,
            4.98,
            6.22,
            0,
            3.11,
            8.34,
            7.72,
            5.73,
            5.73,
            4.98,
            0,
            3.98,
            5.35,
            0,
            8.34,
            8.34,
            8.34,
            8.34,
            7.72,
            0,
            0,
            4.98,
            3.98,
            6.85,
            8.34,
            8.34,
            7.22,
            8.34,
            7.22,
            6.97,
            5.73,
            7.72,
            7.72,
            8.34,
            2.99,
            7.22,
            0,
            5.73,
            0,
            3.49,
            8.34,
            6.22,
            8.34,
            6.6,
            5.73,
            6.85,
            8.09,
            3.98
           ]
          }
         ],
         "name": "1984"
        },
        {
         "data": [
          {
           "box": {
            "visible": false
           },
           "meanline": {
            "visible": true
           },
           "type": "violin",
           "y": [
            0,
            9.26,
            0,
            6.49,
            8.05,
            4.57,
            8.1,
            4.81,
            6.01,
            0,
            3,
            8.05,
            7.45,
            5.53,
            5.53,
            4.81,
            0,
            3.85,
            5.17,
            0,
            8.05,
            8.05,
            8.05,
            8.05,
            7.45,
            0,
            0,
            4.81,
            3.85,
            6.61,
            8.05,
            8.05,
            6.97,
            8.05,
            6.97,
            6.73,
            5.53,
            7.45,
            7.45,
            8.05,
            2.88,
            6.97,
            0,
            5.53,
            0,
            3.37,
            8.05,
            6.01,
            8.05,
            6.37,
            5.53,
            6.61,
            7.81,
            3.85
           ]
          }
         ],
         "name": "1985"
        },
        {
         "data": [
          {
           "box": {
            "visible": false
           },
           "meanline": {
            "visible": true
           },
           "type": "violin",
           "y": [
            0,
            9.09,
            0,
            6.37,
            7.91,
            4.48,
            7.95,
            4.72,
            5.9,
            0,
            2.95,
            7.91,
            7.32,
            5.43,
            5.43,
            4.72,
            0,
            3.78,
            5.07,
            0,
            7.91,
            7.91,
            7.91,
            7.91,
            7.32,
            0,
            0,
            4.72,
            3.78,
            6.49,
            7.91,
            7.91,
            6.84,
            7.91,
            6.84,
            6.61,
            5.43,
            7.32,
            7.32,
            7.91,
            2.83,
            6.84,
            0,
            5.43,
            0,
            3.3,
            7.91,
            5.9,
            7.91,
            6.25,
            5.43,
            6.49,
            7.67,
            3.78
           ]
          }
         ],
         "name": "1986"
        },
        {
         "data": [
          {
           "box": {
            "visible": false
           },
           "meanline": {
            "visible": true
           },
           "type": "violin",
           "y": [
            0,
            8.77,
            0,
            6.15,
            7.63,
            4.33,
            7.67,
            4.55,
            5.69,
            0,
            2.85,
            7.63,
            7.06,
            5.24,
            5.24,
            4.55,
            0,
            3.64,
            4.9,
            0,
            7.63,
            7.63,
            7.63,
            7.63,
            7.06,
            0,
            0,
            4.55,
            3.64,
            6.26,
            7.63,
            7.63,
            6.6,
            7.63,
            6.6,
            6.38,
            5.24,
            7.06,
            7.06,
            7.63,
            2.73,
            6.6,
            0,
            5.24,
            0,
            3.19,
            7.63,
            5.69,
            7.63,
            6.03,
            5.24,
            6.26,
            7.4,
            3.64
           ]
          }
         ],
         "name": "1987"
        },
        {
         "data": [
          {
           "box": {
            "visible": false
           },
           "meanline": {
            "visible": true
           },
           "type": "violin",
           "y": [
            0,
            8.42,
            0,
            7.11,
            7.32,
            6.56,
            8.2,
            7.32,
            7.65,
            0,
            7.11,
            7.32,
            8.42,
            5.03,
            7.32,
            4.37,
            0,
            3.5,
            7.32,
            0,
            7.98,
            7.32,
            7.98,
            7.32,
            7.76,
            0,
            0,
            7.32,
            7.32,
            7.32,
            7.76,
            7.32,
            7.32,
            7.32,
            7.32,
            6.12,
            5.03,
            7.32,
            7.32,
            7.32,
            2.62,
            7.98,
            0,
            6.12,
            0,
            7.32,
            7.32,
            5.47,
            7.76,
            5.79,
            5.03,
            7.32,
            7.32,
            3.5
           ]
          }
         ],
         "name": "1988"
        },
        {
         "data": [
          {
           "box": {
            "visible": false
           },
           "meanline": {
            "visible": true
           },
           "type": "violin",
           "y": [
            0,
            8.03,
            0,
            6.78,
            6.99,
            6.26,
            7.82,
            6.99,
            7.3,
            0,
            6.78,
            6.99,
            8.03,
            4.8,
            6.99,
            4.17,
            0,
            3.34,
            6.99,
            0,
            7.61,
            6.99,
            7.61,
            6.99,
            7.41,
            0,
            0,
            6.99,
            6.99,
            6.99,
            7.41,
            6.99,
            6.99,
            6.99,
            6.99,
            5.84,
            4.8,
            6.99,
            6.99,
            6.99,
            2.5,
            7.61,
            0,
            5.84,
            0,
            6.99,
            6.99,
            5.21,
            7.41,
            5.53,
            4.8,
            6.99,
            6.99,
            3.34
           ]
          }
         ],
         "name": "1989"
        },
        {
         "data": [
          {
           "box": {
            "visible": false
           },
           "meanline": {
            "visible": true
           },
           "type": "violin",
           "y": [
            0,
            7.62,
            0,
            6.43,
            6.63,
            5.94,
            7.42,
            6.63,
            6.93,
            0,
            6.43,
            6.63,
            7.62,
            4.55,
            6.63,
            3.96,
            0,
            3.17,
            6.63,
            0,
            7.22,
            6.63,
            7.22,
            6.63,
            7.03,
            0,
            0,
            6.63,
            6.63,
            6.63,
            7.03,
            6.63,
            6.63,
            6.63,
            6.63,
            5.54,
            4.55,
            6.63,
            6.63,
            6.63,
            2.37,
            7.22,
            0,
            5.54,
            0,
            6.63,
            6.63,
            4.95,
            7.03,
            5.24,
            4.55,
            6.63,
            6.63,
            3.17
           ]
          }
         ],
         "name": "1990"
        },
        {
         "data": [
          {
           "box": {
            "visible": false
           },
           "meanline": {
            "visible": true
           },
           "type": "violin",
           "y": [
            0,
            8.17,
            0,
            6.36,
            8.07,
            5.7,
            8.07,
            7.22,
            7.03,
            0,
            6.17,
            7.22,
            7.31,
            7.22,
            7.22,
            6.36,
            8.07,
            5.03,
            7.22,
            0,
            7.31,
            7.22,
            7.12,
            6.36,
            8.07,
            0,
            7.22,
            7.22,
            6.36,
            7.22,
            7.31,
            7.22,
            6.36,
            7.22,
            6.36,
            6.46,
            7.22,
            7.22,
            9.02,
            7.22,
            2.28,
            8.07,
            0,
            7.22,
            0,
            6.36,
            8.83,
            7.22,
            7.31,
            5.03,
            8.07,
            6.36,
            7.22,
            3.04
           ]
          }
         ],
         "name": "1991"
        },
        {
         "data": [
          {
           "box": {
            "visible": false
           },
           "meanline": {
            "visible": true
           },
           "type": "violin",
           "y": [
            0,
            8.76,
            0,
            6.73,
            7.84,
            5.53,
            7.87,
            7.84,
            7.19,
            0,
            5.99,
            7.84,
            7.1,
            7.84,
            7.84,
            6.18,
            8.57,
            4.89,
            7.84,
            0,
            7.84,
            7.84,
            7.84,
            6.18,
            7.84,
            0,
            7.84,
            7.84,
            7.84,
            7.84,
            7.84,
            7.84,
            6.18,
            7.84,
            7.01,
            7.84,
            7.84,
            7.84,
            8.76,
            7.84,
            2.21,
            8.2,
            0,
            7.84,
            0,
            6.18,
            8.57,
            7.84,
            7.84,
            6.73,
            7.84,
            7.01,
            7.01,
            2.95
           ]
          }
         ],
         "name": "1992"
        },
        {
         "data": [
          {
           "box": {
            "visible": false
           },
           "meanline": {
            "visible": true
           },
           "type": "violin",
           "y": [
            0,
            8.5,
            0,
            6.53,
            7.61,
            5.37,
            7.64,
            7.61,
            6.98,
            0,
            5.82,
            7.61,
            6.89,
            7.61,
            7.61,
            6,
            8.32,
            4.74,
            7.61,
            0,
            7.61,
            7.61,
            7.61,
            6,
            7.61,
            0,
            7.61,
            7.61,
            7.61,
            7.61,
            7.61,
            7.61,
            6,
            7.61,
            6.8,
            7.61,
            7.61,
            7.61,
            8.5,
            7.61,
            2.15,
            7.97,
            0,
            7.61,
            0,
            6,
            8.32,
            7.61,
            7.61,
            6.53,
            7.61,
            6.8,
            6.8,
            2.86
           ]
          }
         ],
         "name": "1993"
        },
        {
         "data": [
          {
           "box": {
            "visible": false
           },
           "meanline": {
            "visible": true
           },
           "type": "violin",
           "y": [
            0,
            8.29,
            0,
            7.42,
            7.42,
            5.24,
            7.45,
            7.42,
            7.42,
            0,
            5.67,
            7.42,
            9.16,
            7.42,
            7.42,
            5.85,
            8.12,
            4.63,
            7.42,
            0,
            7.42,
            7.42,
            7.42,
            5.85,
            7.42,
            0,
            7.42,
            7.42,
            7.42,
            7.42,
            7.42,
            8.81,
            7.42,
            7.42,
            7.42,
            7.42,
            7.42,
            7.42,
            8.29,
            7.42,
            2.09,
            7.77,
            0,
            7.42,
            0,
            5.85,
            8.12,
            7.42,
            7.42,
            7.42,
            7.42,
            7.42,
            7.42,
            2.79
           ]
          }
         ],
         "name": "1994"
        },
        {
         "data": [
          {
           "box": {
            "visible": false
           },
           "meanline": {
            "visible": true
           },
           "type": "violin",
           "y": [
            0,
            8.06,
            0,
            7.21,
            7.21,
            5.09,
            7.25,
            7.21,
            7.21,
            0,
            5.52,
            7.21,
            8.91,
            7.21,
            7.21,
            5.69,
            7.89,
            4.5,
            7.21,
            0,
            7.21,
            7.21,
            7.21,
            5.69,
            7.21,
            0,
            7.21,
            7.21,
            7.21,
            7.21,
            7.21,
            8.57,
            7.21,
            7.21,
            7.21,
            7.21,
            7.21,
            7.21,
            8.06,
            7.21,
            2.04,
            7.55,
            0,
            7.21,
            0,
            5.69,
            7.89,
            7.21,
            7.21,
            7.21,
            7.21,
            7.21,
            7.21,
            2.72
           ]
          }
         ],
         "name": "1995"
        },
        {
         "data": [
          {
           "box": {
            "visible": false
           },
           "meanline": {
            "visible": true
           },
           "type": "violin",
           "y": [
            0,
            7.83,
            0,
            7.01,
            7.01,
            4.95,
            7.04,
            7.67,
            8.65,
            0,
            5.36,
            7.01,
            8.65,
            7.01,
            7.01,
            5.52,
            7.67,
            4.37,
            7.01,
            0,
            7.01,
            7.01,
            7.83,
            5.52,
            7.01,
            0,
            7.01,
            7.01,
            7.01,
            7.01,
            7.01,
            8.33,
            7.01,
            7.01,
            7.01,
            7.01,
            7.01,
            7.01,
            7.83,
            7.01,
            1.98,
            7.34,
            0,
            7.01,
            0,
            5.52,
            7.67,
            7.01,
            7.83,
            7.01,
            8.08,
            7.01,
            7.01,
            2.64
           ]
          }
         ],
         "name": "1996"
        },
        {
         "data": [
          {
           "box": {
            "visible": false
           },
           "meanline": {
            "visible": true
           },
           "type": "violin",
           "y": [
            0,
            8.46,
            0,
            6.85,
            7.66,
            7.66,
            7.69,
            8.06,
            9.27,
            0,
            5.24,
            7.66,
            8.46,
            6.85,
            7.66,
            5.4,
            7.66,
            4.27,
            6.85,
            0,
            7.66,
            7.66,
            8.46,
            5.4,
            6.85,
            0,
            7.66,
            7.66,
            6.85,
            7.66,
            7.66,
            8.14,
            6.85,
            6.85,
            6.85,
            7.66,
            6.85,
            7.66,
            8.86,
            7.66,
            1.93,
            8.3,
            0,
            6.85,
            0,
            5.4,
            7.49,
            7.66,
            8.06,
            7.66,
            7.9,
            6.85,
            7.66,
            2.58
           ]
          }
         ],
         "name": "1997"
        },
        {
         "data": [
          {
           "box": {
            "visible": false
           },
           "meanline": {
            "visible": true
           },
           "type": "violin",
           "y": [
            0,
            8.97,
            0,
            8.17,
            8.17,
            8.17,
            8.22,
            8.17,
            9.76,
            0,
            5.16,
            8.17,
            8.33,
            8.17,
            8.17,
            5.32,
            8.17,
            4.21,
            6.74,
            0,
            8.17,
            8.17,
            8.33,
            8.17,
            8.17,
            0,
            8.17,
            8.17,
            8.17,
            8.17,
            8.17,
            8.01,
            6.74,
            6.74,
            8.17,
            8.17,
            6.74,
            8.17,
            9.52,
            8.17,
            1.9,
            8.17,
            0,
            8.17,
            0,
            5.32,
            7.38,
            8.17,
            8.33,
            8.17,
            7.78,
            7.54,
            8.17,
            2.54
           ]
          }
         ],
         "name": "1998"
        },
        {
         "data": [
          {
           "box": {
            "visible": false
           },
           "meanline": {
            "visible": true
           },
           "type": "violin",
           "y": [
            0,
            8.77,
            0,
            8,
            8,
            8,
            8.04,
            8,
            9.55,
            0,
            5.05,
            8,
            8.15,
            8,
            8,
            5.2,
            8,
            4.11,
            6.6,
            0,
            8,
            8,
            8.15,
            8,
            8,
            0,
            8,
            8,
            8,
            8,
            8,
            7.84,
            6.6,
            6.6,
            8,
            8,
            6.6,
            8,
            9.32,
            8,
            1.86,
            8,
            0,
            8,
            0,
            5.2,
            7.22,
            8,
            8.15,
            8,
            7.61,
            7.37,
            8,
            2.48
           ]
          }
         ],
         "name": "1999"
        },
        {
         "data": [
          {
           "box": {
            "visible": false
           },
           "meanline": {
            "visible": true
           },
           "type": "violin",
           "y": [
            0,
            8.49,
            0,
            7.74,
            8.64,
            7.74,
            9.24,
            8.49,
            9.24,
            0,
            4.88,
            7.74,
            7.89,
            7.74,
            7.74,
            7.74,
            7.74,
            3.98,
            7.74,
            0,
            7.74,
            7.74,
            9.01,
            7.74,
            7.36,
            0,
            7.74,
            6.01,
            7.74,
            7.74,
            7.74,
            7.74,
            6.38,
            6.38,
            7.74,
            7.74,
            4.21,
            3,
            9.76,
            7.74,
            5.42,
            8.49,
            0,
            7.74,
            0,
            5.03,
            6.46,
            7.74,
            8.64,
            7.74,
            9.76,
            7.74,
            7.74,
            2.4
           ]
          }
         ],
         "name": "2000"
        },
        {
         "data": [
          {
           "box": {
            "visible": false
           },
           "meanline": {
            "visible": true
           },
           "type": "violin",
           "y": [
            0,
            8.25,
            0,
            7.52,
            9.13,
            7.52,
            9.35,
            8.98,
            8.98,
            0,
            4.75,
            7.52,
            7.67,
            7.52,
            7.52,
            7.52,
            7.52,
            3.87,
            7.52,
            0,
            7.52,
            7.52,
            9.86,
            7.52,
            7.16,
            0,
            7.52,
            5.84,
            7.52,
            7.52,
            7.52,
            7.52,
            6.21,
            7.52,
            7.52,
            7.52,
            4.09,
            2.92,
            9.49,
            7.52,
            5.27,
            8.98,
            0,
            7.52,
            0,
            4.89,
            6.28,
            7.52,
            9.13,
            7.52,
            9.81,
            7.52,
            7.52,
            2.34
           ]
          }
         ],
         "name": "2001"
        },
        {
         "data": [
          {
           "box": {
            "visible": false
           },
           "meanline": {
            "visible": true
           },
           "type": "violin",
           "y": [
            0,
            8.12,
            0,
            7.4,
            9.71,
            7.4,
            9.63,
            8.84,
            8.84,
            0,
            7.4,
            7.4,
            8.27,
            7.4,
            7.4,
            7.4,
            7.4,
            3.81,
            7.4,
            0,
            8.27,
            7.4,
            9.71,
            7.4,
            7.05,
            0,
            7.4,
            5.75,
            7.4,
            7.4,
            7.4,
            7.4,
            6.11,
            7.4,
            7.4,
            7.4,
            4.03,
            2.88,
            9.35,
            7.4,
            5.19,
            8.84,
            0,
            7.4,
            0,
            7.4,
            6.18,
            7.4,
            8.99,
            7.4,
            9.92,
            7.4,
            7.4,
            7.4
           ]
          }
         ],
         "name": "2002"
        },
        {
         "data": [
          {
           "box": {
            "visible": false
           },
           "meanline": {
            "visible": true
           },
           "type": "violin",
           "y": [
            0,
            10.05,
            0,
            7.24,
            9.49,
            7.24,
            9.7,
            8.65,
            8.65,
            0,
            7.24,
            7.24,
            8.79,
            7.24,
            7.24,
            7.24,
            7.24,
            3.73,
            7.24,
            0,
            8.79,
            7.24,
            9.49,
            7.24,
            6.89,
            0,
            7.24,
            5.62,
            7.24,
            7.24,
            7.24,
            7.24,
            5.97,
            7.24,
            7.24,
            7.24,
            3.94,
            2.81,
            9.7,
            7.24,
            5.07,
            8.65,
            0,
            7.24,
            0,
            7.24,
            6.04,
            7.24,
            8.79,
            7.24,
            9.85,
            7.24,
            7.24,
            7.24
           ]
          }
         ],
         "name": "2003"
        },
        {
         "data": [
          {
           "box": {
            "visible": false
           },
           "meanline": {
            "visible": true
           },
           "type": "violin",
           "y": [
            0,
            9.79,
            0,
            7.05,
            9.24,
            7.05,
            9.72,
            8.42,
            8.42,
            0,
            7.05,
            7.05,
            8.56,
            7.05,
            7.53,
            7.05,
            7.05,
            3.63,
            7.05,
            0,
            8.56,
            7.05,
            9.24,
            7.05,
            6.71,
            0,
            7.05,
            5.48,
            7.05,
            7.05,
            7.05,
            7.05,
            7.05,
            7.05,
            7.05,
            7.05,
            3.83,
            2.74,
            9.65,
            7.05,
            4.94,
            9.24,
            0,
            7.05,
            0,
            7.05,
            5.89,
            7.05,
            9.24,
            7.05,
            9.8,
            7.05,
            7.05,
            7.05
           ]
          }
         ],
         "name": "2004"
        },
        {
         "data": [
          {
           "box": {
            "visible": false
           },
           "meanline": {
            "visible": true
           },
           "type": "violin",
           "y": [
            0,
            9.47,
            0,
            6.82,
            8.94,
            6.82,
            9.4,
            8.15,
            8.74,
            0,
            6.82,
            6.82,
            8.28,
            6.82,
            8.61,
            6.82,
            6.82,
            3.51,
            6.82,
            0,
            8.41,
            6.82,
            8.94,
            6.82,
            6.49,
            0,
            6.82,
            5.3,
            6.82,
            6.82,
            6.82,
            6.82,
            6.82,
            7.95,
            6.82,
            6.82,
            3.71,
            2.65,
            9.6,
            6.82,
            4.78,
            8.94,
            0,
            6.82,
            0,
            6.82,
            5.7,
            6.82,
            9.27,
            6.82,
            9.73,
            6.82,
            6.82,
            6.82
           ]
          }
         ],
         "name": "2005"
        },
        {
         "data": [
          {
           "box": {
            "visible": false
           },
           "meanline": {
            "visible": true
           },
           "type": "violin",
           "y": [
            0,
            9.17,
            0,
            6.61,
            8.66,
            6.61,
            9.49,
            7.89,
            8.98,
            8.21,
            6.61,
            6.61,
            8.66,
            6.61,
            8.34,
            6.61,
            6.61,
            3.4,
            6.61,
            0,
            8.34,
            6.61,
            8.66,
            6.61,
            6.74,
            0,
            6.61,
            5.13,
            6.61,
            6.61,
            6.61,
            7.89,
            6.61,
            8.66,
            6.61,
            6.61,
            3.59,
            2.57,
            9.62,
            6.61,
            4.63,
            8.66,
            0,
            6.61,
            0,
            6.61,
            5.52,
            6.61,
            9.3,
            6.61,
            9.79,
            6.61,
            7.31,
            6.61
           ]
          }
         ],
         "name": "2006"
        },
        {
         "data": [
          {
           "box": {
            "visible": false
           },
           "meanline": {
            "visible": true
           },
           "type": "violin",
           "y": [
            0,
            8.92,
            8.42,
            7.8,
            9.36,
            8.55,
            9.54,
            8.3,
            8.73,
            8.32,
            6.42,
            6.42,
            9.04,
            6.42,
            9.36,
            6.42,
            6.42,
            3.31,
            6.42,
            0,
            8.42,
            7.67,
            9.36,
            8.67,
            6.55,
            0,
            8.11,
            4.99,
            6.42,
            7.67,
            6.42,
            8.92,
            6.42,
            8.92,
            7.67,
            6.42,
            8.55,
            2.5,
            9.73,
            7.8,
            4.5,
            9.23,
            0,
            6.42,
            0,
            6.42,
            5.36,
            6.42,
            9.39,
            6.42,
            9.89,
            7.3,
            8.11,
            6.42
           ]
          }
         ],
         "name": "2007"
        },
        {
         "data": [
          {
           "box": {
            "visible": false
           },
           "meanline": {
            "visible": true
           },
           "type": "violin",
           "y": [
            0,
            8.59,
            8.29,
            7.51,
            9.61,
            8.43,
            9.19,
            8.59,
            8.41,
            8.16,
            6.19,
            7.03,
            8.71,
            7.03,
            9.31,
            7.03,
            8.71,
            3.18,
            7.03,
            0,
            8.41,
            7.39,
            9.61,
            8.59,
            6.31,
            0,
            7.99,
            4.81,
            7.03,
            7.6,
            7.81,
            8.59,
            7.81,
            8.59,
            7.39,
            7.03,
            8.41,
            2.4,
            9.55,
            8.59,
            4.34,
            8.89,
            0,
            7.03,
            0,
            7.03,
            5.17,
            7.03,
            9.23,
            7.03,
            9.7,
            7.87,
            7.81,
            6.19
           ]
          }
         ],
         "name": "2008"
        },
        {
         "data": [
          {
           "box": {
            "visible": false
           },
           "meanline": {
            "visible": true
           },
           "type": "violin",
           "y": [
            0,
            8.62,
            8.74,
            7.54,
            9.65,
            8.78,
            9.65,
            8.62,
            9.1,
            8.69,
            6.21,
            7.05,
            8.74,
            7.9,
            9.65,
            7.9,
            8.74,
            3.2,
            7.9,
            0,
            8.74,
            7.9,
            9.65,
            8.92,
            6.33,
            0,
            8.5,
            4.82,
            7.9,
            7.9,
            8.74,
            8.62,
            9.04,
            8.62,
            7.9,
            7.9,
            8.8,
            2.41,
            10.13,
            8.62,
            4.94,
            8.92,
            0,
            7.9,
            0,
            7.9,
            5.18,
            7.9,
            9.72,
            7.9,
            10.31,
            8.74,
            7.84,
            6.21
           ]
          }
         ],
         "name": "2009"
        },
        {
         "data": [
          {
           "box": {
            "visible": false
           },
           "meanline": {
            "visible": true
           },
           "type": "violin",
           "y": [
            0,
            9.19,
            8.6,
            7.41,
            9.49,
            8.59,
            9.79,
            8.6,
            9.79,
            8.6,
            6.11,
            8.6,
            8.6,
            8.6,
            9.79,
            8.6,
            8.6,
            8.6,
            8.6,
            0,
            8.9,
            8.6,
            9.49,
            8.78,
            6.23,
            0,
            8.6,
            4.74,
            8.6,
            7.77,
            8.6,
            8.6,
            8.9,
            8.6,
            8.6,
            8.6,
            8.66,
            2.37,
            9.96,
            8.6,
            0,
            8.78,
            0,
            8.6,
            0,
            8.6,
            5.1,
            8.6,
            9.56,
            8.6,
            10.14,
            8.6,
            8.6,
            6.11
           ]
          }
         ],
         "name": "2010"
        },
        {
         "data": [
          {
           "box": {
            "visible": false
           },
           "meanline": {
            "visible": true
           },
           "type": "violin",
           "y": [
            0,
            8.91,
            8.45,
            7.19,
            9.2,
            8.46,
            9.49,
            8.34,
            9.49,
            8.34,
            5.92,
            8.34,
            8.34,
            8.34,
            9.49,
            8.34,
            8.34,
            8.34,
            8.34,
            0,
            8.62,
            8.34,
            9.2,
            8.51,
            6.04,
            0,
            8.34,
            4.6,
            8.34,
            8.34,
            8.34,
            8.34,
            8.62,
            8.34,
            8.34,
            8.34,
            8.51,
            2.3,
            9.77,
            8.34,
            0,
            8.51,
            0,
            8.34,
            0,
            8.34,
            4.94,
            8.34,
            9.37,
            8.34,
            9.97,
            8.34,
            8.34,
            5.92
           ]
          }
         ],
         "name": "2011"
        },
        {
         "data": [
          {
           "box": {
            "visible": false
           },
           "meanline": {
            "visible": true
           },
           "type": "violin",
           "y": [
            0,
            8.73,
            8.62,
            7.04,
            9.01,
            8.61,
            9.29,
            8.17,
            9.29,
            8.64,
            5.8,
            8.17,
            8.17,
            8.17,
            9.29,
            8.17,
            8.17,
            8.17,
            8.17,
            0,
            8.45,
            8.17,
            9.01,
            8.34,
            5.91,
            0,
            8.17,
            4.51,
            8.17,
            8.17,
            8.17,
            8.17,
            8.45,
            8.17,
            8.17,
            8.17,
            8.67,
            2.25,
            9.91,
            8.17,
            0,
            8.34,
            0,
            8.17,
            0,
            8.17,
            4.84,
            8.17,
            9.53,
            8.17,
            10.18,
            8.17,
            8.17,
            5.8
           ]
          }
         ],
         "name": "2012"
        },
        {
         "data": [
          {
           "box": {
            "visible": false
           },
           "meanline": {
            "visible": true
           },
           "type": "violin",
           "y": [
            0,
            8.61,
            8.66,
            6.94,
            8.88,
            8.64,
            9.16,
            8.05,
            9.16,
            8.65,
            5.72,
            8.05,
            8.05,
            8.05,
            9.16,
            8.05,
            8.05,
            8.05,
            8.05,
            0,
            8.33,
            8.05,
            8.88,
            8.22,
            5.83,
            0,
            8.16,
            4.44,
            8.05,
            8.05,
            8.05,
            8.05,
            8.33,
            8.05,
            8.05,
            8.05,
            8.72,
            2.22,
            9.94,
            8.05,
            0,
            8.61,
            0,
            8.05,
            0,
            8.05,
            4.77,
            8.05,
            9.55,
            8.05,
            10.2,
            8.05,
            8.05,
            5.72
           ]
          }
         ],
         "name": "2013"
        },
        {
         "data": [
          {
           "box": {
            "visible": false
           },
           "meanline": {
            "visible": true
           },
           "type": "violin",
           "y": [
            0,
            8.47,
            8.63,
            6.83,
            9.83,
            8.74,
            9.51,
            8.47,
            10.38,
            8.66,
            5.63,
            7.92,
            7.92,
            7.92,
            9.01,
            7.92,
            7.92,
            7.92,
            7.92,
            0,
            8.19,
            7.92,
            8.74,
            8.9,
            7.1,
            0,
            8.19,
            8.63,
            7.92,
            7.92,
            7.92,
            9.01,
            8.19,
            8.74,
            7.92,
            7.92,
            7.92,
            2.19,
            9.94,
            7.92,
            5.55,
            8.74,
            0,
            7.92,
            0,
            7.92,
            4.7,
            7.92,
            9.54,
            7.92,
            10.18,
            7.92,
            7.92,
            5.63
           ]
          }
         ],
         "name": "2014"
        },
        {
         "data": [
          {
           "box": {
            "visible": false
           },
           "meanline": {
            "visible": true
           },
           "type": "violin",
           "y": [
            0,
            9.55,
            8.79,
            8.18,
            9.82,
            8.98,
            9.99,
            9,
            11.46,
            8.79,
            5.62,
            9,
            8.46,
            7.91,
            9,
            7.91,
            7.91,
            7.91,
            7.91,
            0,
            8.18,
            9,
            9.82,
            8.89,
            7.91,
            0,
            8.35,
            8.79,
            8.73,
            7.91,
            7.91,
            9.15,
            8.18,
            9.55,
            7.91,
            7.91,
            7.91,
            2.18,
            10.09,
            7.91,
            5.54,
            9.82,
            0,
            9.28,
            0,
            7.91,
            4.69,
            7.91,
            9.99,
            7.91,
            10.33,
            8.73,
            7.91,
            5.62
           ]
          }
         ],
         "name": "2015"
        },
        {
         "data": [
          {
           "box": {
            "visible": false
           },
           "meanline": {
            "visible": true
           },
           "type": "violin",
           "y": [
            0,
            10.51,
            8.68,
            8.62,
            10.78,
            8.96,
            10.35,
            8.89,
            12.39,
            8.68,
            5.55,
            8.89,
            9.16,
            7.81,
            8.89,
            7.81,
            7.81,
            7.81,
            7.81,
            0,
            8.08,
            9.43,
            10.78,
            9.16,
            7.81,
            0,
            8.24,
            8.68,
            9.7,
            7.81,
            7.81,
            9.03,
            8.08,
            9.7,
            7.81,
            7.81,
            7.81,
            2.16,
            10.51,
            7.81,
            5.47,
            10.35,
            0,
            9.21,
            0,
            7.81,
            4.63,
            7.81,
            10.35,
            7.81,
            10.21,
            9.43,
            7.81,
            5.55
           ]
          }
         ],
         "name": "2016"
        },
        {
         "data": [
          {
           "box": {
            "visible": false
           },
           "meanline": {
            "visible": true
           },
           "type": "violin",
           "y": [
            0,
            10.34,
            10.55,
            8.97,
            10.55,
            9.81,
            10.66,
            8.71,
            12.14,
            8.55,
            5.43,
            8.71,
            9.76,
            7.65,
            8.71,
            7.65,
            7.65,
            7.65,
            7.65,
            0,
            9.5,
            9.23,
            11.61,
            9.39,
            8.18,
            0,
            8.13,
            8.6,
            9.5,
            7.65,
            7.65,
            8.91,
            7.91,
            10.24,
            7.65,
            7.65,
            8.6,
            2.11,
            10.29,
            7.65,
            5.36,
            10.13,
            0,
            9.13,
            0,
            7.65,
            4.54,
            7.65,
            10.55,
            7.65,
            11.61,
            9.23,
            7.65,
            5.43
           ]
          }
         ],
         "name": "2017"
        },
        {
         "data": [
          {
           "box": {
            "visible": false
           },
           "meanline": {
            "visible": true
           },
           "type": "violin",
           "y": [
            0,
            10.14,
            10.82,
            8.76,
            11.33,
            10.51,
            10.4,
            8.5,
            13.65,
            8.5,
            5.3,
            8.5,
            10.4,
            7.47,
            8.5,
            7.47,
            7.47,
            7.47,
            7.47,
            0,
            10.3,
            10.4,
            11.33,
            9.53,
            8.28,
            0,
            8.09,
            8.55,
            9.27,
            7.47,
            7.47,
            8.86,
            7.73,
            10.71,
            7.47,
            7.47,
            8.55,
            2.06,
            11.07,
            7.47,
            5.23,
            10.4,
            0,
            9.12,
            0,
            7.47,
            4.43,
            7.47,
            10.82,
            7.47,
            11.85,
            9.01,
            7.47,
            5.3
           ]
          }
         ],
         "name": "2018"
        },
        {
         "data": [
          {
           "box": {
            "visible": false
           },
           "meanline": {
            "visible": true
           },
           "type": "violin",
           "y": [
            0,
            10.31,
            12.14,
            9.36,
            12.14,
            12.14,
            11.13,
            9.36,
            14.16,
            8.66,
            5.21,
            8.35,
            10.22,
            7.34,
            9.36,
            7.34,
            7.34,
            7.34,
            7.34,
            0,
            12.14,
            11.13,
            12.9,
            9.76,
            8.25,
            0,
            9.56,
            8.75,
            9.11,
            7.34,
            7.34,
            11.13,
            9.11,
            11.94,
            7.34,
            7.34,
            8.8,
            2.02,
            11.38,
            7.34,
            5.14,
            10.62,
            0,
            9.41,
            0,
            7.34,
            10.62,
            7.34,
            11.09,
            7.34,
            13.66,
            8.85,
            7.34,
            5.21
           ]
          }
         ],
         "name": "2019"
        },
        {
         "data": [
          {
           "box": {
            "visible": false
           },
           "meanline": {
            "visible": true
           },
           "type": "violin",
           "y": [
            0,
            10.19,
            12,
            10,
            13,
            12,
            11,
            9.25,
            14,
            8.56,
            5.15,
            8.25,
            10.1,
            7.25,
            9.25,
            7.25,
            7.25,
            7.25,
            7.25,
            0,
            12,
            11,
            12.75,
            9.65,
            8.15,
            0,
            9.45,
            8.65,
            9,
            7.25,
            7.25,
            11,
            9,
            11.8,
            7.25,
            7.25,
            8.7,
            2,
            11.25,
            7.25,
            5.08,
            10.5,
            0,
            9.3,
            0,
            7.25,
            10.5,
            7.25,
            10.96,
            7.25,
            13.5,
            8.75,
            7.25,
            5.15
           ]
          }
         ],
         "name": "2020"
        }
       ],
       "layout": {
        "height": 800,
        "sliders": [
         {
          "steps": [
           {
            "args": [
             [
              "1968"
             ],
             {
              "frame": {
               "duration": 200,
               "redraw": true
              },
              "mode": "immediate",
              "transition": {
               "duration": 0
              }
             }
            ],
            "label": "1968",
            "method": "animate"
           },
           {
            "args": [
             [
              "1969"
             ],
             {
              "frame": {
               "duration": 200,
               "redraw": true
              },
              "mode": "immediate",
              "transition": {
               "duration": 0
              }
             }
            ],
            "label": "1969",
            "method": "animate"
           },
           {
            "args": [
             [
              "1970"
             ],
             {
              "frame": {
               "duration": 200,
               "redraw": true
              },
              "mode": "immediate",
              "transition": {
               "duration": 0
              }
             }
            ],
            "label": "1970",
            "method": "animate"
           },
           {
            "args": [
             [
              "1971"
             ],
             {
              "frame": {
               "duration": 200,
               "redraw": true
              },
              "mode": "immediate",
              "transition": {
               "duration": 0
              }
             }
            ],
            "label": "1971",
            "method": "animate"
           },
           {
            "args": [
             [
              "1972"
             ],
             {
              "frame": {
               "duration": 200,
               "redraw": true
              },
              "mode": "immediate",
              "transition": {
               "duration": 0
              }
             }
            ],
            "label": "1972",
            "method": "animate"
           },
           {
            "args": [
             [
              "1973"
             ],
             {
              "frame": {
               "duration": 200,
               "redraw": true
              },
              "mode": "immediate",
              "transition": {
               "duration": 0
              }
             }
            ],
            "label": "1973",
            "method": "animate"
           },
           {
            "args": [
             [
              "1974"
             ],
             {
              "frame": {
               "duration": 200,
               "redraw": true
              },
              "mode": "immediate",
              "transition": {
               "duration": 0
              }
             }
            ],
            "label": "1974",
            "method": "animate"
           },
           {
            "args": [
             [
              "1975"
             ],
             {
              "frame": {
               "duration": 200,
               "redraw": true
              },
              "mode": "immediate",
              "transition": {
               "duration": 0
              }
             }
            ],
            "label": "1975",
            "method": "animate"
           },
           {
            "args": [
             [
              "1976"
             ],
             {
              "frame": {
               "duration": 200,
               "redraw": true
              },
              "mode": "immediate",
              "transition": {
               "duration": 0
              }
             }
            ],
            "label": "1976",
            "method": "animate"
           },
           {
            "args": [
             [
              "1977"
             ],
             {
              "frame": {
               "duration": 200,
               "redraw": true
              },
              "mode": "immediate",
              "transition": {
               "duration": 0
              }
             }
            ],
            "label": "1977",
            "method": "animate"
           },
           {
            "args": [
             [
              "1978"
             ],
             {
              "frame": {
               "duration": 200,
               "redraw": true
              },
              "mode": "immediate",
              "transition": {
               "duration": 0
              }
             }
            ],
            "label": "1978",
            "method": "animate"
           },
           {
            "args": [
             [
              "1979"
             ],
             {
              "frame": {
               "duration": 200,
               "redraw": true
              },
              "mode": "immediate",
              "transition": {
               "duration": 0
              }
             }
            ],
            "label": "1979",
            "method": "animate"
           },
           {
            "args": [
             [
              "1980"
             ],
             {
              "frame": {
               "duration": 200,
               "redraw": true
              },
              "mode": "immediate",
              "transition": {
               "duration": 0
              }
             }
            ],
            "label": "1980",
            "method": "animate"
           },
           {
            "args": [
             [
              "1981"
             ],
             {
              "frame": {
               "duration": 200,
               "redraw": true
              },
              "mode": "immediate",
              "transition": {
               "duration": 0
              }
             }
            ],
            "label": "1981",
            "method": "animate"
           },
           {
            "args": [
             [
              "1982"
             ],
             {
              "frame": {
               "duration": 200,
               "redraw": true
              },
              "mode": "immediate",
              "transition": {
               "duration": 0
              }
             }
            ],
            "label": "1982",
            "method": "animate"
           },
           {
            "args": [
             [
              "1983"
             ],
             {
              "frame": {
               "duration": 200,
               "redraw": true
              },
              "mode": "immediate",
              "transition": {
               "duration": 0
              }
             }
            ],
            "label": "1983",
            "method": "animate"
           },
           {
            "args": [
             [
              "1984"
             ],
             {
              "frame": {
               "duration": 200,
               "redraw": true
              },
              "mode": "immediate",
              "transition": {
               "duration": 0
              }
             }
            ],
            "label": "1984",
            "method": "animate"
           },
           {
            "args": [
             [
              "1985"
             ],
             {
              "frame": {
               "duration": 200,
               "redraw": true
              },
              "mode": "immediate",
              "transition": {
               "duration": 0
              }
             }
            ],
            "label": "1985",
            "method": "animate"
           },
           {
            "args": [
             [
              "1986"
             ],
             {
              "frame": {
               "duration": 200,
               "redraw": true
              },
              "mode": "immediate",
              "transition": {
               "duration": 0
              }
             }
            ],
            "label": "1986",
            "method": "animate"
           },
           {
            "args": [
             [
              "1987"
             ],
             {
              "frame": {
               "duration": 200,
               "redraw": true
              },
              "mode": "immediate",
              "transition": {
               "duration": 0
              }
             }
            ],
            "label": "1987",
            "method": "animate"
           },
           {
            "args": [
             [
              "1988"
             ],
             {
              "frame": {
               "duration": 200,
               "redraw": true
              },
              "mode": "immediate",
              "transition": {
               "duration": 0
              }
             }
            ],
            "label": "1988",
            "method": "animate"
           },
           {
            "args": [
             [
              "1989"
             ],
             {
              "frame": {
               "duration": 200,
               "redraw": true
              },
              "mode": "immediate",
              "transition": {
               "duration": 0
              }
             }
            ],
            "label": "1989",
            "method": "animate"
           },
           {
            "args": [
             [
              "1990"
             ],
             {
              "frame": {
               "duration": 200,
               "redraw": true
              },
              "mode": "immediate",
              "transition": {
               "duration": 0
              }
             }
            ],
            "label": "1990",
            "method": "animate"
           },
           {
            "args": [
             [
              "1991"
             ],
             {
              "frame": {
               "duration": 200,
               "redraw": true
              },
              "mode": "immediate",
              "transition": {
               "duration": 0
              }
             }
            ],
            "label": "1991",
            "method": "animate"
           },
           {
            "args": [
             [
              "1992"
             ],
             {
              "frame": {
               "duration": 200,
               "redraw": true
              },
              "mode": "immediate",
              "transition": {
               "duration": 0
              }
             }
            ],
            "label": "1992",
            "method": "animate"
           },
           {
            "args": [
             [
              "1993"
             ],
             {
              "frame": {
               "duration": 200,
               "redraw": true
              },
              "mode": "immediate",
              "transition": {
               "duration": 0
              }
             }
            ],
            "label": "1993",
            "method": "animate"
           },
           {
            "args": [
             [
              "1994"
             ],
             {
              "frame": {
               "duration": 200,
               "redraw": true
              },
              "mode": "immediate",
              "transition": {
               "duration": 0
              }
             }
            ],
            "label": "1994",
            "method": "animate"
           },
           {
            "args": [
             [
              "1995"
             ],
             {
              "frame": {
               "duration": 200,
               "redraw": true
              },
              "mode": "immediate",
              "transition": {
               "duration": 0
              }
             }
            ],
            "label": "1995",
            "method": "animate"
           },
           {
            "args": [
             [
              "1996"
             ],
             {
              "frame": {
               "duration": 200,
               "redraw": true
              },
              "mode": "immediate",
              "transition": {
               "duration": 0
              }
             }
            ],
            "label": "1996",
            "method": "animate"
           },
           {
            "args": [
             [
              "1997"
             ],
             {
              "frame": {
               "duration": 200,
               "redraw": true
              },
              "mode": "immediate",
              "transition": {
               "duration": 0
              }
             }
            ],
            "label": "1997",
            "method": "animate"
           },
           {
            "args": [
             [
              "1998"
             ],
             {
              "frame": {
               "duration": 200,
               "redraw": true
              },
              "mode": "immediate",
              "transition": {
               "duration": 0
              }
             }
            ],
            "label": "1998",
            "method": "animate"
           },
           {
            "args": [
             [
              "1999"
             ],
             {
              "frame": {
               "duration": 200,
               "redraw": true
              },
              "mode": "immediate",
              "transition": {
               "duration": 0
              }
             }
            ],
            "label": "1999",
            "method": "animate"
           },
           {
            "args": [
             [
              "2000"
             ],
             {
              "frame": {
               "duration": 200,
               "redraw": true
              },
              "mode": "immediate",
              "transition": {
               "duration": 0
              }
             }
            ],
            "label": "2000",
            "method": "animate"
           },
           {
            "args": [
             [
              "2001"
             ],
             {
              "frame": {
               "duration": 200,
               "redraw": true
              },
              "mode": "immediate",
              "transition": {
               "duration": 0
              }
             }
            ],
            "label": "2001",
            "method": "animate"
           },
           {
            "args": [
             [
              "2002"
             ],
             {
              "frame": {
               "duration": 200,
               "redraw": true
              },
              "mode": "immediate",
              "transition": {
               "duration": 0
              }
             }
            ],
            "label": "2002",
            "method": "animate"
           },
           {
            "args": [
             [
              "2003"
             ],
             {
              "frame": {
               "duration": 200,
               "redraw": true
              },
              "mode": "immediate",
              "transition": {
               "duration": 0
              }
             }
            ],
            "label": "2003",
            "method": "animate"
           },
           {
            "args": [
             [
              "2004"
             ],
             {
              "frame": {
               "duration": 200,
               "redraw": true
              },
              "mode": "immediate",
              "transition": {
               "duration": 0
              }
             }
            ],
            "label": "2004",
            "method": "animate"
           },
           {
            "args": [
             [
              "2005"
             ],
             {
              "frame": {
               "duration": 200,
               "redraw": true
              },
              "mode": "immediate",
              "transition": {
               "duration": 0
              }
             }
            ],
            "label": "2005",
            "method": "animate"
           },
           {
            "args": [
             [
              "2006"
             ],
             {
              "frame": {
               "duration": 200,
               "redraw": true
              },
              "mode": "immediate",
              "transition": {
               "duration": 0
              }
             }
            ],
            "label": "2006",
            "method": "animate"
           },
           {
            "args": [
             [
              "2007"
             ],
             {
              "frame": {
               "duration": 200,
               "redraw": true
              },
              "mode": "immediate",
              "transition": {
               "duration": 0
              }
             }
            ],
            "label": "2007",
            "method": "animate"
           },
           {
            "args": [
             [
              "2008"
             ],
             {
              "frame": {
               "duration": 200,
               "redraw": true
              },
              "mode": "immediate",
              "transition": {
               "duration": 0
              }
             }
            ],
            "label": "2008",
            "method": "animate"
           },
           {
            "args": [
             [
              "2009"
             ],
             {
              "frame": {
               "duration": 200,
               "redraw": true
              },
              "mode": "immediate",
              "transition": {
               "duration": 0
              }
             }
            ],
            "label": "2009",
            "method": "animate"
           },
           {
            "args": [
             [
              "2010"
             ],
             {
              "frame": {
               "duration": 200,
               "redraw": true
              },
              "mode": "immediate",
              "transition": {
               "duration": 0
              }
             }
            ],
            "label": "2010",
            "method": "animate"
           },
           {
            "args": [
             [
              "2011"
             ],
             {
              "frame": {
               "duration": 200,
               "redraw": true
              },
              "mode": "immediate",
              "transition": {
               "duration": 0
              }
             }
            ],
            "label": "2011",
            "method": "animate"
           },
           {
            "args": [
             [
              "2012"
             ],
             {
              "frame": {
               "duration": 200,
               "redraw": true
              },
              "mode": "immediate",
              "transition": {
               "duration": 0
              }
             }
            ],
            "label": "2012",
            "method": "animate"
           },
           {
            "args": [
             [
              "2013"
             ],
             {
              "frame": {
               "duration": 200,
               "redraw": true
              },
              "mode": "immediate",
              "transition": {
               "duration": 0
              }
             }
            ],
            "label": "2013",
            "method": "animate"
           },
           {
            "args": [
             [
              "2014"
             ],
             {
              "frame": {
               "duration": 200,
               "redraw": true
              },
              "mode": "immediate",
              "transition": {
               "duration": 0
              }
             }
            ],
            "label": "2014",
            "method": "animate"
           },
           {
            "args": [
             [
              "2015"
             ],
             {
              "frame": {
               "duration": 200,
               "redraw": true
              },
              "mode": "immediate",
              "transition": {
               "duration": 0
              }
             }
            ],
            "label": "2015",
            "method": "animate"
           },
           {
            "args": [
             [
              "2016"
             ],
             {
              "frame": {
               "duration": 200,
               "redraw": true
              },
              "mode": "immediate",
              "transition": {
               "duration": 0
              }
             }
            ],
            "label": "2016",
            "method": "animate"
           },
           {
            "args": [
             [
              "2017"
             ],
             {
              "frame": {
               "duration": 200,
               "redraw": true
              },
              "mode": "immediate",
              "transition": {
               "duration": 0
              }
             }
            ],
            "label": "2017",
            "method": "animate"
           },
           {
            "args": [
             [
              "2018"
             ],
             {
              "frame": {
               "duration": 200,
               "redraw": true
              },
              "mode": "immediate",
              "transition": {
               "duration": 0
              }
             }
            ],
            "label": "2018",
            "method": "animate"
           },
           {
            "args": [
             [
              "2019"
             ],
             {
              "frame": {
               "duration": 200,
               "redraw": true
              },
              "mode": "immediate",
              "transition": {
               "duration": 0
              }
             }
            ],
            "label": "2019",
            "method": "animate"
           },
           {
            "args": [
             [
              "2020"
             ],
             {
              "frame": {
               "duration": 200,
               "redraw": true
              },
              "mode": "immediate",
              "transition": {
               "duration": 0
              }
             }
            ],
            "label": "2020",
            "method": "animate"
           }
          ],
          "transition": {
           "duration": 0
          },
          "x": 0,
          "xanchor": "left",
          "y": 0,
          "yanchor": "top"
         }
        ],
        "template": {
         "data": {
          "bar": [
           {
            "error_x": {
             "color": "#2a3f5f"
            },
            "error_y": {
             "color": "#2a3f5f"
            },
            "marker": {
             "line": {
              "color": "#E5ECF6",
              "width": 0.5
             },
             "pattern": {
              "fillmode": "overlay",
              "size": 10,
              "solidity": 0.2
             }
            },
            "type": "bar"
           }
          ],
          "barpolar": [
           {
            "marker": {
             "line": {
              "color": "#E5ECF6",
              "width": 0.5
             },
             "pattern": {
              "fillmode": "overlay",
              "size": 10,
              "solidity": 0.2
             }
            },
            "type": "barpolar"
           }
          ],
          "carpet": [
           {
            "aaxis": {
             "endlinecolor": "#2a3f5f",
             "gridcolor": "white",
             "linecolor": "white",
             "minorgridcolor": "white",
             "startlinecolor": "#2a3f5f"
            },
            "baxis": {
             "endlinecolor": "#2a3f5f",
             "gridcolor": "white",
             "linecolor": "white",
             "minorgridcolor": "white",
             "startlinecolor": "#2a3f5f"
            },
            "type": "carpet"
           }
          ],
          "choropleth": [
           {
            "colorbar": {
             "outlinewidth": 0,
             "ticks": ""
            },
            "type": "choropleth"
           }
          ],
          "contour": [
           {
            "colorbar": {
             "outlinewidth": 0,
             "ticks": ""
            },
            "colorscale": [
             [
              0,
              "#0d0887"
             ],
             [
              0.1111111111111111,
              "#46039f"
             ],
             [
              0.2222222222222222,
              "#7201a8"
             ],
             [
              0.3333333333333333,
              "#9c179e"
             ],
             [
              0.4444444444444444,
              "#bd3786"
             ],
             [
              0.5555555555555556,
              "#d8576b"
             ],
             [
              0.6666666666666666,
              "#ed7953"
             ],
             [
              0.7777777777777778,
              "#fb9f3a"
             ],
             [
              0.8888888888888888,
              "#fdca26"
             ],
             [
              1,
              "#f0f921"
             ]
            ],
            "type": "contour"
           }
          ],
          "contourcarpet": [
           {
            "colorbar": {
             "outlinewidth": 0,
             "ticks": ""
            },
            "type": "contourcarpet"
           }
          ],
          "heatmap": [
           {
            "colorbar": {
             "outlinewidth": 0,
             "ticks": ""
            },
            "colorscale": [
             [
              0,
              "#0d0887"
             ],
             [
              0.1111111111111111,
              "#46039f"
             ],
             [
              0.2222222222222222,
              "#7201a8"
             ],
             [
              0.3333333333333333,
              "#9c179e"
             ],
             [
              0.4444444444444444,
              "#bd3786"
             ],
             [
              0.5555555555555556,
              "#d8576b"
             ],
             [
              0.6666666666666666,
              "#ed7953"
             ],
             [
              0.7777777777777778,
              "#fb9f3a"
             ],
             [
              0.8888888888888888,
              "#fdca26"
             ],
             [
              1,
              "#f0f921"
             ]
            ],
            "type": "heatmap"
           }
          ],
          "heatmapgl": [
           {
            "colorbar": {
             "outlinewidth": 0,
             "ticks": ""
            },
            "colorscale": [
             [
              0,
              "#0d0887"
             ],
             [
              0.1111111111111111,
              "#46039f"
             ],
             [
              0.2222222222222222,
              "#7201a8"
             ],
             [
              0.3333333333333333,
              "#9c179e"
             ],
             [
              0.4444444444444444,
              "#bd3786"
             ],
             [
              0.5555555555555556,
              "#d8576b"
             ],
             [
              0.6666666666666666,
              "#ed7953"
             ],
             [
              0.7777777777777778,
              "#fb9f3a"
             ],
             [
              0.8888888888888888,
              "#fdca26"
             ],
             [
              1,
              "#f0f921"
             ]
            ],
            "type": "heatmapgl"
           }
          ],
          "histogram": [
           {
            "marker": {
             "pattern": {
              "fillmode": "overlay",
              "size": 10,
              "solidity": 0.2
             }
            },
            "type": "histogram"
           }
          ],
          "histogram2d": [
           {
            "colorbar": {
             "outlinewidth": 0,
             "ticks": ""
            },
            "colorscale": [
             [
              0,
              "#0d0887"
             ],
             [
              0.1111111111111111,
              "#46039f"
             ],
             [
              0.2222222222222222,
              "#7201a8"
             ],
             [
              0.3333333333333333,
              "#9c179e"
             ],
             [
              0.4444444444444444,
              "#bd3786"
             ],
             [
              0.5555555555555556,
              "#d8576b"
             ],
             [
              0.6666666666666666,
              "#ed7953"
             ],
             [
              0.7777777777777778,
              "#fb9f3a"
             ],
             [
              0.8888888888888888,
              "#fdca26"
             ],
             [
              1,
              "#f0f921"
             ]
            ],
            "type": "histogram2d"
           }
          ],
          "histogram2dcontour": [
           {
            "colorbar": {
             "outlinewidth": 0,
             "ticks": ""
            },
            "colorscale": [
             [
              0,
              "#0d0887"
             ],
             [
              0.1111111111111111,
              "#46039f"
             ],
             [
              0.2222222222222222,
              "#7201a8"
             ],
             [
              0.3333333333333333,
              "#9c179e"
             ],
             [
              0.4444444444444444,
              "#bd3786"
             ],
             [
              0.5555555555555556,
              "#d8576b"
             ],
             [
              0.6666666666666666,
              "#ed7953"
             ],
             [
              0.7777777777777778,
              "#fb9f3a"
             ],
             [
              0.8888888888888888,
              "#fdca26"
             ],
             [
              1,
              "#f0f921"
             ]
            ],
            "type": "histogram2dcontour"
           }
          ],
          "mesh3d": [
           {
            "colorbar": {
             "outlinewidth": 0,
             "ticks": ""
            },
            "type": "mesh3d"
           }
          ],
          "parcoords": [
           {
            "line": {
             "colorbar": {
              "outlinewidth": 0,
              "ticks": ""
             }
            },
            "type": "parcoords"
           }
          ],
          "pie": [
           {
            "automargin": true,
            "type": "pie"
           }
          ],
          "scatter": [
           {
            "fillpattern": {
             "fillmode": "overlay",
             "size": 10,
             "solidity": 0.2
            },
            "type": "scatter"
           }
          ],
          "scatter3d": [
           {
            "line": {
             "colorbar": {
              "outlinewidth": 0,
              "ticks": ""
             }
            },
            "marker": {
             "colorbar": {
              "outlinewidth": 0,
              "ticks": ""
             }
            },
            "type": "scatter3d"
           }
          ],
          "scattercarpet": [
           {
            "marker": {
             "colorbar": {
              "outlinewidth": 0,
              "ticks": ""
             }
            },
            "type": "scattercarpet"
           }
          ],
          "scattergeo": [
           {
            "marker": {
             "colorbar": {
              "outlinewidth": 0,
              "ticks": ""
             }
            },
            "type": "scattergeo"
           }
          ],
          "scattergl": [
           {
            "marker": {
             "colorbar": {
              "outlinewidth": 0,
              "ticks": ""
             }
            },
            "type": "scattergl"
           }
          ],
          "scattermapbox": [
           {
            "marker": {
             "colorbar": {
              "outlinewidth": 0,
              "ticks": ""
             }
            },
            "type": "scattermapbox"
           }
          ],
          "scatterpolar": [
           {
            "marker": {
             "colorbar": {
              "outlinewidth": 0,
              "ticks": ""
             }
            },
            "type": "scatterpolar"
           }
          ],
          "scatterpolargl": [
           {
            "marker": {
             "colorbar": {
              "outlinewidth": 0,
              "ticks": ""
             }
            },
            "type": "scatterpolargl"
           }
          ],
          "scatterternary": [
           {
            "marker": {
             "colorbar": {
              "outlinewidth": 0,
              "ticks": ""
             }
            },
            "type": "scatterternary"
           }
          ],
          "surface": [
           {
            "colorbar": {
             "outlinewidth": 0,
             "ticks": ""
            },
            "colorscale": [
             [
              0,
              "#0d0887"
             ],
             [
              0.1111111111111111,
              "#46039f"
             ],
             [
              0.2222222222222222,
              "#7201a8"
             ],
             [
              0.3333333333333333,
              "#9c179e"
             ],
             [
              0.4444444444444444,
              "#bd3786"
             ],
             [
              0.5555555555555556,
              "#d8576b"
             ],
             [
              0.6666666666666666,
              "#ed7953"
             ],
             [
              0.7777777777777778,
              "#fb9f3a"
             ],
             [
              0.8888888888888888,
              "#fdca26"
             ],
             [
              1,
              "#f0f921"
             ]
            ],
            "type": "surface"
           }
          ],
          "table": [
           {
            "cells": {
             "fill": {
              "color": "#EBF0F8"
             },
             "line": {
              "color": "white"
             }
            },
            "header": {
             "fill": {
              "color": "#C8D4E3"
             },
             "line": {
              "color": "white"
             }
            },
            "type": "table"
           }
          ]
         },
         "layout": {
          "annotationdefaults": {
           "arrowcolor": "#2a3f5f",
           "arrowhead": 0,
           "arrowwidth": 1
          },
          "autotypenumbers": "strict",
          "coloraxis": {
           "colorbar": {
            "outlinewidth": 0,
            "ticks": ""
           }
          },
          "colorscale": {
           "diverging": [
            [
             0,
             "#8e0152"
            ],
            [
             0.1,
             "#c51b7d"
            ],
            [
             0.2,
             "#de77ae"
            ],
            [
             0.3,
             "#f1b6da"
            ],
            [
             0.4,
             "#fde0ef"
            ],
            [
             0.5,
             "#f7f7f7"
            ],
            [
             0.6,
             "#e6f5d0"
            ],
            [
             0.7,
             "#b8e186"
            ],
            [
             0.8,
             "#7fbc41"
            ],
            [
             0.9,
             "#4d9221"
            ],
            [
             1,
             "#276419"
            ]
           ],
           "sequential": [
            [
             0,
             "#0d0887"
            ],
            [
             0.1111111111111111,
             "#46039f"
            ],
            [
             0.2222222222222222,
             "#7201a8"
            ],
            [
             0.3333333333333333,
             "#9c179e"
            ],
            [
             0.4444444444444444,
             "#bd3786"
            ],
            [
             0.5555555555555556,
             "#d8576b"
            ],
            [
             0.6666666666666666,
             "#ed7953"
            ],
            [
             0.7777777777777778,
             "#fb9f3a"
            ],
            [
             0.8888888888888888,
             "#fdca26"
            ],
            [
             1,
             "#f0f921"
            ]
           ],
           "sequentialminus": [
            [
             0,
             "#0d0887"
            ],
            [
             0.1111111111111111,
             "#46039f"
            ],
            [
             0.2222222222222222,
             "#7201a8"
            ],
            [
             0.3333333333333333,
             "#9c179e"
            ],
            [
             0.4444444444444444,
             "#bd3786"
            ],
            [
             0.5555555555555556,
             "#d8576b"
            ],
            [
             0.6666666666666666,
             "#ed7953"
            ],
            [
             0.7777777777777778,
             "#fb9f3a"
            ],
            [
             0.8888888888888888,
             "#fdca26"
            ],
            [
             1,
             "#f0f921"
            ]
           ]
          },
          "colorway": [
           "#636efa",
           "#EF553B",
           "#00cc96",
           "#ab63fa",
           "#FFA15A",
           "#19d3f3",
           "#FF6692",
           "#B6E880",
           "#FF97FF",
           "#FECB52"
          ],
          "font": {
           "color": "#2a3f5f"
          },
          "geo": {
           "bgcolor": "white",
           "lakecolor": "white",
           "landcolor": "#E5ECF6",
           "showlakes": true,
           "showland": true,
           "subunitcolor": "white"
          },
          "hoverlabel": {
           "align": "left"
          },
          "hovermode": "closest",
          "mapbox": {
           "style": "light"
          },
          "paper_bgcolor": "white",
          "plot_bgcolor": "#E5ECF6",
          "polar": {
           "angularaxis": {
            "gridcolor": "white",
            "linecolor": "white",
            "ticks": ""
           },
           "bgcolor": "#E5ECF6",
           "radialaxis": {
            "gridcolor": "white",
            "linecolor": "white",
            "ticks": ""
           }
          },
          "scene": {
           "xaxis": {
            "backgroundcolor": "#E5ECF6",
            "gridcolor": "white",
            "gridwidth": 2,
            "linecolor": "white",
            "showbackground": true,
            "ticks": "",
            "zerolinecolor": "white"
           },
           "yaxis": {
            "backgroundcolor": "#E5ECF6",
            "gridcolor": "white",
            "gridwidth": 2,
            "linecolor": "white",
            "showbackground": true,
            "ticks": "",
            "zerolinecolor": "white"
           },
           "zaxis": {
            "backgroundcolor": "#E5ECF6",
            "gridcolor": "white",
            "gridwidth": 2,
            "linecolor": "white",
            "showbackground": true,
            "ticks": "",
            "zerolinecolor": "white"
           }
          },
          "shapedefaults": {
           "line": {
            "color": "#2a3f5f"
           }
          },
          "ternary": {
           "aaxis": {
            "gridcolor": "white",
            "linecolor": "white",
            "ticks": ""
           },
           "baxis": {
            "gridcolor": "white",
            "linecolor": "white",
            "ticks": ""
           },
           "bgcolor": "#E5ECF6",
           "caxis": {
            "gridcolor": "white",
            "linecolor": "white",
            "ticks": ""
           }
          },
          "title": {
           "x": 0.05
          },
          "xaxis": {
           "automargin": true,
           "gridcolor": "white",
           "linecolor": "white",
           "ticks": "",
           "title": {
            "standoff": 15
           },
           "zerolinecolor": "white",
           "zerolinewidth": 2
          },
          "yaxis": {
           "automargin": true,
           "gridcolor": "white",
           "linecolor": "white",
           "ticks": "",
           "title": {
            "standoff": 15
           },
           "zerolinecolor": "white",
           "zerolinewidth": 2
          }
         }
        },
        "updatemenus": [
         {
          "buttons": [
           {
            "args": [
             null,
             {
              "frame": {
               "duration": 200,
               "redraw": true
              },
              "transition": {
               "duration": 0
              }
             }
            ],
            "label": "Play",
            "method": "animate"
           }
          ],
          "type": "buttons"
         }
        ],
        "xaxis": {
         "title": {
          "text": "Year"
         }
        },
        "yaxis": {
         "title": {
          "text": "Minimum Wage (2020 Dollars)"
         }
        }
       }
      }
     },
     "metadata": {},
     "output_type": "display_data"
    }
   ],
   "source": [
    "import pandas as pd\n",
    "import plotly.graph_objects as go\n",
    "\n",
    "# Load the dataset with proper encoding\n",
    "minimum_wage_data = pd.read_csv('minimum_wage_us.csv', encoding='ISO-8859-1')\n",
    "\n",
    "# Filtering relevant columns\n",
    "merged_data = minimum_wage_data[['Year', 'State.Minimum.Wage.2020.Dollars']].copy()\n",
    "\n",
    "# Create figure\n",
    "fig = go.Figure()\n",
    "\n",
    "# Add initial trace for the first year\n",
    "initial_year = merged_data['Year'].min()\n",
    "initial_data = merged_data[merged_data['Year'] == initial_year]\n",
    "fig.add_trace(go.Violin(\n",
    "    y=initial_data['State.Minimum.Wage.2020.Dollars'],\n",
    "    name=str(initial_year),\n",
    "    box_visible=False,  # Remove box plot\n",
    "    meanline_visible=True\n",
    "))\n",
    "\n",
    "# Create animation frames\n",
    "frames = []\n",
    "years = merged_data['Year'].unique()\n",
    "for year in years:\n",
    "    yearly_data = merged_data[merged_data['Year'] == year]\n",
    "    frames.append(go.Frame(\n",
    "        data=[go.Violin(\n",
    "            y=yearly_data['State.Minimum.Wage.2020.Dollars'],\n",
    "            box_visible=False,  # Remove box plot\n",
    "            meanline_visible=True\n",
    "        )],\n",
    "        name=str(year)\n",
    "    ))\n",
    "\n",
    "fig.frames = frames\n",
    "\n",
    "# Add slider and animation settings\n",
    "fig.update_layout(\n",
    "    updatemenus=[dict(\n",
    "        type=\"buttons\",\n",
    "        buttons=[dict(label=\"Play\",\n",
    "                      method=\"animate\",\n",
    "                      args=[None, dict(frame=dict(duration=200, redraw=True),  # faster animation speed\n",
    "                                       transition=dict(duration=0))])])]\n",
    ")\n",
    "\n",
    "sliders = [dict(steps=[dict(method='animate',\n",
    "                            args=[[str(year)], dict(mode='immediate',\n",
    "                                                    frame=dict(duration=200, redraw=True),  # faster animation speed\n",
    "                                                    transition=dict(duration=0))],\n",
    "                            label=str(year)) for year in years],\n",
    "                transition=dict(duration=0),\n",
    "                x=0,  # slider starting position\n",
    "                xanchor='left',\n",
    "                y=0,\n",
    "                yanchor='top'\n",
    "               )]\n",
    "\n",
    "# Update layout with increased height\n",
    "fig.update_layout(sliders=sliders, height=800)  # Increase height to 800 pixels\n",
    "\n",
    "fig.update_layout(yaxis_title='Minimum Wage (2020 Dollars)', xaxis_title='Year')\n",
    "\n",
    "fig.show()\n"
   ]
  },
  {
   "cell_type": "markdown",
   "id": "c3afd57e",
   "metadata": {},
   "source": [
    "De violinplot toont de spreiding van het minimumloon over de jaren. Uit de grafiek kunnen we afleiden dat de median door de jaren consistent is gebleven, er is geen significante sprake van daling of stijging van het minimum loon."
   ]
  },
  {
   "cell_type": "code",
   "execution_count": 16,
   "id": "72c94bbf",
   "metadata": {
    "scrolled": false
   },
   "outputs": [
    {
     "data": {
      "application/vnd.plotly.v1+json": {
       "config": {
        "plotlyServerURL": "https://plot.ly"
       },
       "data": [
        {
         "mode": "lines+markers",
         "name": "Legal Immigrants",
         "type": "scatter",
         "x": [
          1980,
          1980,
          1980,
          1980,
          1980,
          1980,
          1980,
          1980,
          1980,
          1980,
          1980,
          1980,
          1981,
          1981,
          1981,
          1981,
          1981,
          1981,
          1981,
          1981,
          1981,
          1981,
          1981,
          1981,
          1982,
          1982,
          1982,
          1982,
          1982,
          1982,
          1982,
          1982,
          1982,
          1982,
          1982,
          1982,
          1983,
          1983,
          1983,
          1983,
          1983,
          1983,
          1983,
          1983,
          1983,
          1983,
          1983,
          1983,
          1984,
          1984,
          1984,
          1984,
          1984,
          1984,
          1984,
          1984,
          1984,
          1984,
          1984,
          1984,
          1985,
          1985,
          1985,
          1985,
          1985,
          1985,
          1985,
          1985,
          1985,
          1985,
          1985,
          1985,
          1986,
          1986,
          1986,
          1986,
          1986,
          1986,
          1986,
          1986,
          1986,
          1986,
          1986,
          1986,
          1987,
          1987,
          1987,
          1987,
          1987,
          1987,
          1987,
          1987,
          1987,
          1987,
          1987,
          1987,
          1988,
          1988,
          1988,
          1988,
          1988,
          1988,
          1988,
          1988,
          1988,
          1988,
          1988,
          1988,
          1989,
          1989,
          1989,
          1989,
          1989,
          1989,
          1989,
          1989,
          1989,
          1989,
          1989,
          1989,
          1990,
          1990,
          1990,
          1990,
          1990,
          1990,
          1990,
          1990,
          1990,
          1990,
          1990,
          1990,
          1991,
          1991,
          1991,
          1991,
          1991,
          1991,
          1991,
          1991,
          1991,
          1991,
          1991,
          1991,
          1992,
          1992,
          1992,
          1992,
          1992,
          1992,
          1992,
          1992,
          1992,
          1992,
          1992,
          1992,
          1993,
          1993,
          1993,
          1993,
          1993,
          1993,
          1993,
          1993,
          1993,
          1993,
          1993,
          1993,
          1994,
          1994,
          1994,
          1994,
          1994,
          1994,
          1994,
          1994,
          1994,
          1994,
          1994,
          1994,
          1995,
          1995,
          1995,
          1995,
          1995,
          1995,
          1995,
          1995,
          1995,
          1995,
          1995,
          1995,
          1996,
          1996,
          1996,
          1996,
          1996,
          1996,
          1996,
          1996,
          1996,
          1996,
          1996,
          1996,
          1997,
          1997,
          1997,
          1997,
          1997,
          1997,
          1997,
          1997,
          1997,
          1997,
          1997,
          1997,
          1998,
          1998,
          1998,
          1998,
          1998,
          1998,
          1998,
          1998,
          1998,
          1998,
          1998,
          1998,
          1999,
          1999,
          1999,
          1999,
          1999,
          1999,
          1999,
          1999,
          1999,
          1999,
          1999,
          1999,
          2000,
          2000,
          2000,
          2000,
          2000,
          2000,
          2000,
          2000,
          2000,
          2000,
          2000,
          2000,
          2001,
          2001,
          2001,
          2001,
          2001,
          2001,
          2001,
          2001,
          2001,
          2001,
          2001,
          2001,
          2002,
          2002,
          2002,
          2002,
          2002,
          2002,
          2002,
          2002,
          2002,
          2002,
          2002,
          2002,
          2003,
          2003,
          2003,
          2003,
          2003,
          2003,
          2003,
          2003,
          2003,
          2003,
          2003,
          2003,
          2004,
          2004,
          2004,
          2004,
          2004,
          2004,
          2004,
          2004,
          2004,
          2004,
          2004,
          2004,
          2005,
          2005,
          2005,
          2005,
          2005,
          2005,
          2005,
          2005,
          2005,
          2005,
          2005,
          2005,
          2006,
          2006,
          2006,
          2006,
          2006,
          2006,
          2006,
          2006,
          2006,
          2006,
          2006,
          2006,
          2007,
          2007,
          2007,
          2007,
          2007,
          2007,
          2007,
          2007,
          2007,
          2007,
          2007,
          2007,
          2008,
          2008,
          2008,
          2008,
          2008,
          2008,
          2008,
          2008,
          2008,
          2008,
          2008,
          2008,
          2009,
          2009,
          2009,
          2009,
          2009,
          2009,
          2009,
          2009,
          2009,
          2009,
          2009,
          2009,
          2010,
          2010,
          2010,
          2010,
          2010,
          2010,
          2010,
          2010,
          2010,
          2010,
          2010,
          2010,
          2011,
          2011,
          2011,
          2011,
          2011,
          2011,
          2011,
          2011,
          2011,
          2011,
          2011,
          2011,
          2012,
          2012,
          2012,
          2012,
          2012,
          2012,
          2012,
          2012,
          2012,
          2012,
          2012,
          2012,
          2013,
          2013,
          2013,
          2013,
          2013,
          2013,
          2013,
          2013,
          2013,
          2013,
          2013,
          2013,
          2014,
          2014,
          2014,
          2014,
          2014,
          2014,
          2014,
          2014,
          2014,
          2014,
          2014,
          2014,
          2015,
          2015,
          2015,
          2015,
          2015,
          2015,
          2015,
          2015,
          2015,
          2015,
          2015,
          2015,
          2016,
          2016,
          2016,
          2016,
          2016,
          2016,
          2016,
          2016,
          2016,
          2016,
          2016,
          2016,
          2017,
          2017,
          2017,
          2017,
          2017,
          2017,
          2017,
          2017,
          2017,
          2017,
          2017,
          2017,
          2018,
          2018,
          2018,
          2018,
          2018,
          2018,
          2018,
          2018,
          2018,
          2018,
          2018,
          2018,
          2019,
          2019,
          2019,
          2019,
          2019,
          2019,
          2019,
          2019,
          2019,
          2019,
          2019,
          2019,
          2020,
          2020,
          2020,
          2020,
          2020,
          2020,
          2020,
          2020,
          2020,
          2020,
          2020,
          2020,
          2021,
          2021,
          2021,
          2021,
          2021,
          2021,
          2021,
          2021,
          2021,
          2021,
          2021
         ],
         "y": [
          524295,
          524295,
          524295,
          524295,
          524295,
          524295,
          524295,
          524295,
          524295,
          524295,
          524295,
          524295,
          595014,
          595014,
          595014,
          595014,
          595014,
          595014,
          595014,
          595014,
          595014,
          595014,
          595014,
          595014,
          533624,
          533624,
          533624,
          533624,
          533624,
          533624,
          533624,
          533624,
          533624,
          533624,
          533624,
          533624,
          550052,
          550052,
          550052,
          550052,
          550052,
          550052,
          550052,
          550052,
          550052,
          550052,
          550052,
          550052,
          541811,
          541811,
          541811,
          541811,
          541811,
          541811,
          541811,
          541811,
          541811,
          541811,
          541811,
          541811,
          568149,
          568149,
          568149,
          568149,
          568149,
          568149,
          568149,
          568149,
          568149,
          568149,
          568149,
          568149,
          600027,
          600027,
          600027,
          600027,
          600027,
          600027,
          600027,
          600027,
          600027,
          600027,
          600027,
          600027,
          599889,
          599889,
          599889,
          599889,
          599889,
          599889,
          599889,
          599889,
          599889,
          599889,
          599889,
          599889,
          641346,
          641346,
          641346,
          641346,
          641346,
          641346,
          641346,
          641346,
          641346,
          641346,
          641346,
          641346,
          1090172,
          1090172,
          1090172,
          1090172,
          1090172,
          1090172,
          1090172,
          1090172,
          1090172,
          1090172,
          1090172,
          1090172,
          1535872,
          1535872,
          1535872,
          1535872,
          1535872,
          1535872,
          1535872,
          1535872,
          1535872,
          1535872,
          1535872,
          1535872,
          1826595,
          1826595,
          1826595,
          1826595,
          1826595,
          1826595,
          1826595,
          1826595,
          1826595,
          1826595,
          1826595,
          1826595,
          973445,
          973445,
          973445,
          973445,
          973445,
          973445,
          973445,
          973445,
          973445,
          973445,
          973445,
          973445,
          903916,
          903916,
          903916,
          903916,
          903916,
          903916,
          903916,
          903916,
          903916,
          903916,
          903916,
          903916,
          803993,
          803993,
          803993,
          803993,
          803993,
          803993,
          803993,
          803993,
          803993,
          803993,
          803993,
          803993,
          720177,
          720177,
          720177,
          720177,
          720177,
          720177,
          720177,
          720177,
          720177,
          720177,
          720177,
          720177,
          915560,
          915560,
          915560,
          915560,
          915560,
          915560,
          915560,
          915560,
          915560,
          915560,
          915560,
          915560,
          797847,
          797847,
          797847,
          797847,
          797847,
          797847,
          797847,
          797847,
          797847,
          797847,
          797847,
          797847,
          653206,
          653206,
          653206,
          653206,
          653206,
          653206,
          653206,
          653206,
          653206,
          653206,
          653206,
          653206,
          644787,
          644787,
          644787,
          644787,
          644787,
          644787,
          644787,
          644787,
          644787,
          644787,
          644787,
          644787,
          841002,
          841002,
          841002,
          841002,
          841002,
          841002,
          841002,
          841002,
          841002,
          841002,
          841002,
          841002,
          1058902,
          1058902,
          1058902,
          1058902,
          1058902,
          1058902,
          1058902,
          1058902,
          1058902,
          1058902,
          1058902,
          1058902,
          1059356,
          1059356,
          1059356,
          1059356,
          1059356,
          1059356,
          1059356,
          1059356,
          1059356,
          1059356,
          1059356,
          1059356,
          703542,
          703542,
          703542,
          703542,
          703542,
          703542,
          703542,
          703542,
          703542,
          703542,
          703542,
          703542,
          957883,
          957883,
          957883,
          957883,
          957883,
          957883,
          957883,
          957883,
          957883,
          957883,
          957883,
          957883,
          1122257,
          1122257,
          1122257,
          1122257,
          1122257,
          1122257,
          1122257,
          1122257,
          1122257,
          1122257,
          1122257,
          1122257,
          1266129,
          1266129,
          1266129,
          1266129,
          1266129,
          1266129,
          1266129,
          1266129,
          1266129,
          1266129,
          1266129,
          1266129,
          1052415,
          1052415,
          1052415,
          1052415,
          1052415,
          1052415,
          1052415,
          1052415,
          1052415,
          1052415,
          1052415,
          1052415,
          1107126,
          1107126,
          1107126,
          1107126,
          1107126,
          1107126,
          1107126,
          1107126,
          1107126,
          1107126,
          1107126,
          1107126,
          1130818,
          1130818,
          1130818,
          1130818,
          1130818,
          1130818,
          1130818,
          1130818,
          1130818,
          1130818,
          1130818,
          1130818,
          1042625,
          1042625,
          1042625,
          1042625,
          1042625,
          1042625,
          1042625,
          1042625,
          1042625,
          1042625,
          1042625,
          1042625,
          1062040,
          1062040,
          1062040,
          1062040,
          1062040,
          1062040,
          1062040,
          1062040,
          1062040,
          1062040,
          1062040,
          1062040,
          1031631,
          1031631,
          1031631,
          1031631,
          1031631,
          1031631,
          1031631,
          1031631,
          1031631,
          1031631,
          1031631,
          1031631,
          990553,
          990553,
          990553,
          990553,
          990553,
          990553,
          990553,
          990553,
          990553,
          990553,
          990553,
          990553,
          1016518,
          1016518,
          1016518,
          1016518,
          1016518,
          1016518,
          1016518,
          1016518,
          1016518,
          1016518,
          1016518,
          1016518,
          1051031,
          1051031,
          1051031,
          1051031,
          1051031,
          1051031,
          1051031,
          1051031,
          1051031,
          1051031,
          1051031,
          1051031,
          1183505,
          1183505,
          1183505,
          1183505,
          1183505,
          1183505,
          1183505,
          1183505,
          1183505,
          1183505,
          1183505,
          1183505,
          1127167,
          1127167,
          1127167,
          1127167,
          1127167,
          1127167,
          1127167,
          1127167,
          1127167,
          1127167,
          1127167,
          1127167,
          1096611,
          1096611,
          1096611,
          1096611,
          1096611,
          1096611,
          1096611,
          1096611,
          1096611,
          1096611,
          1096611,
          1096611,
          1031765,
          1031765,
          1031765,
          1031765,
          1031765,
          1031765,
          1031765,
          1031765,
          1031765,
          1031765,
          1031765,
          1031765,
          707362,
          707362,
          707362,
          707362,
          707362,
          707362,
          707362,
          707362,
          707362,
          707362,
          707362,
          707362,
          740002,
          740002,
          740002,
          740002,
          740002,
          740002,
          740002,
          740002,
          740002,
          740002,
          740002
         ],
         "yaxis": "y"
        },
        {
         "mode": "lines+markers",
         "name": "Illegal Immigrants",
         "type": "scatter",
         "x": [
          1980,
          1980,
          1980,
          1980,
          1980,
          1980,
          1980,
          1980,
          1980,
          1980,
          1980,
          1980,
          1981,
          1981,
          1981,
          1981,
          1981,
          1981,
          1981,
          1981,
          1981,
          1981,
          1981,
          1981,
          1982,
          1982,
          1982,
          1982,
          1982,
          1982,
          1982,
          1982,
          1982,
          1982,
          1982,
          1982,
          1983,
          1983,
          1983,
          1983,
          1983,
          1983,
          1983,
          1983,
          1983,
          1983,
          1983,
          1983,
          1984,
          1984,
          1984,
          1984,
          1984,
          1984,
          1984,
          1984,
          1984,
          1984,
          1984,
          1984,
          1985,
          1985,
          1985,
          1985,
          1985,
          1985,
          1985,
          1985,
          1985,
          1985,
          1985,
          1985,
          1986,
          1986,
          1986,
          1986,
          1986,
          1986,
          1986,
          1986,
          1986,
          1986,
          1986,
          1986,
          1987,
          1987,
          1987,
          1987,
          1987,
          1987,
          1987,
          1987,
          1987,
          1987,
          1987,
          1987,
          1988,
          1988,
          1988,
          1988,
          1988,
          1988,
          1988,
          1988,
          1988,
          1988,
          1988,
          1988,
          1989,
          1989,
          1989,
          1989,
          1989,
          1989,
          1989,
          1989,
          1989,
          1989,
          1989,
          1989,
          1990,
          1990,
          1990,
          1990,
          1990,
          1990,
          1990,
          1990,
          1990,
          1990,
          1990,
          1990,
          1991,
          1991,
          1991,
          1991,
          1991,
          1991,
          1991,
          1991,
          1991,
          1991,
          1991,
          1991,
          1992,
          1992,
          1992,
          1992,
          1992,
          1992,
          1992,
          1992,
          1992,
          1992,
          1992,
          1992,
          1993,
          1993,
          1993,
          1993,
          1993,
          1993,
          1993,
          1993,
          1993,
          1993,
          1993,
          1993,
          1994,
          1994,
          1994,
          1994,
          1994,
          1994,
          1994,
          1994,
          1994,
          1994,
          1994,
          1994,
          1995,
          1995,
          1995,
          1995,
          1995,
          1995,
          1995,
          1995,
          1995,
          1995,
          1995,
          1995,
          1996,
          1996,
          1996,
          1996,
          1996,
          1996,
          1996,
          1996,
          1996,
          1996,
          1996,
          1996,
          1997,
          1997,
          1997,
          1997,
          1997,
          1997,
          1997,
          1997,
          1997,
          1997,
          1997,
          1997,
          1998,
          1998,
          1998,
          1998,
          1998,
          1998,
          1998,
          1998,
          1998,
          1998,
          1998,
          1998,
          1999,
          1999,
          1999,
          1999,
          1999,
          1999,
          1999,
          1999,
          1999,
          1999,
          1999,
          1999,
          2000,
          2000,
          2000,
          2000,
          2000,
          2000,
          2000,
          2000,
          2000,
          2000,
          2000,
          2000,
          2001,
          2001,
          2001,
          2001,
          2001,
          2001,
          2001,
          2001,
          2001,
          2001,
          2001,
          2001,
          2002,
          2002,
          2002,
          2002,
          2002,
          2002,
          2002,
          2002,
          2002,
          2002,
          2002,
          2002,
          2003,
          2003,
          2003,
          2003,
          2003,
          2003,
          2003,
          2003,
          2003,
          2003,
          2003,
          2003,
          2004,
          2004,
          2004,
          2004,
          2004,
          2004,
          2004,
          2004,
          2004,
          2004,
          2004,
          2004,
          2005,
          2005,
          2005,
          2005,
          2005,
          2005,
          2005,
          2005,
          2005,
          2005,
          2005,
          2005,
          2006,
          2006,
          2006,
          2006,
          2006,
          2006,
          2006,
          2006,
          2006,
          2006,
          2006,
          2006,
          2007,
          2007,
          2007,
          2007,
          2007,
          2007,
          2007,
          2007,
          2007,
          2007,
          2007,
          2007,
          2008,
          2008,
          2008,
          2008,
          2008,
          2008,
          2008,
          2008,
          2008,
          2008,
          2008,
          2008,
          2009,
          2009,
          2009,
          2009,
          2009,
          2009,
          2009,
          2009,
          2009,
          2009,
          2009,
          2009,
          2010,
          2010,
          2010,
          2010,
          2010,
          2010,
          2010,
          2010,
          2010,
          2010,
          2010,
          2010,
          2011,
          2011,
          2011,
          2011,
          2011,
          2011,
          2011,
          2011,
          2011,
          2011,
          2011,
          2011,
          2012,
          2012,
          2012,
          2012,
          2012,
          2012,
          2012,
          2012,
          2012,
          2012,
          2012,
          2012,
          2013,
          2013,
          2013,
          2013,
          2013,
          2013,
          2013,
          2013,
          2013,
          2013,
          2013,
          2013,
          2014,
          2014,
          2014,
          2014,
          2014,
          2014,
          2014,
          2014,
          2014,
          2014,
          2014,
          2014,
          2015,
          2015,
          2015,
          2015,
          2015,
          2015,
          2015,
          2015,
          2015,
          2015,
          2015,
          2015,
          2016,
          2016,
          2016,
          2016,
          2016,
          2016,
          2016,
          2016,
          2016,
          2016,
          2016,
          2016,
          2017,
          2017,
          2017,
          2017,
          2017,
          2017,
          2017,
          2017,
          2017,
          2017,
          2017,
          2017,
          2018,
          2018,
          2018,
          2018,
          2018,
          2018,
          2018,
          2018,
          2018,
          2018,
          2018,
          2018,
          2019,
          2019,
          2019,
          2019,
          2019,
          2019,
          2019,
          2019,
          2019,
          2019,
          2019,
          2019,
          2020,
          2020,
          2020,
          2020,
          2020,
          2020,
          2020,
          2020,
          2020,
          2020,
          2020,
          2020,
          2021,
          2021,
          2021,
          2021,
          2021,
          2021,
          2021,
          2021,
          2021,
          2021,
          2021
         ],
         "y": [
          910361,
          910361,
          910361,
          910361,
          910361,
          910361,
          910361,
          910361,
          910361,
          910361,
          910361,
          910361,
          975780,
          975780,
          975780,
          975780,
          975780,
          975780,
          975780,
          975780,
          975780,
          975780,
          975780,
          975780,
          970246,
          970246,
          970246,
          970246,
          970246,
          970246,
          970246,
          970246,
          970246,
          970246,
          970246,
          970246,
          1251357,
          1251357,
          1251357,
          1251357,
          1251357,
          1251357,
          1251357,
          1251357,
          1251357,
          1251357,
          1251357,
          1251357,
          1246981,
          1246981,
          1246981,
          1246981,
          1246981,
          1246981,
          1246981,
          1246981,
          1246981,
          1246981,
          1246981,
          1246981,
          1348749,
          1348749,
          1348749,
          1348749,
          1348749,
          1348749,
          1348749,
          1348749,
          1348749,
          1348749,
          1348749,
          1348749,
          1767400,
          1767400,
          1767400,
          1767400,
          1767400,
          1767400,
          1767400,
          1767400,
          1767400,
          1767400,
          1767400,
          1767400,
          1190488,
          1190488,
          1190488,
          1190488,
          1190488,
          1190488,
          1190488,
          1190488,
          1190488,
          1190488,
          1190488,
          1190488,
          1008145,
          1008145,
          1008145,
          1008145,
          1008145,
          1008145,
          1008145,
          1008145,
          1008145,
          1008145,
          1008145,
          1008145,
          954243,
          954243,
          954243,
          954243,
          954243,
          954243,
          954243,
          954243,
          954243,
          954243,
          954243,
          954243,
          1169939,
          1169939,
          1169939,
          1169939,
          1169939,
          1169939,
          1169939,
          1169939,
          1169939,
          1169939,
          1169939,
          1169939,
          1197875,
          1197875,
          1197875,
          1197875,
          1197875,
          1197875,
          1197875,
          1197875,
          1197875,
          1197875,
          1197875,
          1197875,
          1258481,
          1258481,
          1258481,
          1258481,
          1258481,
          1258481,
          1258481,
          1258481,
          1258481,
          1258481,
          1258481,
          1258481,
          1327261,
          1327261,
          1327261,
          1327261,
          1327261,
          1327261,
          1327261,
          1327261,
          1327261,
          1327261,
          1327261,
          1327261,
          1094719,
          1094719,
          1094719,
          1094719,
          1094719,
          1094719,
          1094719,
          1094719,
          1094719,
          1094719,
          1094719,
          1094719,
          1394554,
          1394554,
          1394554,
          1394554,
          1394554,
          1394554,
          1394554,
          1394554,
          1394554,
          1394554,
          1394554,
          1394554,
          1649986,
          1649986,
          1649986,
          1649986,
          1649986,
          1649986,
          1649986,
          1649986,
          1649986,
          1649986,
          1649986,
          1649986,
          1536520,
          1536520,
          1536520,
          1536520,
          1536520,
          1536520,
          1536520,
          1536520,
          1536520,
          1536520,
          1536520,
          1536520,
          1679439,
          1679439,
          1679439,
          1679439,
          1679439,
          1679439,
          1679439,
          1679439,
          1679439,
          1679439,
          1679439,
          1679439,
          1714035,
          1714035,
          1714035,
          1714035,
          1714035,
          1714035,
          1714035,
          1714035,
          1714035,
          1714035,
          1714035,
          1714035,
          1814729,
          1814729,
          1814729,
          1814729,
          1814729,
          1814729,
          1814729,
          1814729,
          1814729,
          1814729,
          1814729,
          1814729,
          1387486,
          1387486,
          1387486,
          1387486,
          1387486,
          1387486,
          1387486,
          1387486,
          1387486,
          1387486,
          1387486,
          1387486,
          1062270,
          1062270,
          1062270,
          1062270,
          1062270,
          1062270,
          1062270,
          1062270,
          1062270,
          1062270,
          1062270,
          1062270,
          1046422,
          1046422,
          1046422,
          1046422,
          1046422,
          1046422,
          1046422,
          1046422,
          1046422,
          1046422,
          1046422,
          1046422,
          1264232,
          1264232,
          1264232,
          1264232,
          1264232,
          1264232,
          1264232,
          1264232,
          1264232,
          1264232,
          1264232,
          1264232,
          1291065,
          1291065,
          1291065,
          1291065,
          1291065,
          1291065,
          1291065,
          1291065,
          1291065,
          1291065,
          1291065,
          1291065,
          1206408,
          1206408,
          1206408,
          1206408,
          1206408,
          1206408,
          1206408,
          1206408,
          1206408,
          1206408,
          1206408,
          1206408,
          960673,
          960673,
          960673,
          960673,
          960673,
          960673,
          960673,
          960673,
          960673,
          960673,
          960673,
          960673,
          1043759,
          1043759,
          1043759,
          1043759,
          1043759,
          1043759,
          1043759,
          1043759,
          1043759,
          1043759,
          1043759,
          1043759,
          889212,
          889212,
          889212,
          889212,
          889212,
          889212,
          889212,
          889212,
          889212,
          889212,
          889212,
          889212,
          796587,
          796587,
          796587,
          796587,
          796587,
          796587,
          796587,
          796587,
          796587,
          796587,
          796587,
          796587,
          678606,
          678606,
          678606,
          678606,
          678606,
          678606,
          678606,
          678606,
          678606,
          678606,
          678606,
          678606,
          795735,
          795735,
          795735,
          795735,
          795735,
          795735,
          795735,
          795735,
          795735,
          795735,
          795735,
          795735,
          786223,
          786223,
          786223,
          786223,
          786223,
          786223,
          786223,
          786223,
          786223,
          786223,
          786223,
          786223,
          805334,
          805334,
          805334,
          805334,
          805334,
          805334,
          805334,
          805334,
          805334,
          805334,
          805334,
          805334,
          596560,
          596560,
          596560,
          596560,
          596560,
          596560,
          596560,
          596560,
          596560,
          596560,
          596560,
          596560,
          683782,
          683782,
          683782,
          683782,
          683782,
          683782,
          683782,
          683782,
          683782,
          683782,
          683782,
          683782,
          607677,
          607677,
          607677,
          607677,
          607677,
          607677,
          607677,
          607677,
          607677,
          607677,
          607677,
          607677,
          739486,
          739486,
          739486,
          739486,
          739486,
          739486,
          739486,
          739486,
          739486,
          739486,
          739486,
          739486,
          1175841,
          1175841,
          1175841,
          1175841,
          1175841,
          1175841,
          1175841,
          1175841,
          1175841,
          1175841,
          1175841,
          1175841,
          609265,
          609265,
          609265,
          609265,
          609265,
          609265,
          609265,
          609265,
          609265,
          609265,
          609265,
          609265,
          1865379,
          1865379,
          1865379,
          1865379,
          1865379,
          1865379,
          1865379,
          1865379,
          1865379,
          1865379,
          1865379
         ],
         "yaxis": "y2"
        },
        {
         "hovertemplate": "%{x}, %{y:.1f}%",
         "name": "Unemployment Rate",
         "opacity": 0.6,
         "type": "bar",
         "x": [
          1980,
          1980,
          1980,
          1980,
          1980,
          1980,
          1980,
          1980,
          1980,
          1980,
          1980,
          1980,
          1981,
          1981,
          1981,
          1981,
          1981,
          1981,
          1981,
          1981,
          1981,
          1981,
          1981,
          1981,
          1982,
          1982,
          1982,
          1982,
          1982,
          1982,
          1982,
          1982,
          1982,
          1982,
          1982,
          1982,
          1983,
          1983,
          1983,
          1983,
          1983,
          1983,
          1983,
          1983,
          1983,
          1983,
          1983,
          1983,
          1984,
          1984,
          1984,
          1984,
          1984,
          1984,
          1984,
          1984,
          1984,
          1984,
          1984,
          1984,
          1985,
          1985,
          1985,
          1985,
          1985,
          1985,
          1985,
          1985,
          1985,
          1985,
          1985,
          1985,
          1986,
          1986,
          1986,
          1986,
          1986,
          1986,
          1986,
          1986,
          1986,
          1986,
          1986,
          1986,
          1987,
          1987,
          1987,
          1987,
          1987,
          1987,
          1987,
          1987,
          1987,
          1987,
          1987,
          1987,
          1988,
          1988,
          1988,
          1988,
          1988,
          1988,
          1988,
          1988,
          1988,
          1988,
          1988,
          1988,
          1989,
          1989,
          1989,
          1989,
          1989,
          1989,
          1989,
          1989,
          1989,
          1989,
          1989,
          1989,
          1990,
          1990,
          1990,
          1990,
          1990,
          1990,
          1990,
          1990,
          1990,
          1990,
          1990,
          1990,
          1991,
          1991,
          1991,
          1991,
          1991,
          1991,
          1991,
          1991,
          1991,
          1991,
          1991,
          1991,
          1992,
          1992,
          1992,
          1992,
          1992,
          1992,
          1992,
          1992,
          1992,
          1992,
          1992,
          1992,
          1993,
          1993,
          1993,
          1993,
          1993,
          1993,
          1993,
          1993,
          1993,
          1993,
          1993,
          1993,
          1994,
          1994,
          1994,
          1994,
          1994,
          1994,
          1994,
          1994,
          1994,
          1994,
          1994,
          1994,
          1995,
          1995,
          1995,
          1995,
          1995,
          1995,
          1995,
          1995,
          1995,
          1995,
          1995,
          1995,
          1996,
          1996,
          1996,
          1996,
          1996,
          1996,
          1996,
          1996,
          1996,
          1996,
          1996,
          1996,
          1997,
          1997,
          1997,
          1997,
          1997,
          1997,
          1997,
          1997,
          1997,
          1997,
          1997,
          1997,
          1998,
          1998,
          1998,
          1998,
          1998,
          1998,
          1998,
          1998,
          1998,
          1998,
          1998,
          1998,
          1999,
          1999,
          1999,
          1999,
          1999,
          1999,
          1999,
          1999,
          1999,
          1999,
          1999,
          1999,
          2000,
          2000,
          2000,
          2000,
          2000,
          2000,
          2000,
          2000,
          2000,
          2000,
          2000,
          2000,
          2001,
          2001,
          2001,
          2001,
          2001,
          2001,
          2001,
          2001,
          2001,
          2001,
          2001,
          2001,
          2002,
          2002,
          2002,
          2002,
          2002,
          2002,
          2002,
          2002,
          2002,
          2002,
          2002,
          2002,
          2003,
          2003,
          2003,
          2003,
          2003,
          2003,
          2003,
          2003,
          2003,
          2003,
          2003,
          2003,
          2004,
          2004,
          2004,
          2004,
          2004,
          2004,
          2004,
          2004,
          2004,
          2004,
          2004,
          2004,
          2005,
          2005,
          2005,
          2005,
          2005,
          2005,
          2005,
          2005,
          2005,
          2005,
          2005,
          2005,
          2006,
          2006,
          2006,
          2006,
          2006,
          2006,
          2006,
          2006,
          2006,
          2006,
          2006,
          2006,
          2007,
          2007,
          2007,
          2007,
          2007,
          2007,
          2007,
          2007,
          2007,
          2007,
          2007,
          2007,
          2008,
          2008,
          2008,
          2008,
          2008,
          2008,
          2008,
          2008,
          2008,
          2008,
          2008,
          2008,
          2009,
          2009,
          2009,
          2009,
          2009,
          2009,
          2009,
          2009,
          2009,
          2009,
          2009,
          2009,
          2010,
          2010,
          2010,
          2010,
          2010,
          2010,
          2010,
          2010,
          2010,
          2010,
          2010,
          2010,
          2011,
          2011,
          2011,
          2011,
          2011,
          2011,
          2011,
          2011,
          2011,
          2011,
          2011,
          2011,
          2012,
          2012,
          2012,
          2012,
          2012,
          2012,
          2012,
          2012,
          2012,
          2012,
          2012,
          2012,
          2013,
          2013,
          2013,
          2013,
          2013,
          2013,
          2013,
          2013,
          2013,
          2013,
          2013,
          2013,
          2014,
          2014,
          2014,
          2014,
          2014,
          2014,
          2014,
          2014,
          2014,
          2014,
          2014,
          2014,
          2015,
          2015,
          2015,
          2015,
          2015,
          2015,
          2015,
          2015,
          2015,
          2015,
          2015,
          2015,
          2016,
          2016,
          2016,
          2016,
          2016,
          2016,
          2016,
          2016,
          2016,
          2016,
          2016,
          2016,
          2017,
          2017,
          2017,
          2017,
          2017,
          2017,
          2017,
          2017,
          2017,
          2017,
          2017,
          2017,
          2018,
          2018,
          2018,
          2018,
          2018,
          2018,
          2018,
          2018,
          2018,
          2018,
          2018,
          2018,
          2019,
          2019,
          2019,
          2019,
          2019,
          2019,
          2019,
          2019,
          2019,
          2019,
          2019,
          2019,
          2020,
          2020,
          2020,
          2020,
          2020,
          2020,
          2020,
          2020,
          2020,
          2020,
          2020,
          2020,
          2021,
          2021,
          2021,
          2021,
          2021,
          2021,
          2021,
          2021,
          2021,
          2021,
          2021
         ],
         "y": [
          6.9,
          6.8,
          6.6,
          6.7,
          7.1,
          7.8,
          7.9,
          7.6,
          7.2,
          7.1,
          7.1,
          6.9,
          8.2,
          8,
          7.7,
          7,
          7.1,
          7.7,
          7.3,
          7.2,
          7.3,
          7.5,
          7.9,
          8.3,
          9.4,
          9.6,
          9.5,
          9.2,
          9.1,
          9.8,
          9.8,
          9.6,
          9.7,
          9.9,
          10.4,
          10.5,
          11.4,
          11.3,
          10.8,
          10,
          9.8,
          10.2,
          9.4,
          9.2,
          8.8,
          8.4,
          8.1,
          8,
          8.8,
          8.4,
          8.1,
          7.6,
          7.2,
          7.4,
          7.5,
          7.3,
          7.1,
          7,
          6.9,
          7,
          8,
          7.8,
          7.5,
          7.1,
          7,
          7.5,
          7.4,
          6.9,
          6.9,
          6.8,
          6.7,
          6.7,
          7.3,
          7.8,
          7.5,
          7,
          7,
          7.3,
          7,
          6.7,
          6.8,
          6.6,
          6.6,
          6.3,
          7.3,
          7.2,
          6.9,
          6.2,
          6.1,
          6.3,
          6.1,
          5.8,
          5.7,
          5.7,
          5.6,
          5.4,
          6.3,
          6.2,
          5.9,
          5.3,
          5.4,
          5.5,
          5.5,
          5.4,
          5.2,
          5,
          5.2,
          5,
          6,
          5.6,
          5.2,
          5.1,
          5,
          5.5,
          5.3,
          5.1,
          5.1,
          5,
          5.2,
          5.1,
          6,
          5.9,
          5.5,
          5.3,
          5.2,
          5.4,
          5.6,
          5.5,
          5.6,
          5.5,
          5.9,
          6,
          7.1,
          7.3,
          7.2,
          6.5,
          6.7,
          7,
          6.8,
          6.6,
          6.5,
          6.5,
          6.7,
          6.9,
          8.1,
          8.2,
          7.8,
          7.2,
          7.3,
          8,
          7.7,
          7.4,
          7.3,
          6.9,
          7.1,
          7.1,
          8,
          7.8,
          7.4,
          6.9,
          6.8,
          7.2,
          7,
          6.6,
          6.4,
          6.4,
          6.2,
          6.1,
          7.3,
          7.1,
          6.8,
          6.2,
          5.9,
          6.2,
          6.2,
          5.9,
          5.6,
          5.4,
          5.3,
          5.1,
          6.2,
          5.9,
          5.7,
          5.6,
          5.5,
          5.8,
          5.9,
          5.6,
          5.4,
          5.2,
          5.3,
          5.2,
          6.3,
          6,
          5.8,
          5.4,
          5.4,
          5.5,
          5.6,
          5.1,
          5,
          4.9,
          5,
          5,
          5.9,
          5.7,
          5.5,
          4.8,
          4.7,
          5.2,
          5,
          4.8,
          4.7,
          4.4,
          4.3,
          4.4,
          5.2,
          5,
          5,
          4.1,
          4.2,
          4.7,
          4.7,
          4.5,
          4.4,
          4.2,
          4.1,
          4,
          4.8,
          4.7,
          4.4,
          4.1,
          4,
          4.5,
          4.5,
          4.2,
          4.1,
          3.8,
          3.8,
          3.7,
          4.5,
          4.4,
          4.3,
          3.7,
          3.8,
          4.1,
          4.2,
          4.1,
          3.8,
          3.6,
          3.7,
          3.7,
          4.7,
          4.6,
          4.5,
          4.2,
          4.1,
          4.7,
          4.7,
          4.9,
          4.7,
          5,
          5.3,
          5.4,
          6.3,
          6.1,
          6.1,
          5.7,
          5.5,
          6,
          5.9,
          5.7,
          5.4,
          5.3,
          5.6,
          5.7,
          6.5,
          6.4,
          6.2,
          5.8,
          5.8,
          6.5,
          6.3,
          6,
          5.8,
          5.6,
          5.6,
          5.4,
          6.3,
          6,
          6,
          5.4,
          5.3,
          5.8,
          5.7,
          5.4,
          5.1,
          5.1,
          5.2,
          5.1,
          5.7,
          5.8,
          5.4,
          4.9,
          4.9,
          5.2,
          5.2,
          4.9,
          4.8,
          4.6,
          4.8,
          4.6,
          5.1,
          5.1,
          4.8,
          4.5,
          4.4,
          4.8,
          5,
          4.6,
          4.4,
          4.1,
          4.3,
          4.3,
          5,
          4.9,
          4.5,
          4.3,
          4.3,
          4.7,
          4.9,
          4.6,
          4.5,
          4.4,
          4.5,
          4.8,
          5.4,
          5.2,
          5.2,
          4.8,
          5.2,
          5.7,
          6,
          6.1,
          6,
          6.1,
          6.5,
          7.1,
          8.5,
          8.9,
          9,
          8.6,
          9.1,
          9.7,
          9.7,
          9.6,
          9.5,
          9.5,
          9.4,
          9.7,
          10.6,
          10.4,
          10.2,
          9.5,
          9.3,
          9.6,
          9.7,
          9.5,
          9.2,
          9,
          9.3,
          9.1,
          9.8,
          9.5,
          9.2,
          8.7,
          8.7,
          9.3,
          9.3,
          9.1,
          8.8,
          8.5,
          8.2,
          8.3,
          8.8,
          8.7,
          8.4,
          7.7,
          7.9,
          8.4,
          8.6,
          8.2,
          7.6,
          7.5,
          7.4,
          7.6,
          8.5,
          8.1,
          7.6,
          7.1,
          7.3,
          7.8,
          7.7,
          7.3,
          7,
          7,
          6.6,
          6.5,
          7,
          7,
          6.8,
          5.9,
          6.1,
          6.3,
          6.5,
          6.3,
          5.7,
          5.5,
          5.5,
          5.4,
          6.1,
          5.8,
          5.6,
          5.1,
          5.3,
          5.5,
          5.6,
          5.2,
          4.9,
          4.8,
          4.8,
          4.8,
          5.3,
          5.2,
          5.1,
          4.7,
          4.5,
          5.1,
          5.1,
          5,
          4.8,
          4.7,
          4.4,
          4.5,
          5.1,
          4.9,
          4.6,
          4.1,
          4.1,
          4.5,
          4.6,
          4.5,
          4.1,
          3.9,
          3.9,
          3.9,
          4.5,
          4.4,
          4.1,
          3.7,
          3.6,
          4.2,
          4.1,
          3.9,
          3.6,
          3.5,
          3.5,
          3.7,
          4.4,
          4.1,
          3.9,
          3.3,
          3.4,
          3.8,
          4,
          3.8,
          3.3,
          3.3,
          3.3,
          3.4,
          4,
          3.8,
          4.5,
          14.4,
          13,
          11.2,
          10.5,
          8.5,
          7.7,
          6.6,
          6.4,
          6.5,
          6.8,
          6.6,
          6.2,
          5.7,
          5.5,
          6.1,
          5.7,
          5.3,
          4.6,
          4.3,
          3.9
         ],
         "yaxis": "y3"
        }
       ],
       "layout": {
        "height": 600,
        "legend": {
         "x": 0,
         "y": 1.1
        },
        "template": {
         "data": {
          "bar": [
           {
            "error_x": {
             "color": "#2a3f5f"
            },
            "error_y": {
             "color": "#2a3f5f"
            },
            "marker": {
             "line": {
              "color": "#E5ECF6",
              "width": 0.5
             },
             "pattern": {
              "fillmode": "overlay",
              "size": 10,
              "solidity": 0.2
             }
            },
            "type": "bar"
           }
          ],
          "barpolar": [
           {
            "marker": {
             "line": {
              "color": "#E5ECF6",
              "width": 0.5
             },
             "pattern": {
              "fillmode": "overlay",
              "size": 10,
              "solidity": 0.2
             }
            },
            "type": "barpolar"
           }
          ],
          "carpet": [
           {
            "aaxis": {
             "endlinecolor": "#2a3f5f",
             "gridcolor": "white",
             "linecolor": "white",
             "minorgridcolor": "white",
             "startlinecolor": "#2a3f5f"
            },
            "baxis": {
             "endlinecolor": "#2a3f5f",
             "gridcolor": "white",
             "linecolor": "white",
             "minorgridcolor": "white",
             "startlinecolor": "#2a3f5f"
            },
            "type": "carpet"
           }
          ],
          "choropleth": [
           {
            "colorbar": {
             "outlinewidth": 0,
             "ticks": ""
            },
            "type": "choropleth"
           }
          ],
          "contour": [
           {
            "colorbar": {
             "outlinewidth": 0,
             "ticks": ""
            },
            "colorscale": [
             [
              0,
              "#0d0887"
             ],
             [
              0.1111111111111111,
              "#46039f"
             ],
             [
              0.2222222222222222,
              "#7201a8"
             ],
             [
              0.3333333333333333,
              "#9c179e"
             ],
             [
              0.4444444444444444,
              "#bd3786"
             ],
             [
              0.5555555555555556,
              "#d8576b"
             ],
             [
              0.6666666666666666,
              "#ed7953"
             ],
             [
              0.7777777777777778,
              "#fb9f3a"
             ],
             [
              0.8888888888888888,
              "#fdca26"
             ],
             [
              1,
              "#f0f921"
             ]
            ],
            "type": "contour"
           }
          ],
          "contourcarpet": [
           {
            "colorbar": {
             "outlinewidth": 0,
             "ticks": ""
            },
            "type": "contourcarpet"
           }
          ],
          "heatmap": [
           {
            "colorbar": {
             "outlinewidth": 0,
             "ticks": ""
            },
            "colorscale": [
             [
              0,
              "#0d0887"
             ],
             [
              0.1111111111111111,
              "#46039f"
             ],
             [
              0.2222222222222222,
              "#7201a8"
             ],
             [
              0.3333333333333333,
              "#9c179e"
             ],
             [
              0.4444444444444444,
              "#bd3786"
             ],
             [
              0.5555555555555556,
              "#d8576b"
             ],
             [
              0.6666666666666666,
              "#ed7953"
             ],
             [
              0.7777777777777778,
              "#fb9f3a"
             ],
             [
              0.8888888888888888,
              "#fdca26"
             ],
             [
              1,
              "#f0f921"
             ]
            ],
            "type": "heatmap"
           }
          ],
          "heatmapgl": [
           {
            "colorbar": {
             "outlinewidth": 0,
             "ticks": ""
            },
            "colorscale": [
             [
              0,
              "#0d0887"
             ],
             [
              0.1111111111111111,
              "#46039f"
             ],
             [
              0.2222222222222222,
              "#7201a8"
             ],
             [
              0.3333333333333333,
              "#9c179e"
             ],
             [
              0.4444444444444444,
              "#bd3786"
             ],
             [
              0.5555555555555556,
              "#d8576b"
             ],
             [
              0.6666666666666666,
              "#ed7953"
             ],
             [
              0.7777777777777778,
              "#fb9f3a"
             ],
             [
              0.8888888888888888,
              "#fdca26"
             ],
             [
              1,
              "#f0f921"
             ]
            ],
            "type": "heatmapgl"
           }
          ],
          "histogram": [
           {
            "marker": {
             "pattern": {
              "fillmode": "overlay",
              "size": 10,
              "solidity": 0.2
             }
            },
            "type": "histogram"
           }
          ],
          "histogram2d": [
           {
            "colorbar": {
             "outlinewidth": 0,
             "ticks": ""
            },
            "colorscale": [
             [
              0,
              "#0d0887"
             ],
             [
              0.1111111111111111,
              "#46039f"
             ],
             [
              0.2222222222222222,
              "#7201a8"
             ],
             [
              0.3333333333333333,
              "#9c179e"
             ],
             [
              0.4444444444444444,
              "#bd3786"
             ],
             [
              0.5555555555555556,
              "#d8576b"
             ],
             [
              0.6666666666666666,
              "#ed7953"
             ],
             [
              0.7777777777777778,
              "#fb9f3a"
             ],
             [
              0.8888888888888888,
              "#fdca26"
             ],
             [
              1,
              "#f0f921"
             ]
            ],
            "type": "histogram2d"
           }
          ],
          "histogram2dcontour": [
           {
            "colorbar": {
             "outlinewidth": 0,
             "ticks": ""
            },
            "colorscale": [
             [
              0,
              "#0d0887"
             ],
             [
              0.1111111111111111,
              "#46039f"
             ],
             [
              0.2222222222222222,
              "#7201a8"
             ],
             [
              0.3333333333333333,
              "#9c179e"
             ],
             [
              0.4444444444444444,
              "#bd3786"
             ],
             [
              0.5555555555555556,
              "#d8576b"
             ],
             [
              0.6666666666666666,
              "#ed7953"
             ],
             [
              0.7777777777777778,
              "#fb9f3a"
             ],
             [
              0.8888888888888888,
              "#fdca26"
             ],
             [
              1,
              "#f0f921"
             ]
            ],
            "type": "histogram2dcontour"
           }
          ],
          "mesh3d": [
           {
            "colorbar": {
             "outlinewidth": 0,
             "ticks": ""
            },
            "type": "mesh3d"
           }
          ],
          "parcoords": [
           {
            "line": {
             "colorbar": {
              "outlinewidth": 0,
              "ticks": ""
             }
            },
            "type": "parcoords"
           }
          ],
          "pie": [
           {
            "automargin": true,
            "type": "pie"
           }
          ],
          "scatter": [
           {
            "fillpattern": {
             "fillmode": "overlay",
             "size": 10,
             "solidity": 0.2
            },
            "type": "scatter"
           }
          ],
          "scatter3d": [
           {
            "line": {
             "colorbar": {
              "outlinewidth": 0,
              "ticks": ""
             }
            },
            "marker": {
             "colorbar": {
              "outlinewidth": 0,
              "ticks": ""
             }
            },
            "type": "scatter3d"
           }
          ],
          "scattercarpet": [
           {
            "marker": {
             "colorbar": {
              "outlinewidth": 0,
              "ticks": ""
             }
            },
            "type": "scattercarpet"
           }
          ],
          "scattergeo": [
           {
            "marker": {
             "colorbar": {
              "outlinewidth": 0,
              "ticks": ""
             }
            },
            "type": "scattergeo"
           }
          ],
          "scattergl": [
           {
            "marker": {
             "colorbar": {
              "outlinewidth": 0,
              "ticks": ""
             }
            },
            "type": "scattergl"
           }
          ],
          "scattermapbox": [
           {
            "marker": {
             "colorbar": {
              "outlinewidth": 0,
              "ticks": ""
             }
            },
            "type": "scattermapbox"
           }
          ],
          "scatterpolar": [
           {
            "marker": {
             "colorbar": {
              "outlinewidth": 0,
              "ticks": ""
             }
            },
            "type": "scatterpolar"
           }
          ],
          "scatterpolargl": [
           {
            "marker": {
             "colorbar": {
              "outlinewidth": 0,
              "ticks": ""
             }
            },
            "type": "scatterpolargl"
           }
          ],
          "scatterternary": [
           {
            "marker": {
             "colorbar": {
              "outlinewidth": 0,
              "ticks": ""
             }
            },
            "type": "scatterternary"
           }
          ],
          "surface": [
           {
            "colorbar": {
             "outlinewidth": 0,
             "ticks": ""
            },
            "colorscale": [
             [
              0,
              "#0d0887"
             ],
             [
              0.1111111111111111,
              "#46039f"
             ],
             [
              0.2222222222222222,
              "#7201a8"
             ],
             [
              0.3333333333333333,
              "#9c179e"
             ],
             [
              0.4444444444444444,
              "#bd3786"
             ],
             [
              0.5555555555555556,
              "#d8576b"
             ],
             [
              0.6666666666666666,
              "#ed7953"
             ],
             [
              0.7777777777777778,
              "#fb9f3a"
             ],
             [
              0.8888888888888888,
              "#fdca26"
             ],
             [
              1,
              "#f0f921"
             ]
            ],
            "type": "surface"
           }
          ],
          "table": [
           {
            "cells": {
             "fill": {
              "color": "#EBF0F8"
             },
             "line": {
              "color": "white"
             }
            },
            "header": {
             "fill": {
              "color": "#C8D4E3"
             },
             "line": {
              "color": "white"
             }
            },
            "type": "table"
           }
          ]
         },
         "layout": {
          "annotationdefaults": {
           "arrowcolor": "#2a3f5f",
           "arrowhead": 0,
           "arrowwidth": 1
          },
          "autotypenumbers": "strict",
          "coloraxis": {
           "colorbar": {
            "outlinewidth": 0,
            "ticks": ""
           }
          },
          "colorscale": {
           "diverging": [
            [
             0,
             "#8e0152"
            ],
            [
             0.1,
             "#c51b7d"
            ],
            [
             0.2,
             "#de77ae"
            ],
            [
             0.3,
             "#f1b6da"
            ],
            [
             0.4,
             "#fde0ef"
            ],
            [
             0.5,
             "#f7f7f7"
            ],
            [
             0.6,
             "#e6f5d0"
            ],
            [
             0.7,
             "#b8e186"
            ],
            [
             0.8,
             "#7fbc41"
            ],
            [
             0.9,
             "#4d9221"
            ],
            [
             1,
             "#276419"
            ]
           ],
           "sequential": [
            [
             0,
             "#0d0887"
            ],
            [
             0.1111111111111111,
             "#46039f"
            ],
            [
             0.2222222222222222,
             "#7201a8"
            ],
            [
             0.3333333333333333,
             "#9c179e"
            ],
            [
             0.4444444444444444,
             "#bd3786"
            ],
            [
             0.5555555555555556,
             "#d8576b"
            ],
            [
             0.6666666666666666,
             "#ed7953"
            ],
            [
             0.7777777777777778,
             "#fb9f3a"
            ],
            [
             0.8888888888888888,
             "#fdca26"
            ],
            [
             1,
             "#f0f921"
            ]
           ],
           "sequentialminus": [
            [
             0,
             "#0d0887"
            ],
            [
             0.1111111111111111,
             "#46039f"
            ],
            [
             0.2222222222222222,
             "#7201a8"
            ],
            [
             0.3333333333333333,
             "#9c179e"
            ],
            [
             0.4444444444444444,
             "#bd3786"
            ],
            [
             0.5555555555555556,
             "#d8576b"
            ],
            [
             0.6666666666666666,
             "#ed7953"
            ],
            [
             0.7777777777777778,
             "#fb9f3a"
            ],
            [
             0.8888888888888888,
             "#fdca26"
            ],
            [
             1,
             "#f0f921"
            ]
           ]
          },
          "colorway": [
           "#636efa",
           "#EF553B",
           "#00cc96",
           "#ab63fa",
           "#FFA15A",
           "#19d3f3",
           "#FF6692",
           "#B6E880",
           "#FF97FF",
           "#FECB52"
          ],
          "font": {
           "color": "#2a3f5f"
          },
          "geo": {
           "bgcolor": "white",
           "lakecolor": "white",
           "landcolor": "#E5ECF6",
           "showlakes": true,
           "showland": true,
           "subunitcolor": "white"
          },
          "hoverlabel": {
           "align": "left"
          },
          "hovermode": "closest",
          "mapbox": {
           "style": "light"
          },
          "paper_bgcolor": "white",
          "plot_bgcolor": "#E5ECF6",
          "polar": {
           "angularaxis": {
            "gridcolor": "white",
            "linecolor": "white",
            "ticks": ""
           },
           "bgcolor": "#E5ECF6",
           "radialaxis": {
            "gridcolor": "white",
            "linecolor": "white",
            "ticks": ""
           }
          },
          "scene": {
           "xaxis": {
            "backgroundcolor": "#E5ECF6",
            "gridcolor": "white",
            "gridwidth": 2,
            "linecolor": "white",
            "showbackground": true,
            "ticks": "",
            "zerolinecolor": "white"
           },
           "yaxis": {
            "backgroundcolor": "#E5ECF6",
            "gridcolor": "white",
            "gridwidth": 2,
            "linecolor": "white",
            "showbackground": true,
            "ticks": "",
            "zerolinecolor": "white"
           },
           "zaxis": {
            "backgroundcolor": "#E5ECF6",
            "gridcolor": "white",
            "gridwidth": 2,
            "linecolor": "white",
            "showbackground": true,
            "ticks": "",
            "zerolinecolor": "white"
           }
          },
          "shapedefaults": {
           "line": {
            "color": "#2a3f5f"
           }
          },
          "ternary": {
           "aaxis": {
            "gridcolor": "white",
            "linecolor": "white",
            "ticks": ""
           },
           "baxis": {
            "gridcolor": "white",
            "linecolor": "white",
            "ticks": ""
           },
           "bgcolor": "#E5ECF6",
           "caxis": {
            "gridcolor": "white",
            "linecolor": "white",
            "ticks": ""
           }
          },
          "title": {
           "x": 0.05
          },
          "xaxis": {
           "automargin": true,
           "gridcolor": "white",
           "linecolor": "white",
           "ticks": "",
           "title": {
            "standoff": 15
           },
           "zerolinecolor": "white",
           "zerolinewidth": 2
          },
          "yaxis": {
           "automargin": true,
           "gridcolor": "white",
           "linecolor": "white",
           "ticks": "",
           "title": {
            "standoff": 15
           },
           "zerolinecolor": "white",
           "zerolinewidth": 2
          }
         }
        },
        "title": {
         "text": "Immigration and Unemployment Statistics Over Time"
        },
        "xaxis": {
         "title": {
          "text": "Year"
         }
        },
        "yaxis": {
         "tickfont": {
          "color": "blue"
         },
         "title": {
          "font": {
           "color": "blue"
          },
          "text": "Legal Immigrants"
         }
        },
        "yaxis2": {
         "overlaying": "y",
         "side": "right",
         "tickfont": {
          "color": "red"
         },
         "title": {
          "font": {
           "color": "red"
          },
          "text": "Illegal Immigrants"
         }
        },
        "yaxis3": {
         "anchor": "free",
         "overlaying": "y",
         "position": 1,
         "side": "right",
         "tickfont": {
          "color": "green"
         },
         "tickformat": ".1f",
         "title": {
          "font": {
           "color": "green"
          },
          "text": "Unemployment Rate (%)"
         }
        }
       }
      }
     },
     "metadata": {},
     "output_type": "display_data"
    }
   ],
   "source": [
    "import pandas as pd\n",
    "import plotly.graph_objects as go\n",
    "\n",
    "# Load the datasets\n",
    "immigration_data = pd.read_csv('immigration_statistics_us.csv')\n",
    "unemployment_data = pd.read_csv('unemployment_rate_data_corrected.csv')\n",
    "\n",
    "# Hernoem de kolommen voor consistentie\n",
    "immigration_data = immigration_data.rename(columns={\n",
    "    'ï»¿Year': 'Year',  # Fix the column name here\n",
    "    'Immigrants Obtaining Lawful Permanent Resident Status': 'Legal_Immigrants',\n",
    "    'Noncitizen Apprehensions': 'Illegal_Immigrants'\n",
    "})\n",
    "\n",
    "unemployment_data = unemployment_data.rename(columns={\n",
    "    'date': 'Year',\n",
    "    'unrate': 'Unemployment_Rate'\n",
    "})\n",
    "\n",
    "# Extract year from the 'Year' column in unemployment_data\n",
    "unemployment_data['Year'] = pd.to_datetime(unemployment_data['Year']).dt.year\n",
    "\n",
    "# Verwijder komma's en converteer kolommen naar numeriek type in immigration_data\n",
    "immigration_data['Legal_Immigrants'] = immigration_data['Legal_Immigrants'].str.replace(',', '').astype(int)\n",
    "immigration_data['Illegal_Immigrants'] = immigration_data['Illegal_Immigrants'].str.replace(',', '').astype(int)\n",
    "\n",
    "# Mergen van datasets op basis van het jaar\n",
    "merged_data = pd.merge(immigration_data, unemployment_data, on='Year')\n",
    "\n",
    "# Creëer de figuur\n",
    "fig = go.Figure()\n",
    "\n",
    "# Voeg de lijn voor legale immigranten toe\n",
    "fig.add_trace(go.Scatter(\n",
    "    x=merged_data['Year'],\n",
    "    y=merged_data['Legal_Immigrants'],\n",
    "    mode='lines+markers',\n",
    "    name='Legal Immigrants',\n",
    "    yaxis='y1'\n",
    "))\n",
    "\n",
    "# Voeg de lijn voor illegale immigranten toe\n",
    "fig.add_trace(go.Scatter(\n",
    "    x=merged_data['Year'],\n",
    "    y=merged_data['Illegal_Immigrants'],\n",
    "    mode='lines+markers',\n",
    "    name='Illegal Immigrants',\n",
    "    yaxis='y2'\n",
    "))\n",
    "\n",
    "# Voeg het staafdiagram voor werkloosheid toe\n",
    "fig.add_trace(go.Bar(\n",
    "    x=merged_data['Year'],\n",
    "    y=merged_data['Unemployment_Rate'],\n",
    "    name='Unemployment Rate',\n",
    "    yaxis='y3',\n",
    "    opacity=0.6,\n",
    "    hovertemplate='%{x}, %{y:.1f}%'  # Voeg een procentteken toe aan de hoverinformatie\n",
    "))\n",
    "\n",
    "# Update layout om de verschillende assen te ondersteunen\n",
    "fig.update_layout(\n",
    "    title='Immigration and Unemployment Statistics Over Time',\n",
    "    xaxis=dict(title='Year'),\n",
    "    yaxis=dict(\n",
    "        title='Legal Immigrants',\n",
    "        titlefont=dict(color='blue'),\n",
    "        tickfont=dict(color='blue')\n",
    "    ),\n",
    "    yaxis2=dict(\n",
    "        title='Illegal Immigrants',\n",
    "        titlefont=dict(color='red'),\n",
    "        tickfont=dict(color='red'),\n",
    "        overlaying='y',\n",
    "        side='right'\n",
    "    ),\n",
    "    yaxis3=dict(\n",
    "        title='Unemployment Rate (%)',\n",
    "        titlefont=dict(color='green'),\n",
    "        tickfont=dict(color='green'),\n",
    "        tickformat='.1f',  # Voeg een procentteken toe aan de labels\n",
    "        anchor='free',\n",
    "        overlaying='y',\n",
    "        side='right',\n",
    "        position=1\n",
    "    ),\n",
    "    legend=dict(x=0, y=1.1),\n",
    "    height=600  # Adjust height here\n",
    ")\n",
    "\n",
    "# Toon de figuur\n",
    "fig.show()\n",
    "\n"
   ]
  },
  {
   "cell_type": "markdown",
   "id": "9dedcdce",
   "metadata": {},
   "source": [
    "Deze grafiek toont de immigratie- en werkloosheidsstatistieken in de Verenigde Staten over meerdere jaren. Het visualiseert legale immigratie (blauwe lijn), illegale immigratie (rode lijn), en werkloosheidspercentages (groene balken). Het biedt inzicht in trends en fluctuaties door de jaren heen. Het geeft een beeld naar de verbanden tussen immigratie en economische omstandigheden."
   ]
  },
  {
   "cell_type": "code",
   "execution_count": 18,
   "id": "e6393aba",
   "metadata": {
    "scrolled": false
   },
   "outputs": [
    {
     "name": "stdout",
     "output_type": "stream",
     "text": [
      "Staten na correctie: ['AL' 'AK' 'AZ' 'AR' 'CA' 'CO' 'CT' 'DE' 'DC' 'FL' 'GA' 'GU' 'HI' 'ID'\n",
      " 'IL' 'IN' 'IA' 'KS' 'KY' 'LA' 'ME' 'MD' 'MA' 'MI' 'MN' 'MS' 'MO' 'MT'\n",
      " 'NE' 'NV' 'NH' 'NJ' 'NM' 'NY' 'NC' 'ND' 'OH' 'OK' 'OR' 'PA' 'PR' 'RI'\n",
      " 'SC' 'SD' 'TN' 'TX' 'VI' 'UT' 'VT' 'VA' 'WA' 'WV' 'WI' 'WY']\n"
     ]
    },
    {
     "data": {
      "application/vnd.plotly.v1+json": {
       "config": {
        "plotlyServerURL": "https://plot.ly"
       },
       "data": [
        {
         "coloraxis": "coloraxis",
         "geo": "geo",
         "hovertemplate": "Year=1968<br>State=%{location}<br>Minimum Wage (2020 Dollars)=%{z}<extra></extra>",
         "locationmode": "USA-states",
         "locations": [
          "AL",
          "AK",
          "AZ",
          "AR",
          "CA",
          "CO",
          "CT",
          "DE",
          "DC",
          "FL",
          "GA",
          "GU",
          "HI",
          "ID",
          "IL",
          "IN",
          "IA",
          "KS",
          "KY",
          "LA",
          "ME",
          "MD",
          "MA",
          "MI",
          "MN",
          "MS",
          "MO",
          "MT",
          "NE",
          "NV",
          "NH",
          "NJ",
          "NM",
          "NY",
          "NC",
          "ND",
          "OH",
          "OK",
          "OR",
          "PA",
          "PR",
          "RI",
          "SC",
          "SD",
          "TN",
          "TX",
          "VI",
          "UT",
          "VT",
          "VA",
          "WA",
          "WV",
          "WI",
          "WY"
         ],
         "name": "",
         "type": "choropleth",
         "z": [
          0,
          15.61,
          3.48,
          1.16,
          12.26,
          7.43,
          10.41,
          9.29,
          9.29,
          0,
          0,
          9.29,
          9.29,
          8.55,
          0,
          8.55,
          0,
          0,
          4.83,
          0,
          10.41,
          7.43,
          11.89,
          9.29,
          5.2,
          0,
          0,
          0,
          7.43,
          9.29,
          10.41,
          10.41,
          8.55,
          11.89,
          7.43,
          7.43,
          5.57,
          7.43,
          9.29,
          8.55,
          3.2,
          10.41,
          0,
          3.16,
          0,
          0,
          0,
          7.43,
          10.41,
          0,
          11.89,
          7.43,
          9.29,
          8.92
         ]
        }
       ],
       "frames": [
        {
         "data": [
          {
           "coloraxis": "coloraxis",
           "geo": "geo",
           "hovertemplate": "Year=1968<br>State=%{location}<br>Minimum Wage (2020 Dollars)=%{z}<extra></extra>",
           "locationmode": "USA-states",
           "locations": [
            "AL",
            "AK",
            "AZ",
            "AR",
            "CA",
            "CO",
            "CT",
            "DE",
            "DC",
            "FL",
            "GA",
            "GU",
            "HI",
            "ID",
            "IL",
            "IN",
            "IA",
            "KS",
            "KY",
            "LA",
            "ME",
            "MD",
            "MA",
            "MI",
            "MN",
            "MS",
            "MO",
            "MT",
            "NE",
            "NV",
            "NH",
            "NJ",
            "NM",
            "NY",
            "NC",
            "ND",
            "OH",
            "OK",
            "OR",
            "PA",
            "PR",
            "RI",
            "SC",
            "SD",
            "TN",
            "TX",
            "VI",
            "UT",
            "VT",
            "VA",
            "WA",
            "WV",
            "WI",
            "WY"
           ],
           "name": "",
           "type": "choropleth",
           "z": [
            0,
            15.61,
            3.48,
            1.16,
            12.26,
            7.43,
            10.41,
            9.29,
            9.29,
            0,
            0,
            9.29,
            9.29,
            8.55,
            0,
            8.55,
            0,
            0,
            4.83,
            0,
            10.41,
            7.43,
            11.89,
            9.29,
            5.2,
            0,
            0,
            0,
            7.43,
            9.29,
            10.41,
            10.41,
            8.55,
            11.89,
            7.43,
            7.43,
            5.57,
            7.43,
            9.29,
            8.55,
            3.2,
            10.41,
            0,
            3.16,
            0,
            0,
            0,
            7.43,
            10.41,
            0,
            11.89,
            7.43,
            9.29,
            8.92
           ]
          }
         ],
         "name": "1968"
        },
        {
         "data": [
          {
           "coloraxis": "coloraxis",
           "geo": "geo",
           "hovertemplate": "Year=1969<br>State=%{location}<br>Minimum Wage (2020 Dollars)=%{z}<extra></extra>",
           "locationmode": "USA-states",
           "locations": [
            "AL",
            "AK",
            "AZ",
            "AR",
            "CA",
            "CO",
            "CT",
            "DE",
            "DC",
            "FL",
            "GA",
            "GU",
            "HI",
            "ID",
            "IL",
            "IN",
            "IA",
            "KS",
            "KY",
            "LA",
            "ME",
            "MD",
            "MA",
            "MI",
            "MN",
            "MS",
            "MO",
            "MT",
            "NE",
            "NV",
            "NH",
            "NJ",
            "NM",
            "NY",
            "NC",
            "ND",
            "OH",
            "OK",
            "OR",
            "PA",
            "PR",
            "RI",
            "SC",
            "SD",
            "TN",
            "TX",
            "VI",
            "UT",
            "VT",
            "VA",
            "WA",
            "WV",
            "WI",
            "WY"
           ],
           "name": "",
           "type": "choropleth",
           "z": [
            0,
            14.8,
            3.3,
            1.1,
            11.63,
            7.05,
            9.87,
            8.81,
            8.81,
            0,
            0,
            8.81,
            8.81,
            8.11,
            0,
            8.11,
            0,
            0,
            4.58,
            0,
            9.87,
            7.05,
            11.28,
            8.81,
            4.93,
            0,
            0,
            0,
            7.05,
            8.81,
            9.87,
            9.87,
            8.11,
            11.28,
            7.05,
            7.05,
            5.29,
            7.05,
            8.81,
            8.11,
            3.03,
            9.87,
            0,
            3,
            0,
            0,
            0,
            7.05,
            9.87,
            0,
            11.28,
            7.05,
            8.81,
            8.46
           ]
          }
         ],
         "name": "1969"
        },
        {
         "data": [
          {
           "coloraxis": "coloraxis",
           "geo": "geo",
           "hovertemplate": "Year=1970<br>State=%{location}<br>Minimum Wage (2020 Dollars)=%{z}<extra></extra>",
           "locationmode": "USA-states",
           "locations": [
            "AL",
            "AK",
            "AZ",
            "AR",
            "CA",
            "CO",
            "CT",
            "DE",
            "DC",
            "FL",
            "GA",
            "GU",
            "HI",
            "ID",
            "IL",
            "IN",
            "IA",
            "KS",
            "KY",
            "LA",
            "ME",
            "MD",
            "MA",
            "MI",
            "MN",
            "MS",
            "MO",
            "MT",
            "NE",
            "NV",
            "NH",
            "NJ",
            "NM",
            "NY",
            "NC",
            "ND",
            "OH",
            "OK",
            "OR",
            "PA",
            "PR",
            "RI",
            "SC",
            "SD",
            "TN",
            "TX",
            "VI",
            "UT",
            "VT",
            "VA",
            "WA",
            "WV",
            "WI",
            "WY"
           ],
           "name": "",
           "type": "choropleth",
           "z": [
            0,
            14,
            3.12,
            7.33,
            11,
            6.67,
            10.67,
            8.33,
            10.67,
            0,
            0,
            10.67,
            10.67,
            8.33,
            0,
            8.33,
            0,
            0,
            4.33,
            0,
            10.67,
            8.67,
            10.67,
            8.33,
            4.67,
            0,
            0,
            0,
            6.67,
            8.67,
            9.67,
            10,
            8.67,
            10.67,
            8.33,
            6.67,
            5,
            6.67,
            8.33,
            8.67,
            2.87,
            10.67,
            0,
            6.67,
            0,
            0,
            0,
            6.67,
            10.67,
            0,
            10.67,
            6.67,
            8.67,
            8.67
           ]
          }
         ],
         "name": "1970"
        },
        {
         "data": [
          {
           "coloraxis": "coloraxis",
           "geo": "geo",
           "hovertemplate": "Year=1971<br>State=%{location}<br>Minimum Wage (2020 Dollars)=%{z}<extra></extra>",
           "locationmode": "USA-states",
           "locations": [
            "AL",
            "AK",
            "AZ",
            "AR",
            "CA",
            "CO",
            "CT",
            "DE",
            "DC",
            "FL",
            "GA",
            "GU",
            "HI",
            "ID",
            "IL",
            "IN",
            "IA",
            "KS",
            "KY",
            "LA",
            "ME",
            "MD",
            "MA",
            "MI",
            "MN",
            "MS",
            "MO",
            "MT",
            "NE",
            "NV",
            "NH",
            "NJ",
            "NM",
            "NY",
            "NC",
            "ND",
            "OH",
            "OK",
            "OR",
            "PA",
            "PR",
            "RI",
            "SC",
            "SD",
            "TN",
            "TX",
            "VI",
            "UT",
            "VT",
            "VA",
            "WA",
            "WV",
            "WI",
            "WY"
           ],
           "name": "",
           "type": "choropleth",
           "z": [
            0,
            13.41,
            2.99,
            7.03,
            10.54,
            6.39,
            10.22,
            7.98,
            10.22,
            0,
            0,
            10.22,
            10.22,
            7.98,
            0,
            7.98,
            0,
            0,
            4.15,
            0,
            10.22,
            8.3,
            10.22,
            7.98,
            4.47,
            0,
            0,
            0,
            6.39,
            8.3,
            9.26,
            9.58,
            8.3,
            10.22,
            7.98,
            6.39,
            4.79,
            6.39,
            7.98,
            8.3,
            2.75,
            10.22,
            0,
            6.39,
            0,
            0,
            0,
            6.39,
            10.22,
            0,
            10.22,
            6.39,
            8.3,
            8.3
           ]
          }
         ],
         "name": "1971"
        },
        {
         "data": [
          {
           "coloraxis": "coloraxis",
           "geo": "geo",
           "hovertemplate": "Year=1972<br>State=%{location}<br>Minimum Wage (2020 Dollars)=%{z}<extra></extra>",
           "locationmode": "USA-states",
           "locations": [
            "AL",
            "AK",
            "AZ",
            "AR",
            "CA",
            "CO",
            "CT",
            "DE",
            "DC",
            "FL",
            "GA",
            "GU",
            "HI",
            "ID",
            "IL",
            "IN",
            "IA",
            "KS",
            "KY",
            "LA",
            "ME",
            "MD",
            "MA",
            "MI",
            "MN",
            "MS",
            "MO",
            "MT",
            "NE",
            "NV",
            "NH",
            "NJ",
            "NM",
            "NY",
            "NC",
            "ND",
            "OH",
            "OK",
            "OR",
            "PA",
            "PR",
            "RI",
            "SC",
            "SD",
            "TN",
            "TX",
            "VI",
            "UT",
            "VT",
            "VA",
            "WA",
            "WV",
            "WI",
            "WY"
           ],
           "name": "",
           "type": "choropleth",
           "z": [
            0,
            12.99,
            2.9,
            7.43,
            10.21,
            6.19,
            11.45,
            9.9,
            9.9,
            0,
            7.74,
            11.76,
            9.9,
            8.66,
            8.66,
            7.74,
            0,
            0,
            4.02,
            0,
            8.66,
            9.9,
            10.83,
            9.9,
            4.64,
            0,
            0,
            9.9,
            6.19,
            9.9,
            9.9,
            9.28,
            8.04,
            11.45,
            8.97,
            6.19,
            4.64,
            8.66,
            7.74,
            9.9,
            4.02,
            9.9,
            0,
            6.19,
            0,
            8.66,
            0,
            7.43,
            9.9,
            0,
            9.9,
            7.43,
            8.97,
            9.28
           ]
          }
         ],
         "name": "1972"
        },
        {
         "data": [
          {
           "coloraxis": "coloraxis",
           "geo": "geo",
           "hovertemplate": "Year=1973<br>State=%{location}<br>Minimum Wage (2020 Dollars)=%{z}<extra></extra>",
           "locationmode": "USA-states",
           "locations": [
            "AL",
            "AK",
            "AZ",
            "AR",
            "CA",
            "CO",
            "CT",
            "DE",
            "DC",
            "FL",
            "GA",
            "GU",
            "HI",
            "ID",
            "IL",
            "IN",
            "IA",
            "KS",
            "KY",
            "LA",
            "ME",
            "MD",
            "MA",
            "MI",
            "MN",
            "MS",
            "MO",
            "MT",
            "NE",
            "NV",
            "NH",
            "NJ",
            "NM",
            "NY",
            "NC",
            "ND",
            "OH",
            "OK",
            "OR",
            "PA",
            "PR",
            "RI",
            "SC",
            "SD",
            "TN",
            "TX",
            "VI",
            "UT",
            "VT",
            "VA",
            "WA",
            "WV",
            "WI",
            "WY"
           ],
           "name": "",
           "type": "choropleth",
           "z": [
            0,
            12.23,
            2.73,
            6.99,
            9.61,
            5.83,
            10.78,
            9.32,
            9.32,
            0,
            7.28,
            11.07,
            9.32,
            8.16,
            8.16,
            7.28,
            0,
            0,
            3.79,
            0,
            8.16,
            9.32,
            10.19,
            9.32,
            4.37,
            0,
            0,
            9.32,
            5.83,
            9.32,
            9.32,
            8.74,
            7.57,
            10.78,
            8.45,
            5.83,
            4.37,
            8.16,
            7.28,
            9.32,
            3.79,
            9.32,
            0,
            5.83,
            0,
            8.16,
            0,
            6.99,
            9.32,
            0,
            9.32,
            6.99,
            8.45,
            8.74
           ]
          }
         ],
         "name": "1973"
        },
        {
         "data": [
          {
           "coloraxis": "coloraxis",
           "geo": "geo",
           "hovertemplate": "Year=1974<br>State=%{location}<br>Minimum Wage (2020 Dollars)=%{z}<extra></extra>",
           "locationmode": "USA-states",
           "locations": [
            "AL",
            "AK",
            "AZ",
            "AR",
            "CA",
            "CO",
            "CT",
            "DE",
            "DC",
            "FL",
            "GA",
            "GU",
            "HI",
            "ID",
            "IL",
            "IN",
            "IA",
            "KS",
            "KY",
            "LA",
            "ME",
            "MD",
            "MA",
            "MI",
            "MN",
            "MS",
            "MO",
            "MT",
            "NE",
            "NV",
            "NH",
            "NJ",
            "NM",
            "NY",
            "NC",
            "ND",
            "OH",
            "OK",
            "OR",
            "PA",
            "PR",
            "RI",
            "SC",
            "SD",
            "TN",
            "TX",
            "VI",
            "UT",
            "VT",
            "VA",
            "WA",
            "WV",
            "WI",
            "WY"
           ],
           "name": "",
           "type": "choropleth",
           "z": [
            0,
            11.02,
            2.46,
            6.3,
            8.66,
            5.25,
            9.71,
            8.39,
            8.39,
            0,
            6.56,
            9.97,
            8.39,
            7.35,
            7.35,
            6.56,
            0,
            0,
            3.41,
            0,
            7.35,
            8.39,
            9.18,
            8.39,
            3.93,
            0,
            0,
            8.39,
            5.25,
            8.39,
            8.39,
            7.87,
            6.82,
            9.71,
            7.61,
            5.25,
            3.93,
            7.35,
            6.56,
            8.39,
            3.41,
            8.39,
            0,
            5.25,
            0,
            7.35,
            0,
            6.3,
            8.39,
            0,
            8.39,
            6.3,
            7.61,
            7.87
           ]
          }
         ],
         "name": "1974"
        },
        {
         "data": [
          {
           "coloraxis": "coloraxis",
           "geo": "geo",
           "hovertemplate": "Year=1975<br>State=%{location}<br>Minimum Wage (2020 Dollars)=%{z}<extra></extra>",
           "locationmode": "USA-states",
           "locations": [
            "AL",
            "AK",
            "AZ",
            "AR",
            "CA",
            "CO",
            "CT",
            "DE",
            "DC",
            "FL",
            "GA",
            "GU",
            "HI",
            "ID",
            "IL",
            "IN",
            "IA",
            "KS",
            "KY",
            "LA",
            "ME",
            "MD",
            "MA",
            "MI",
            "MN",
            "MS",
            "MO",
            "MT",
            "NE",
            "NV",
            "NH",
            "NJ",
            "NM",
            "NY",
            "NC",
            "ND",
            "OH",
            "OK",
            "OR",
            "PA",
            "PR",
            "RI",
            "SC",
            "SD",
            "TN",
            "TX",
            "VI",
            "UT",
            "VT",
            "VA",
            "WA",
            "WV",
            "WI",
            "WY"
           ],
           "name": "",
           "type": "choropleth",
           "z": [
            0,
            10.1,
            2.25,
            5.77,
            7.93,
            4.81,
            8.89,
            7.69,
            7.69,
            0,
            6.01,
            9.13,
            7.69,
            6.73,
            6.73,
            6.01,
            0,
            0,
            3.13,
            0,
            6.73,
            7.69,
            8.41,
            7.69,
            3.61,
            0,
            0,
            7.69,
            4.81,
            7.69,
            7.69,
            7.21,
            6.25,
            8.89,
            6.97,
            4.81,
            3.61,
            6.73,
            6.01,
            7.69,
            3.13,
            7.69,
            0,
            4.81,
            0,
            6.73,
            0,
            5.77,
            7.69,
            0,
            7.69,
            5.77,
            6.97,
            7.21
           ]
          }
         ],
         "name": "1975"
        },
        {
         "data": [
          {
           "coloraxis": "coloraxis",
           "geo": "geo",
           "hovertemplate": "Year=1976<br>State=%{location}<br>Minimum Wage (2020 Dollars)=%{z}<extra></extra>",
           "locationmode": "USA-states",
           "locations": [
            "AL",
            "AK",
            "AZ",
            "AR",
            "CA",
            "CO",
            "CT",
            "DE",
            "DC",
            "FL",
            "GA",
            "GU",
            "HI",
            "ID",
            "IL",
            "IN",
            "IA",
            "KS",
            "KY",
            "LA",
            "ME",
            "MD",
            "MA",
            "MI",
            "MN",
            "MS",
            "MO",
            "MT",
            "NE",
            "NV",
            "NH",
            "NJ",
            "NM",
            "NY",
            "NC",
            "ND",
            "OH",
            "OK",
            "OR",
            "PA",
            "PR",
            "RI",
            "SC",
            "SD",
            "TN",
            "TX",
            "VI",
            "UT",
            "VT",
            "VA",
            "WA",
            "WV",
            "WI",
            "WY"
           ],
           "name": "",
           "type": "choropleth",
           "z": [
            0,
            12.73,
            0,
            8.64,
            9.09,
            4.55,
            10.05,
            9.09,
            10.23,
            0,
            5.68,
            10.46,
            10.91,
            7.27,
            9.55,
            5.68,
            0,
            0,
            7.27,
            0,
            10.46,
            10,
            9.55,
            10,
            8.18,
            0,
            0,
            8.18,
            7.27,
            10,
            10,
            10,
            9.09,
            10.46,
            9.09,
            9.09,
            7.27,
            8.18,
            10.46,
            10,
            3.45,
            10.46,
            0,
            9.09,
            0,
            6.36,
            0,
            7.05,
            10.46,
            9.09,
            10,
            9.09,
            9.55,
            7.27
           ]
          }
         ],
         "name": "1976"
        },
        {
         "data": [
          {
           "coloraxis": "coloraxis",
           "geo": "geo",
           "hovertemplate": "Year=1977<br>State=%{location}<br>Minimum Wage (2020 Dollars)=%{z}<extra></extra>",
           "locationmode": "USA-states",
           "locations": [
            "AL",
            "AK",
            "AZ",
            "AR",
            "CA",
            "CO",
            "CT",
            "DE",
            "DC",
            "FL",
            "GA",
            "GU",
            "HI",
            "ID",
            "IL",
            "IN",
            "IA",
            "KS",
            "KY",
            "LA",
            "ME",
            "MD",
            "MA",
            "MI",
            "MN",
            "MS",
            "MO",
            "MT",
            "NE",
            "NV",
            "NH",
            "NJ",
            "NM",
            "NY",
            "NC",
            "ND",
            "OH",
            "OK",
            "OR",
            "PA",
            "PR",
            "RI",
            "SC",
            "SD",
            "TN",
            "TX",
            "VI",
            "UT",
            "VT",
            "VA",
            "WA",
            "WV",
            "WI",
            "WY"
           ],
           "name": "",
           "type": "choropleth",
           "z": [
            0,
            11.95,
            0,
            8.11,
            8.54,
            4.27,
            9.43,
            8.54,
            9.6,
            0,
            5.34,
            9.82,
            10.24,
            6.83,
            8.96,
            5.34,
            0,
            0,
            6.83,
            0,
            9.82,
            9.39,
            8.96,
            9.39,
            7.68,
            0,
            0,
            7.68,
            6.83,
            9.39,
            9.39,
            9.39,
            8.54,
            9.82,
            8.54,
            8.54,
            6.83,
            7.68,
            9.82,
            9.39,
            3.24,
            9.82,
            0,
            8.54,
            0,
            5.98,
            0,
            6.62,
            9.82,
            8.54,
            9.39,
            8.54,
            8.96,
            6.83
           ]
          }
         ],
         "name": "1977"
        },
        {
         "data": [
          {
           "coloraxis": "coloraxis",
           "geo": "geo",
           "hovertemplate": "Year=1978<br>State=%{location}<br>Minimum Wage (2020 Dollars)=%{z}<extra></extra>",
           "locationmode": "USA-states",
           "locations": [
            "AL",
            "AK",
            "AZ",
            "AR",
            "CA",
            "CO",
            "CT",
            "DE",
            "DC",
            "FL",
            "GA",
            "GU",
            "HI",
            "ID",
            "IL",
            "IN",
            "IA",
            "KS",
            "KY",
            "LA",
            "ME",
            "MD",
            "MA",
            "MI",
            "MN",
            "MS",
            "MO",
            "MT",
            "NE",
            "NV",
            "NH",
            "NJ",
            "NM",
            "NY",
            "NC",
            "ND",
            "OH",
            "OK",
            "OR",
            "PA",
            "PR",
            "RI",
            "SC",
            "SD",
            "TN",
            "TX",
            "VI",
            "UT",
            "VT",
            "VA",
            "WA",
            "WV",
            "WI",
            "WY"
           ],
           "name": "",
           "type": "choropleth",
           "z": [
            0,
            11.11,
            0,
            7.54,
            7.93,
            3.97,
            8.77,
            7.93,
            8.93,
            0,
            4.96,
            9.12,
            9.52,
            6.35,
            8.33,
            4.96,
            0,
            0,
            6.35,
            0,
            9.12,
            8.73,
            8.33,
            8.73,
            7.14,
            0,
            0,
            7.14,
            6.35,
            8.73,
            8.73,
            8.73,
            7.93,
            9.12,
            7.93,
            7.93,
            6.35,
            7.14,
            9.12,
            8.73,
            3.02,
            9.12,
            0,
            7.93,
            0,
            5.55,
            0,
            6.15,
            9.12,
            7.93,
            8.73,
            7.93,
            8.33,
            6.35
           ]
          }
         ],
         "name": "1978"
        },
        {
         "data": [
          {
           "coloraxis": "coloraxis",
           "geo": "geo",
           "hovertemplate": "Year=1979<br>State=%{location}<br>Minimum Wage (2020 Dollars)=%{z}<extra></extra>",
           "locationmode": "USA-states",
           "locations": [
            "AL",
            "AK",
            "AZ",
            "AR",
            "CA",
            "CO",
            "CT",
            "DE",
            "DC",
            "FL",
            "GA",
            "GU",
            "HI",
            "ID",
            "IL",
            "IN",
            "IA",
            "KS",
            "KY",
            "LA",
            "ME",
            "MD",
            "MA",
            "MI",
            "MN",
            "MS",
            "MO",
            "MT",
            "NE",
            "NV",
            "NH",
            "NJ",
            "NM",
            "NY",
            "NC",
            "ND",
            "OH",
            "OK",
            "OR",
            "PA",
            "PR",
            "RI",
            "SC",
            "SD",
            "TN",
            "TX",
            "VI",
            "UT",
            "VT",
            "VA",
            "WA",
            "WV",
            "WI",
            "WY"
           ],
           "name": "",
           "type": "choropleth",
           "z": [
            0,
            12.11,
            0,
            8.19,
            10.33,
            6.77,
            10.37,
            7.13,
            8.76,
            0,
            4.38,
            10.33,
            9.44,
            8.19,
            8.19,
            7.13,
            0,
            5.7,
            7.13,
            0,
            10.33,
            10.33,
            10.33,
            10.33,
            8.19,
            0,
            0,
            7.13,
            5.7,
            9.8,
            10.33,
            8.91,
            8.19,
            10.33,
            8.91,
            7.48,
            8.19,
            7.13,
            8.19,
            10.33,
            4.28,
            8.19,
            0,
            8.19,
            0,
            4.99,
            10.33,
            7.84,
            10.33,
            8.37,
            8.19,
            7.84,
            9.98,
            5.7
           ]
          }
         ],
         "name": "1979"
        },
        {
         "data": [
          {
           "coloraxis": "coloraxis",
           "geo": "geo",
           "hovertemplate": "Year=1980<br>State=%{location}<br>Minimum Wage (2020 Dollars)=%{z}<extra></extra>",
           "locationmode": "USA-states",
           "locations": [
            "AL",
            "AK",
            "AZ",
            "AR",
            "CA",
            "CO",
            "CT",
            "DE",
            "DC",
            "FL",
            "GA",
            "GU",
            "HI",
            "ID",
            "IL",
            "IN",
            "IA",
            "KS",
            "KY",
            "LA",
            "ME",
            "MD",
            "MA",
            "MI",
            "MN",
            "MS",
            "MO",
            "MT",
            "NE",
            "NV",
            "NH",
            "NJ",
            "NM",
            "NY",
            "NC",
            "ND",
            "OH",
            "OK",
            "OR",
            "PA",
            "PR",
            "RI",
            "SC",
            "SD",
            "TN",
            "TX",
            "VI",
            "UT",
            "VT",
            "VA",
            "WA",
            "WV",
            "WI",
            "WY"
           ],
           "name": "",
           "type": "choropleth",
           "z": [
            0,
            11.3,
            0,
            8,
            9.1,
            5.96,
            9.79,
            6.28,
            7.85,
            0,
            3.92,
            9.73,
            9.1,
            7.22,
            7.22,
            6.28,
            0,
            5.02,
            6.75,
            0,
            9.73,
            9.73,
            9.73,
            9.73,
            9.1,
            0,
            0,
            6.28,
            5.02,
            8.63,
            9.73,
            9.73,
            8.32,
            9.73,
            8.63,
            8.16,
            7.22,
            6.28,
            9.1,
            9.73,
            3.77,
            8.32,
            0,
            7.22,
            0,
            4.39,
            9.73,
            7.38,
            9.73,
            7.38,
            7.22,
            6.91,
            9.42,
            5.02
           ]
          }
         ],
         "name": "1980"
        },
        {
         "data": [
          {
           "coloraxis": "coloraxis",
           "geo": "geo",
           "hovertemplate": "Year=1981<br>State=%{location}<br>Minimum Wage (2020 Dollars)=%{z}<extra></extra>",
           "locationmode": "USA-states",
           "locations": [
            "AL",
            "AK",
            "AZ",
            "AR",
            "CA",
            "CO",
            "CT",
            "DE",
            "DC",
            "FL",
            "GA",
            "GU",
            "HI",
            "ID",
            "IL",
            "IN",
            "IA",
            "KS",
            "KY",
            "LA",
            "ME",
            "MD",
            "MA",
            "MI",
            "MN",
            "MS",
            "MO",
            "MT",
            "NE",
            "NV",
            "NH",
            "NJ",
            "NM",
            "NY",
            "NC",
            "ND",
            "OH",
            "OK",
            "OR",
            "PA",
            "PR",
            "RI",
            "SC",
            "SD",
            "TN",
            "TX",
            "VI",
            "UT",
            "VT",
            "VA",
            "WA",
            "WV",
            "WI",
            "WY"
           ],
           "name": "",
           "type": "choropleth",
           "z": [
            0,
            10.96,
            0,
            7.68,
            9.53,
            5.41,
            9.59,
            5.69,
            7.11,
            0,
            3.56,
            9.53,
            8.82,
            6.54,
            6.54,
            5.69,
            0,
            4.55,
            6.12,
            0,
            9.53,
            9.53,
            9.53,
            9.53,
            8.82,
            0,
            0,
            5.69,
            4.55,
            7.83,
            9.53,
            9.53,
            8.25,
            9.53,
            8.25,
            7.97,
            6.54,
            8.82,
            8.82,
            9.53,
            3.41,
            8.25,
            0,
            6.54,
            0,
            3.98,
            9.53,
            7.11,
            9.53,
            7.54,
            6.54,
            7.83,
            9.25,
            4.55
           ]
          }
         ],
         "name": "1981"
        },
        {
         "data": [
          {
           "coloraxis": "coloraxis",
           "geo": "geo",
           "hovertemplate": "Year=1982<br>State=%{location}<br>Minimum Wage (2020 Dollars)=%{z}<extra></extra>",
           "locationmode": "USA-states",
           "locations": [
            "AL",
            "AK",
            "AZ",
            "AR",
            "CA",
            "CO",
            "CT",
            "DE",
            "DC",
            "FL",
            "GA",
            "GU",
            "HI",
            "ID",
            "IL",
            "IN",
            "IA",
            "KS",
            "KY",
            "LA",
            "ME",
            "MD",
            "MA",
            "MI",
            "MN",
            "MS",
            "MO",
            "MT",
            "NE",
            "NV",
            "NH",
            "NJ",
            "NM",
            "NY",
            "NC",
            "ND",
            "OH",
            "OK",
            "OR",
            "PA",
            "PR",
            "RI",
            "SC",
            "SD",
            "TN",
            "TX",
            "VI",
            "UT",
            "VT",
            "VA",
            "WA",
            "WV",
            "WI",
            "WY"
           ],
           "name": "",
           "type": "choropleth",
           "z": [
            0,
            10.32,
            0,
            7.24,
            8.98,
            5.09,
            9.03,
            5.36,
            6.7,
            0,
            3.35,
            8.98,
            8.31,
            6.16,
            6.16,
            5.36,
            0,
            4.29,
            5.76,
            0,
            8.98,
            8.98,
            8.98,
            8.98,
            8.31,
            0,
            0,
            5.36,
            4.29,
            7.37,
            8.98,
            8.98,
            7.77,
            8.98,
            7.77,
            7.51,
            6.16,
            8.31,
            8.31,
            8.98,
            3.22,
            7.77,
            0,
            6.16,
            0,
            3.75,
            8.98,
            6.7,
            8.98,
            7.1,
            6.16,
            7.37,
            8.71,
            4.29
           ]
          }
         ],
         "name": "1982"
        },
        {
         "data": [
          {
           "coloraxis": "coloraxis",
           "geo": "geo",
           "hovertemplate": "Year=1983<br>State=%{location}<br>Minimum Wage (2020 Dollars)=%{z}<extra></extra>",
           "locationmode": "USA-states",
           "locations": [
            "AL",
            "AK",
            "AZ",
            "AR",
            "CA",
            "CO",
            "CT",
            "DE",
            "DC",
            "FL",
            "GA",
            "GU",
            "HI",
            "ID",
            "IL",
            "IN",
            "IA",
            "KS",
            "KY",
            "LA",
            "ME",
            "MD",
            "MA",
            "MI",
            "MN",
            "MS",
            "MO",
            "MT",
            "NE",
            "NV",
            "NH",
            "NJ",
            "NM",
            "NY",
            "NC",
            "ND",
            "OH",
            "OK",
            "OR",
            "PA",
            "PR",
            "RI",
            "SC",
            "SD",
            "TN",
            "TX",
            "VI",
            "UT",
            "VT",
            "VA",
            "WA",
            "WV",
            "WI",
            "WY"
           ],
           "name": "",
           "type": "choropleth",
           "z": [
            0,
            10,
            0,
            7.01,
            8.7,
            4.93,
            8.75,
            5.19,
            6.49,
            0,
            3.25,
            8.7,
            8.05,
            5.97,
            5.97,
            5.19,
            0,
            4.16,
            5.58,
            0,
            8.7,
            8.7,
            8.7,
            8.7,
            8.05,
            0,
            0,
            5.19,
            4.16,
            7.14,
            8.7,
            8.7,
            7.53,
            8.7,
            7.53,
            7.27,
            5.97,
            8.05,
            8.05,
            8.7,
            3.12,
            7.53,
            0,
            5.97,
            0,
            3.64,
            8.7,
            6.49,
            8.7,
            6.88,
            5.97,
            7.14,
            8.44,
            4.16
           ]
          }
         ],
         "name": "1983"
        },
        {
         "data": [
          {
           "coloraxis": "coloraxis",
           "geo": "geo",
           "hovertemplate": "Year=1984<br>State=%{location}<br>Minimum Wage (2020 Dollars)=%{z}<extra></extra>",
           "locationmode": "USA-states",
           "locations": [
            "AL",
            "AK",
            "AZ",
            "AR",
            "CA",
            "CO",
            "CT",
            "DE",
            "DC",
            "FL",
            "GA",
            "GU",
            "HI",
            "ID",
            "IL",
            "IN",
            "IA",
            "KS",
            "KY",
            "LA",
            "ME",
            "MD",
            "MA",
            "MI",
            "MN",
            "MS",
            "MO",
            "MT",
            "NE",
            "NV",
            "NH",
            "NJ",
            "NM",
            "NY",
            "NC",
            "ND",
            "OH",
            "OK",
            "OR",
            "PA",
            "PR",
            "RI",
            "SC",
            "SD",
            "TN",
            "TX",
            "VI",
            "UT",
            "VT",
            "VA",
            "WA",
            "WV",
            "WI",
            "WY"
           ],
           "name": "",
           "type": "choropleth",
           "z": [
            0,
            9.58,
            0,
            6.72,
            8.34,
            4.73,
            8.39,
            4.98,
            6.22,
            0,
            3.11,
            8.34,
            7.72,
            5.73,
            5.73,
            4.98,
            0,
            3.98,
            5.35,
            0,
            8.34,
            8.34,
            8.34,
            8.34,
            7.72,
            0,
            0,
            4.98,
            3.98,
            6.85,
            8.34,
            8.34,
            7.22,
            8.34,
            7.22,
            6.97,
            5.73,
            7.72,
            7.72,
            8.34,
            2.99,
            7.22,
            0,
            5.73,
            0,
            3.49,
            8.34,
            6.22,
            8.34,
            6.6,
            5.73,
            6.85,
            8.09,
            3.98
           ]
          }
         ],
         "name": "1984"
        },
        {
         "data": [
          {
           "coloraxis": "coloraxis",
           "geo": "geo",
           "hovertemplate": "Year=1985<br>State=%{location}<br>Minimum Wage (2020 Dollars)=%{z}<extra></extra>",
           "locationmode": "USA-states",
           "locations": [
            "AL",
            "AK",
            "AZ",
            "AR",
            "CA",
            "CO",
            "CT",
            "DE",
            "DC",
            "FL",
            "GA",
            "GU",
            "HI",
            "ID",
            "IL",
            "IN",
            "IA",
            "KS",
            "KY",
            "LA",
            "ME",
            "MD",
            "MA",
            "MI",
            "MN",
            "MS",
            "MO",
            "MT",
            "NE",
            "NV",
            "NH",
            "NJ",
            "NM",
            "NY",
            "NC",
            "ND",
            "OH",
            "OK",
            "OR",
            "PA",
            "PR",
            "RI",
            "SC",
            "SD",
            "TN",
            "TX",
            "VI",
            "UT",
            "VT",
            "VA",
            "WA",
            "WV",
            "WI",
            "WY"
           ],
           "name": "",
           "type": "choropleth",
           "z": [
            0,
            9.26,
            0,
            6.49,
            8.05,
            4.57,
            8.1,
            4.81,
            6.01,
            0,
            3,
            8.05,
            7.45,
            5.53,
            5.53,
            4.81,
            0,
            3.85,
            5.17,
            0,
            8.05,
            8.05,
            8.05,
            8.05,
            7.45,
            0,
            0,
            4.81,
            3.85,
            6.61,
            8.05,
            8.05,
            6.97,
            8.05,
            6.97,
            6.73,
            5.53,
            7.45,
            7.45,
            8.05,
            2.88,
            6.97,
            0,
            5.53,
            0,
            3.37,
            8.05,
            6.01,
            8.05,
            6.37,
            5.53,
            6.61,
            7.81,
            3.85
           ]
          }
         ],
         "name": "1985"
        },
        {
         "data": [
          {
           "coloraxis": "coloraxis",
           "geo": "geo",
           "hovertemplate": "Year=1986<br>State=%{location}<br>Minimum Wage (2020 Dollars)=%{z}<extra></extra>",
           "locationmode": "USA-states",
           "locations": [
            "AL",
            "AK",
            "AZ",
            "AR",
            "CA",
            "CO",
            "CT",
            "DE",
            "DC",
            "FL",
            "GA",
            "GU",
            "HI",
            "ID",
            "IL",
            "IN",
            "IA",
            "KS",
            "KY",
            "LA",
            "ME",
            "MD",
            "MA",
            "MI",
            "MN",
            "MS",
            "MO",
            "MT",
            "NE",
            "NV",
            "NH",
            "NJ",
            "NM",
            "NY",
            "NC",
            "ND",
            "OH",
            "OK",
            "OR",
            "PA",
            "PR",
            "RI",
            "SC",
            "SD",
            "TN",
            "TX",
            "VI",
            "UT",
            "VT",
            "VA",
            "WA",
            "WV",
            "WI",
            "WY"
           ],
           "name": "",
           "type": "choropleth",
           "z": [
            0,
            9.09,
            0,
            6.37,
            7.91,
            4.48,
            7.95,
            4.72,
            5.9,
            0,
            2.95,
            7.91,
            7.32,
            5.43,
            5.43,
            4.72,
            0,
            3.78,
            5.07,
            0,
            7.91,
            7.91,
            7.91,
            7.91,
            7.32,
            0,
            0,
            4.72,
            3.78,
            6.49,
            7.91,
            7.91,
            6.84,
            7.91,
            6.84,
            6.61,
            5.43,
            7.32,
            7.32,
            7.91,
            2.83,
            6.84,
            0,
            5.43,
            0,
            3.3,
            7.91,
            5.9,
            7.91,
            6.25,
            5.43,
            6.49,
            7.67,
            3.78
           ]
          }
         ],
         "name": "1986"
        },
        {
         "data": [
          {
           "coloraxis": "coloraxis",
           "geo": "geo",
           "hovertemplate": "Year=1987<br>State=%{location}<br>Minimum Wage (2020 Dollars)=%{z}<extra></extra>",
           "locationmode": "USA-states",
           "locations": [
            "AL",
            "AK",
            "AZ",
            "AR",
            "CA",
            "CO",
            "CT",
            "DE",
            "DC",
            "FL",
            "GA",
            "GU",
            "HI",
            "ID",
            "IL",
            "IN",
            "IA",
            "KS",
            "KY",
            "LA",
            "ME",
            "MD",
            "MA",
            "MI",
            "MN",
            "MS",
            "MO",
            "MT",
            "NE",
            "NV",
            "NH",
            "NJ",
            "NM",
            "NY",
            "NC",
            "ND",
            "OH",
            "OK",
            "OR",
            "PA",
            "PR",
            "RI",
            "SC",
            "SD",
            "TN",
            "TX",
            "VI",
            "UT",
            "VT",
            "VA",
            "WA",
            "WV",
            "WI",
            "WY"
           ],
           "name": "",
           "type": "choropleth",
           "z": [
            0,
            8.77,
            0,
            6.15,
            7.63,
            4.33,
            7.67,
            4.55,
            5.69,
            0,
            2.85,
            7.63,
            7.06,
            5.24,
            5.24,
            4.55,
            0,
            3.64,
            4.9,
            0,
            7.63,
            7.63,
            7.63,
            7.63,
            7.06,
            0,
            0,
            4.55,
            3.64,
            6.26,
            7.63,
            7.63,
            6.6,
            7.63,
            6.6,
            6.38,
            5.24,
            7.06,
            7.06,
            7.63,
            2.73,
            6.6,
            0,
            5.24,
            0,
            3.19,
            7.63,
            5.69,
            7.63,
            6.03,
            5.24,
            6.26,
            7.4,
            3.64
           ]
          }
         ],
         "name": "1987"
        },
        {
         "data": [
          {
           "coloraxis": "coloraxis",
           "geo": "geo",
           "hovertemplate": "Year=1988<br>State=%{location}<br>Minimum Wage (2020 Dollars)=%{z}<extra></extra>",
           "locationmode": "USA-states",
           "locations": [
            "AL",
            "AK",
            "AZ",
            "AR",
            "CA",
            "CO",
            "CT",
            "DE",
            "DC",
            "FL",
            "GA",
            "GU",
            "HI",
            "ID",
            "IL",
            "IN",
            "IA",
            "KS",
            "KY",
            "LA",
            "ME",
            "MD",
            "MA",
            "MI",
            "MN",
            "MS",
            "MO",
            "MT",
            "NE",
            "NV",
            "NH",
            "NJ",
            "NM",
            "NY",
            "NC",
            "ND",
            "OH",
            "OK",
            "OR",
            "PA",
            "PR",
            "RI",
            "SC",
            "SD",
            "TN",
            "TX",
            "VI",
            "UT",
            "VT",
            "VA",
            "WA",
            "WV",
            "WI",
            "WY"
           ],
           "name": "",
           "type": "choropleth",
           "z": [
            0,
            8.42,
            0,
            7.11,
            7.32,
            6.56,
            8.2,
            7.32,
            7.65,
            0,
            7.11,
            7.32,
            8.42,
            5.03,
            7.32,
            4.37,
            0,
            3.5,
            7.32,
            0,
            7.98,
            7.32,
            7.98,
            7.32,
            7.76,
            0,
            0,
            7.32,
            7.32,
            7.32,
            7.76,
            7.32,
            7.32,
            7.32,
            7.32,
            6.12,
            5.03,
            7.32,
            7.32,
            7.32,
            2.62,
            7.98,
            0,
            6.12,
            0,
            7.32,
            7.32,
            5.47,
            7.76,
            5.79,
            5.03,
            7.32,
            7.32,
            3.5
           ]
          }
         ],
         "name": "1988"
        },
        {
         "data": [
          {
           "coloraxis": "coloraxis",
           "geo": "geo",
           "hovertemplate": "Year=1989<br>State=%{location}<br>Minimum Wage (2020 Dollars)=%{z}<extra></extra>",
           "locationmode": "USA-states",
           "locations": [
            "AL",
            "AK",
            "AZ",
            "AR",
            "CA",
            "CO",
            "CT",
            "DE",
            "DC",
            "FL",
            "GA",
            "GU",
            "HI",
            "ID",
            "IL",
            "IN",
            "IA",
            "KS",
            "KY",
            "LA",
            "ME",
            "MD",
            "MA",
            "MI",
            "MN",
            "MS",
            "MO",
            "MT",
            "NE",
            "NV",
            "NH",
            "NJ",
            "NM",
            "NY",
            "NC",
            "ND",
            "OH",
            "OK",
            "OR",
            "PA",
            "PR",
            "RI",
            "SC",
            "SD",
            "TN",
            "TX",
            "VI",
            "UT",
            "VT",
            "VA",
            "WA",
            "WV",
            "WI",
            "WY"
           ],
           "name": "",
           "type": "choropleth",
           "z": [
            0,
            8.03,
            0,
            6.78,
            6.99,
            6.26,
            7.82,
            6.99,
            7.3,
            0,
            6.78,
            6.99,
            8.03,
            4.8,
            6.99,
            4.17,
            0,
            3.34,
            6.99,
            0,
            7.61,
            6.99,
            7.61,
            6.99,
            7.41,
            0,
            0,
            6.99,
            6.99,
            6.99,
            7.41,
            6.99,
            6.99,
            6.99,
            6.99,
            5.84,
            4.8,
            6.99,
            6.99,
            6.99,
            2.5,
            7.61,
            0,
            5.84,
            0,
            6.99,
            6.99,
            5.21,
            7.41,
            5.53,
            4.8,
            6.99,
            6.99,
            3.34
           ]
          }
         ],
         "name": "1989"
        },
        {
         "data": [
          {
           "coloraxis": "coloraxis",
           "geo": "geo",
           "hovertemplate": "Year=1990<br>State=%{location}<br>Minimum Wage (2020 Dollars)=%{z}<extra></extra>",
           "locationmode": "USA-states",
           "locations": [
            "AL",
            "AK",
            "AZ",
            "AR",
            "CA",
            "CO",
            "CT",
            "DE",
            "DC",
            "FL",
            "GA",
            "GU",
            "HI",
            "ID",
            "IL",
            "IN",
            "IA",
            "KS",
            "KY",
            "LA",
            "ME",
            "MD",
            "MA",
            "MI",
            "MN",
            "MS",
            "MO",
            "MT",
            "NE",
            "NV",
            "NH",
            "NJ",
            "NM",
            "NY",
            "NC",
            "ND",
            "OH",
            "OK",
            "OR",
            "PA",
            "PR",
            "RI",
            "SC",
            "SD",
            "TN",
            "TX",
            "VI",
            "UT",
            "VT",
            "VA",
            "WA",
            "WV",
            "WI",
            "WY"
           ],
           "name": "",
           "type": "choropleth",
           "z": [
            0,
            7.62,
            0,
            6.43,
            6.63,
            5.94,
            7.42,
            6.63,
            6.93,
            0,
            6.43,
            6.63,
            7.62,
            4.55,
            6.63,
            3.96,
            0,
            3.17,
            6.63,
            0,
            7.22,
            6.63,
            7.22,
            6.63,
            7.03,
            0,
            0,
            6.63,
            6.63,
            6.63,
            7.03,
            6.63,
            6.63,
            6.63,
            6.63,
            5.54,
            4.55,
            6.63,
            6.63,
            6.63,
            2.37,
            7.22,
            0,
            5.54,
            0,
            6.63,
            6.63,
            4.95,
            7.03,
            5.24,
            4.55,
            6.63,
            6.63,
            3.17
           ]
          }
         ],
         "name": "1990"
        },
        {
         "data": [
          {
           "coloraxis": "coloraxis",
           "geo": "geo",
           "hovertemplate": "Year=1991<br>State=%{location}<br>Minimum Wage (2020 Dollars)=%{z}<extra></extra>",
           "locationmode": "USA-states",
           "locations": [
            "AL",
            "AK",
            "AZ",
            "AR",
            "CA",
            "CO",
            "CT",
            "DE",
            "DC",
            "FL",
            "GA",
            "GU",
            "HI",
            "ID",
            "IL",
            "IN",
            "IA",
            "KS",
            "KY",
            "LA",
            "ME",
            "MD",
            "MA",
            "MI",
            "MN",
            "MS",
            "MO",
            "MT",
            "NE",
            "NV",
            "NH",
            "NJ",
            "NM",
            "NY",
            "NC",
            "ND",
            "OH",
            "OK",
            "OR",
            "PA",
            "PR",
            "RI",
            "SC",
            "SD",
            "TN",
            "TX",
            "VI",
            "UT",
            "VT",
            "VA",
            "WA",
            "WV",
            "WI",
            "WY"
           ],
           "name": "",
           "type": "choropleth",
           "z": [
            0,
            8.17,
            0,
            6.36,
            8.07,
            5.7,
            8.07,
            7.22,
            7.03,
            0,
            6.17,
            7.22,
            7.31,
            7.22,
            7.22,
            6.36,
            8.07,
            5.03,
            7.22,
            0,
            7.31,
            7.22,
            7.12,
            6.36,
            8.07,
            0,
            7.22,
            7.22,
            6.36,
            7.22,
            7.31,
            7.22,
            6.36,
            7.22,
            6.36,
            6.46,
            7.22,
            7.22,
            9.02,
            7.22,
            2.28,
            8.07,
            0,
            7.22,
            0,
            6.36,
            8.83,
            7.22,
            7.31,
            5.03,
            8.07,
            6.36,
            7.22,
            3.04
           ]
          }
         ],
         "name": "1991"
        },
        {
         "data": [
          {
           "coloraxis": "coloraxis",
           "geo": "geo",
           "hovertemplate": "Year=1992<br>State=%{location}<br>Minimum Wage (2020 Dollars)=%{z}<extra></extra>",
           "locationmode": "USA-states",
           "locations": [
            "AL",
            "AK",
            "AZ",
            "AR",
            "CA",
            "CO",
            "CT",
            "DE",
            "DC",
            "FL",
            "GA",
            "GU",
            "HI",
            "ID",
            "IL",
            "IN",
            "IA",
            "KS",
            "KY",
            "LA",
            "ME",
            "MD",
            "MA",
            "MI",
            "MN",
            "MS",
            "MO",
            "MT",
            "NE",
            "NV",
            "NH",
            "NJ",
            "NM",
            "NY",
            "NC",
            "ND",
            "OH",
            "OK",
            "OR",
            "PA",
            "PR",
            "RI",
            "SC",
            "SD",
            "TN",
            "TX",
            "VI",
            "UT",
            "VT",
            "VA",
            "WA",
            "WV",
            "WI",
            "WY"
           ],
           "name": "",
           "type": "choropleth",
           "z": [
            0,
            8.76,
            0,
            6.73,
            7.84,
            5.53,
            7.87,
            7.84,
            7.19,
            0,
            5.99,
            7.84,
            7.1,
            7.84,
            7.84,
            6.18,
            8.57,
            4.89,
            7.84,
            0,
            7.84,
            7.84,
            7.84,
            6.18,
            7.84,
            0,
            7.84,
            7.84,
            7.84,
            7.84,
            7.84,
            7.84,
            6.18,
            7.84,
            7.01,
            7.84,
            7.84,
            7.84,
            8.76,
            7.84,
            2.21,
            8.2,
            0,
            7.84,
            0,
            6.18,
            8.57,
            7.84,
            7.84,
            6.73,
            7.84,
            7.01,
            7.01,
            2.95
           ]
          }
         ],
         "name": "1992"
        },
        {
         "data": [
          {
           "coloraxis": "coloraxis",
           "geo": "geo",
           "hovertemplate": "Year=1993<br>State=%{location}<br>Minimum Wage (2020 Dollars)=%{z}<extra></extra>",
           "locationmode": "USA-states",
           "locations": [
            "AL",
            "AK",
            "AZ",
            "AR",
            "CA",
            "CO",
            "CT",
            "DE",
            "DC",
            "FL",
            "GA",
            "GU",
            "HI",
            "ID",
            "IL",
            "IN",
            "IA",
            "KS",
            "KY",
            "LA",
            "ME",
            "MD",
            "MA",
            "MI",
            "MN",
            "MS",
            "MO",
            "MT",
            "NE",
            "NV",
            "NH",
            "NJ",
            "NM",
            "NY",
            "NC",
            "ND",
            "OH",
            "OK",
            "OR",
            "PA",
            "PR",
            "RI",
            "SC",
            "SD",
            "TN",
            "TX",
            "VI",
            "UT",
            "VT",
            "VA",
            "WA",
            "WV",
            "WI",
            "WY"
           ],
           "name": "",
           "type": "choropleth",
           "z": [
            0,
            8.5,
            0,
            6.53,
            7.61,
            5.37,
            7.64,
            7.61,
            6.98,
            0,
            5.82,
            7.61,
            6.89,
            7.61,
            7.61,
            6,
            8.32,
            4.74,
            7.61,
            0,
            7.61,
            7.61,
            7.61,
            6,
            7.61,
            0,
            7.61,
            7.61,
            7.61,
            7.61,
            7.61,
            7.61,
            6,
            7.61,
            6.8,
            7.61,
            7.61,
            7.61,
            8.5,
            7.61,
            2.15,
            7.97,
            0,
            7.61,
            0,
            6,
            8.32,
            7.61,
            7.61,
            6.53,
            7.61,
            6.8,
            6.8,
            2.86
           ]
          }
         ],
         "name": "1993"
        },
        {
         "data": [
          {
           "coloraxis": "coloraxis",
           "geo": "geo",
           "hovertemplate": "Year=1994<br>State=%{location}<br>Minimum Wage (2020 Dollars)=%{z}<extra></extra>",
           "locationmode": "USA-states",
           "locations": [
            "AL",
            "AK",
            "AZ",
            "AR",
            "CA",
            "CO",
            "CT",
            "DE",
            "DC",
            "FL",
            "GA",
            "GU",
            "HI",
            "ID",
            "IL",
            "IN",
            "IA",
            "KS",
            "KY",
            "LA",
            "ME",
            "MD",
            "MA",
            "MI",
            "MN",
            "MS",
            "MO",
            "MT",
            "NE",
            "NV",
            "NH",
            "NJ",
            "NM",
            "NY",
            "NC",
            "ND",
            "OH",
            "OK",
            "OR",
            "PA",
            "PR",
            "RI",
            "SC",
            "SD",
            "TN",
            "TX",
            "VI",
            "UT",
            "VT",
            "VA",
            "WA",
            "WV",
            "WI",
            "WY"
           ],
           "name": "",
           "type": "choropleth",
           "z": [
            0,
            8.29,
            0,
            7.42,
            7.42,
            5.24,
            7.45,
            7.42,
            7.42,
            0,
            5.67,
            7.42,
            9.16,
            7.42,
            7.42,
            5.85,
            8.12,
            4.63,
            7.42,
            0,
            7.42,
            7.42,
            7.42,
            5.85,
            7.42,
            0,
            7.42,
            7.42,
            7.42,
            7.42,
            7.42,
            8.81,
            7.42,
            7.42,
            7.42,
            7.42,
            7.42,
            7.42,
            8.29,
            7.42,
            2.09,
            7.77,
            0,
            7.42,
            0,
            5.85,
            8.12,
            7.42,
            7.42,
            7.42,
            7.42,
            7.42,
            7.42,
            2.79
           ]
          }
         ],
         "name": "1994"
        },
        {
         "data": [
          {
           "coloraxis": "coloraxis",
           "geo": "geo",
           "hovertemplate": "Year=1995<br>State=%{location}<br>Minimum Wage (2020 Dollars)=%{z}<extra></extra>",
           "locationmode": "USA-states",
           "locations": [
            "AL",
            "AK",
            "AZ",
            "AR",
            "CA",
            "CO",
            "CT",
            "DE",
            "DC",
            "FL",
            "GA",
            "GU",
            "HI",
            "ID",
            "IL",
            "IN",
            "IA",
            "KS",
            "KY",
            "LA",
            "ME",
            "MD",
            "MA",
            "MI",
            "MN",
            "MS",
            "MO",
            "MT",
            "NE",
            "NV",
            "NH",
            "NJ",
            "NM",
            "NY",
            "NC",
            "ND",
            "OH",
            "OK",
            "OR",
            "PA",
            "PR",
            "RI",
            "SC",
            "SD",
            "TN",
            "TX",
            "VI",
            "UT",
            "VT",
            "VA",
            "WA",
            "WV",
            "WI",
            "WY"
           ],
           "name": "",
           "type": "choropleth",
           "z": [
            0,
            8.06,
            0,
            7.21,
            7.21,
            5.09,
            7.25,
            7.21,
            7.21,
            0,
            5.52,
            7.21,
            8.91,
            7.21,
            7.21,
            5.69,
            7.89,
            4.5,
            7.21,
            0,
            7.21,
            7.21,
            7.21,
            5.69,
            7.21,
            0,
            7.21,
            7.21,
            7.21,
            7.21,
            7.21,
            8.57,
            7.21,
            7.21,
            7.21,
            7.21,
            7.21,
            7.21,
            8.06,
            7.21,
            2.04,
            7.55,
            0,
            7.21,
            0,
            5.69,
            7.89,
            7.21,
            7.21,
            7.21,
            7.21,
            7.21,
            7.21,
            2.72
           ]
          }
         ],
         "name": "1995"
        },
        {
         "data": [
          {
           "coloraxis": "coloraxis",
           "geo": "geo",
           "hovertemplate": "Year=1996<br>State=%{location}<br>Minimum Wage (2020 Dollars)=%{z}<extra></extra>",
           "locationmode": "USA-states",
           "locations": [
            "AL",
            "AK",
            "AZ",
            "AR",
            "CA",
            "CO",
            "CT",
            "DE",
            "DC",
            "FL",
            "GA",
            "GU",
            "HI",
            "ID",
            "IL",
            "IN",
            "IA",
            "KS",
            "KY",
            "LA",
            "ME",
            "MD",
            "MA",
            "MI",
            "MN",
            "MS",
            "MO",
            "MT",
            "NE",
            "NV",
            "NH",
            "NJ",
            "NM",
            "NY",
            "NC",
            "ND",
            "OH",
            "OK",
            "OR",
            "PA",
            "PR",
            "RI",
            "SC",
            "SD",
            "TN",
            "TX",
            "VI",
            "UT",
            "VT",
            "VA",
            "WA",
            "WV",
            "WI",
            "WY"
           ],
           "name": "",
           "type": "choropleth",
           "z": [
            0,
            7.83,
            0,
            7.01,
            7.01,
            4.95,
            7.04,
            7.67,
            8.65,
            0,
            5.36,
            7.01,
            8.65,
            7.01,
            7.01,
            5.52,
            7.67,
            4.37,
            7.01,
            0,
            7.01,
            7.01,
            7.83,
            5.52,
            7.01,
            0,
            7.01,
            7.01,
            7.01,
            7.01,
            7.01,
            8.33,
            7.01,
            7.01,
            7.01,
            7.01,
            7.01,
            7.01,
            7.83,
            7.01,
            1.98,
            7.34,
            0,
            7.01,
            0,
            5.52,
            7.67,
            7.01,
            7.83,
            7.01,
            8.08,
            7.01,
            7.01,
            2.64
           ]
          }
         ],
         "name": "1996"
        },
        {
         "data": [
          {
           "coloraxis": "coloraxis",
           "geo": "geo",
           "hovertemplate": "Year=1997<br>State=%{location}<br>Minimum Wage (2020 Dollars)=%{z}<extra></extra>",
           "locationmode": "USA-states",
           "locations": [
            "AL",
            "AK",
            "AZ",
            "AR",
            "CA",
            "CO",
            "CT",
            "DE",
            "DC",
            "FL",
            "GA",
            "GU",
            "HI",
            "ID",
            "IL",
            "IN",
            "IA",
            "KS",
            "KY",
            "LA",
            "ME",
            "MD",
            "MA",
            "MI",
            "MN",
            "MS",
            "MO",
            "MT",
            "NE",
            "NV",
            "NH",
            "NJ",
            "NM",
            "NY",
            "NC",
            "ND",
            "OH",
            "OK",
            "OR",
            "PA",
            "PR",
            "RI",
            "SC",
            "SD",
            "TN",
            "TX",
            "VI",
            "UT",
            "VT",
            "VA",
            "WA",
            "WV",
            "WI",
            "WY"
           ],
           "name": "",
           "type": "choropleth",
           "z": [
            0,
            8.46,
            0,
            6.85,
            7.66,
            7.66,
            7.69,
            8.06,
            9.27,
            0,
            5.24,
            7.66,
            8.46,
            6.85,
            7.66,
            5.4,
            7.66,
            4.27,
            6.85,
            0,
            7.66,
            7.66,
            8.46,
            5.4,
            6.85,
            0,
            7.66,
            7.66,
            6.85,
            7.66,
            7.66,
            8.14,
            6.85,
            6.85,
            6.85,
            7.66,
            6.85,
            7.66,
            8.86,
            7.66,
            1.93,
            8.3,
            0,
            6.85,
            0,
            5.4,
            7.49,
            7.66,
            8.06,
            7.66,
            7.9,
            6.85,
            7.66,
            2.58
           ]
          }
         ],
         "name": "1997"
        },
        {
         "data": [
          {
           "coloraxis": "coloraxis",
           "geo": "geo",
           "hovertemplate": "Year=1998<br>State=%{location}<br>Minimum Wage (2020 Dollars)=%{z}<extra></extra>",
           "locationmode": "USA-states",
           "locations": [
            "AL",
            "AK",
            "AZ",
            "AR",
            "CA",
            "CO",
            "CT",
            "DE",
            "DC",
            "FL",
            "GA",
            "GU",
            "HI",
            "ID",
            "IL",
            "IN",
            "IA",
            "KS",
            "KY",
            "LA",
            "ME",
            "MD",
            "MA",
            "MI",
            "MN",
            "MS",
            "MO",
            "MT",
            "NE",
            "NV",
            "NH",
            "NJ",
            "NM",
            "NY",
            "NC",
            "ND",
            "OH",
            "OK",
            "OR",
            "PA",
            "PR",
            "RI",
            "SC",
            "SD",
            "TN",
            "TX",
            "VI",
            "UT",
            "VT",
            "VA",
            "WA",
            "WV",
            "WI",
            "WY"
           ],
           "name": "",
           "type": "choropleth",
           "z": [
            0,
            8.97,
            0,
            8.17,
            8.17,
            8.17,
            8.22,
            8.17,
            9.76,
            0,
            5.16,
            8.17,
            8.33,
            8.17,
            8.17,
            5.32,
            8.17,
            4.21,
            6.74,
            0,
            8.17,
            8.17,
            8.33,
            8.17,
            8.17,
            0,
            8.17,
            8.17,
            8.17,
            8.17,
            8.17,
            8.01,
            6.74,
            6.74,
            8.17,
            8.17,
            6.74,
            8.17,
            9.52,
            8.17,
            1.9,
            8.17,
            0,
            8.17,
            0,
            5.32,
            7.38,
            8.17,
            8.33,
            8.17,
            7.78,
            7.54,
            8.17,
            2.54
           ]
          }
         ],
         "name": "1998"
        },
        {
         "data": [
          {
           "coloraxis": "coloraxis",
           "geo": "geo",
           "hovertemplate": "Year=1999<br>State=%{location}<br>Minimum Wage (2020 Dollars)=%{z}<extra></extra>",
           "locationmode": "USA-states",
           "locations": [
            "AL",
            "AK",
            "AZ",
            "AR",
            "CA",
            "CO",
            "CT",
            "DE",
            "DC",
            "FL",
            "GA",
            "GU",
            "HI",
            "ID",
            "IL",
            "IN",
            "IA",
            "KS",
            "KY",
            "LA",
            "ME",
            "MD",
            "MA",
            "MI",
            "MN",
            "MS",
            "MO",
            "MT",
            "NE",
            "NV",
            "NH",
            "NJ",
            "NM",
            "NY",
            "NC",
            "ND",
            "OH",
            "OK",
            "OR",
            "PA",
            "PR",
            "RI",
            "SC",
            "SD",
            "TN",
            "TX",
            "VI",
            "UT",
            "VT",
            "VA",
            "WA",
            "WV",
            "WI",
            "WY"
           ],
           "name": "",
           "type": "choropleth",
           "z": [
            0,
            8.77,
            0,
            8,
            8,
            8,
            8.04,
            8,
            9.55,
            0,
            5.05,
            8,
            8.15,
            8,
            8,
            5.2,
            8,
            4.11,
            6.6,
            0,
            8,
            8,
            8.15,
            8,
            8,
            0,
            8,
            8,
            8,
            8,
            8,
            7.84,
            6.6,
            6.6,
            8,
            8,
            6.6,
            8,
            9.32,
            8,
            1.86,
            8,
            0,
            8,
            0,
            5.2,
            7.22,
            8,
            8.15,
            8,
            7.61,
            7.37,
            8,
            2.48
           ]
          }
         ],
         "name": "1999"
        },
        {
         "data": [
          {
           "coloraxis": "coloraxis",
           "geo": "geo",
           "hovertemplate": "Year=2000<br>State=%{location}<br>Minimum Wage (2020 Dollars)=%{z}<extra></extra>",
           "locationmode": "USA-states",
           "locations": [
            "AL",
            "AK",
            "AZ",
            "AR",
            "CA",
            "CO",
            "CT",
            "DE",
            "DC",
            "FL",
            "GA",
            "GU",
            "HI",
            "ID",
            "IL",
            "IN",
            "IA",
            "KS",
            "KY",
            "LA",
            "ME",
            "MD",
            "MA",
            "MI",
            "MN",
            "MS",
            "MO",
            "MT",
            "NE",
            "NV",
            "NH",
            "NJ",
            "NM",
            "NY",
            "NC",
            "ND",
            "OH",
            "OK",
            "OR",
            "PA",
            "PR",
            "RI",
            "SC",
            "SD",
            "TN",
            "TX",
            "VI",
            "UT",
            "VT",
            "VA",
            "WA",
            "WV",
            "WI",
            "WY"
           ],
           "name": "",
           "type": "choropleth",
           "z": [
            0,
            8.49,
            0,
            7.74,
            8.64,
            7.74,
            9.24,
            8.49,
            9.24,
            0,
            4.88,
            7.74,
            7.89,
            7.74,
            7.74,
            7.74,
            7.74,
            3.98,
            7.74,
            0,
            7.74,
            7.74,
            9.01,
            7.74,
            7.36,
            0,
            7.74,
            6.01,
            7.74,
            7.74,
            7.74,
            7.74,
            6.38,
            6.38,
            7.74,
            7.74,
            4.21,
            3,
            9.76,
            7.74,
            5.42,
            8.49,
            0,
            7.74,
            0,
            5.03,
            6.46,
            7.74,
            8.64,
            7.74,
            9.76,
            7.74,
            7.74,
            2.4
           ]
          }
         ],
         "name": "2000"
        },
        {
         "data": [
          {
           "coloraxis": "coloraxis",
           "geo": "geo",
           "hovertemplate": "Year=2001<br>State=%{location}<br>Minimum Wage (2020 Dollars)=%{z}<extra></extra>",
           "locationmode": "USA-states",
           "locations": [
            "AL",
            "AK",
            "AZ",
            "AR",
            "CA",
            "CO",
            "CT",
            "DE",
            "DC",
            "FL",
            "GA",
            "GU",
            "HI",
            "ID",
            "IL",
            "IN",
            "IA",
            "KS",
            "KY",
            "LA",
            "ME",
            "MD",
            "MA",
            "MI",
            "MN",
            "MS",
            "MO",
            "MT",
            "NE",
            "NV",
            "NH",
            "NJ",
            "NM",
            "NY",
            "NC",
            "ND",
            "OH",
            "OK",
            "OR",
            "PA",
            "PR",
            "RI",
            "SC",
            "SD",
            "TN",
            "TX",
            "VI",
            "UT",
            "VT",
            "VA",
            "WA",
            "WV",
            "WI",
            "WY"
           ],
           "name": "",
           "type": "choropleth",
           "z": [
            0,
            8.25,
            0,
            7.52,
            9.13,
            7.52,
            9.35,
            8.98,
            8.98,
            0,
            4.75,
            7.52,
            7.67,
            7.52,
            7.52,
            7.52,
            7.52,
            3.87,
            7.52,
            0,
            7.52,
            7.52,
            9.86,
            7.52,
            7.16,
            0,
            7.52,
            5.84,
            7.52,
            7.52,
            7.52,
            7.52,
            6.21,
            7.52,
            7.52,
            7.52,
            4.09,
            2.92,
            9.49,
            7.52,
            5.27,
            8.98,
            0,
            7.52,
            0,
            4.89,
            6.28,
            7.52,
            9.13,
            7.52,
            9.81,
            7.52,
            7.52,
            2.34
           ]
          }
         ],
         "name": "2001"
        },
        {
         "data": [
          {
           "coloraxis": "coloraxis",
           "geo": "geo",
           "hovertemplate": "Year=2002<br>State=%{location}<br>Minimum Wage (2020 Dollars)=%{z}<extra></extra>",
           "locationmode": "USA-states",
           "locations": [
            "AL",
            "AK",
            "AZ",
            "AR",
            "CA",
            "CO",
            "CT",
            "DE",
            "DC",
            "FL",
            "GA",
            "GU",
            "HI",
            "ID",
            "IL",
            "IN",
            "IA",
            "KS",
            "KY",
            "LA",
            "ME",
            "MD",
            "MA",
            "MI",
            "MN",
            "MS",
            "MO",
            "MT",
            "NE",
            "NV",
            "NH",
            "NJ",
            "NM",
            "NY",
            "NC",
            "ND",
            "OH",
            "OK",
            "OR",
            "PA",
            "PR",
            "RI",
            "SC",
            "SD",
            "TN",
            "TX",
            "VI",
            "UT",
            "VT",
            "VA",
            "WA",
            "WV",
            "WI",
            "WY"
           ],
           "name": "",
           "type": "choropleth",
           "z": [
            0,
            8.12,
            0,
            7.4,
            9.71,
            7.4,
            9.63,
            8.84,
            8.84,
            0,
            7.4,
            7.4,
            8.27,
            7.4,
            7.4,
            7.4,
            7.4,
            3.81,
            7.4,
            0,
            8.27,
            7.4,
            9.71,
            7.4,
            7.05,
            0,
            7.4,
            5.75,
            7.4,
            7.4,
            7.4,
            7.4,
            6.11,
            7.4,
            7.4,
            7.4,
            4.03,
            2.88,
            9.35,
            7.4,
            5.19,
            8.84,
            0,
            7.4,
            0,
            7.4,
            6.18,
            7.4,
            8.99,
            7.4,
            9.92,
            7.4,
            7.4,
            7.4
           ]
          }
         ],
         "name": "2002"
        },
        {
         "data": [
          {
           "coloraxis": "coloraxis",
           "geo": "geo",
           "hovertemplate": "Year=2003<br>State=%{location}<br>Minimum Wage (2020 Dollars)=%{z}<extra></extra>",
           "locationmode": "USA-states",
           "locations": [
            "AL",
            "AK",
            "AZ",
            "AR",
            "CA",
            "CO",
            "CT",
            "DE",
            "DC",
            "FL",
            "GA",
            "GU",
            "HI",
            "ID",
            "IL",
            "IN",
            "IA",
            "KS",
            "KY",
            "LA",
            "ME",
            "MD",
            "MA",
            "MI",
            "MN",
            "MS",
            "MO",
            "MT",
            "NE",
            "NV",
            "NH",
            "NJ",
            "NM",
            "NY",
            "NC",
            "ND",
            "OH",
            "OK",
            "OR",
            "PA",
            "PR",
            "RI",
            "SC",
            "SD",
            "TN",
            "TX",
            "VI",
            "UT",
            "VT",
            "VA",
            "WA",
            "WV",
            "WI",
            "WY"
           ],
           "name": "",
           "type": "choropleth",
           "z": [
            0,
            10.05,
            0,
            7.24,
            9.49,
            7.24,
            9.7,
            8.65,
            8.65,
            0,
            7.24,
            7.24,
            8.79,
            7.24,
            7.24,
            7.24,
            7.24,
            3.73,
            7.24,
            0,
            8.79,
            7.24,
            9.49,
            7.24,
            6.89,
            0,
            7.24,
            5.62,
            7.24,
            7.24,
            7.24,
            7.24,
            5.97,
            7.24,
            7.24,
            7.24,
            3.94,
            2.81,
            9.7,
            7.24,
            5.07,
            8.65,
            0,
            7.24,
            0,
            7.24,
            6.04,
            7.24,
            8.79,
            7.24,
            9.85,
            7.24,
            7.24,
            7.24
           ]
          }
         ],
         "name": "2003"
        },
        {
         "data": [
          {
           "coloraxis": "coloraxis",
           "geo": "geo",
           "hovertemplate": "Year=2004<br>State=%{location}<br>Minimum Wage (2020 Dollars)=%{z}<extra></extra>",
           "locationmode": "USA-states",
           "locations": [
            "AL",
            "AK",
            "AZ",
            "AR",
            "CA",
            "CO",
            "CT",
            "DE",
            "DC",
            "FL",
            "GA",
            "GU",
            "HI",
            "ID",
            "IL",
            "IN",
            "IA",
            "KS",
            "KY",
            "LA",
            "ME",
            "MD",
            "MA",
            "MI",
            "MN",
            "MS",
            "MO",
            "MT",
            "NE",
            "NV",
            "NH",
            "NJ",
            "NM",
            "NY",
            "NC",
            "ND",
            "OH",
            "OK",
            "OR",
            "PA",
            "PR",
            "RI",
            "SC",
            "SD",
            "TN",
            "TX",
            "VI",
            "UT",
            "VT",
            "VA",
            "WA",
            "WV",
            "WI",
            "WY"
           ],
           "name": "",
           "type": "choropleth",
           "z": [
            0,
            9.79,
            0,
            7.05,
            9.24,
            7.05,
            9.72,
            8.42,
            8.42,
            0,
            7.05,
            7.05,
            8.56,
            7.05,
            7.53,
            7.05,
            7.05,
            3.63,
            7.05,
            0,
            8.56,
            7.05,
            9.24,
            7.05,
            6.71,
            0,
            7.05,
            5.48,
            7.05,
            7.05,
            7.05,
            7.05,
            7.05,
            7.05,
            7.05,
            7.05,
            3.83,
            2.74,
            9.65,
            7.05,
            4.94,
            9.24,
            0,
            7.05,
            0,
            7.05,
            5.89,
            7.05,
            9.24,
            7.05,
            9.8,
            7.05,
            7.05,
            7.05
           ]
          }
         ],
         "name": "2004"
        },
        {
         "data": [
          {
           "coloraxis": "coloraxis",
           "geo": "geo",
           "hovertemplate": "Year=2005<br>State=%{location}<br>Minimum Wage (2020 Dollars)=%{z}<extra></extra>",
           "locationmode": "USA-states",
           "locations": [
            "AL",
            "AK",
            "AZ",
            "AR",
            "CA",
            "CO",
            "CT",
            "DE",
            "DC",
            "FL",
            "GA",
            "GU",
            "HI",
            "ID",
            "IL",
            "IN",
            "IA",
            "KS",
            "KY",
            "LA",
            "ME",
            "MD",
            "MA",
            "MI",
            "MN",
            "MS",
            "MO",
            "MT",
            "NE",
            "NV",
            "NH",
            "NJ",
            "NM",
            "NY",
            "NC",
            "ND",
            "OH",
            "OK",
            "OR",
            "PA",
            "PR",
            "RI",
            "SC",
            "SD",
            "TN",
            "TX",
            "VI",
            "UT",
            "VT",
            "VA",
            "WA",
            "WV",
            "WI",
            "WY"
           ],
           "name": "",
           "type": "choropleth",
           "z": [
            0,
            9.47,
            0,
            6.82,
            8.94,
            6.82,
            9.4,
            8.15,
            8.74,
            0,
            6.82,
            6.82,
            8.28,
            6.82,
            8.61,
            6.82,
            6.82,
            3.51,
            6.82,
            0,
            8.41,
            6.82,
            8.94,
            6.82,
            6.49,
            0,
            6.82,
            5.3,
            6.82,
            6.82,
            6.82,
            6.82,
            6.82,
            7.95,
            6.82,
            6.82,
            3.71,
            2.65,
            9.6,
            6.82,
            4.78,
            8.94,
            0,
            6.82,
            0,
            6.82,
            5.7,
            6.82,
            9.27,
            6.82,
            9.73,
            6.82,
            6.82,
            6.82
           ]
          }
         ],
         "name": "2005"
        },
        {
         "data": [
          {
           "coloraxis": "coloraxis",
           "geo": "geo",
           "hovertemplate": "Year=2006<br>State=%{location}<br>Minimum Wage (2020 Dollars)=%{z}<extra></extra>",
           "locationmode": "USA-states",
           "locations": [
            "AL",
            "AK",
            "AZ",
            "AR",
            "CA",
            "CO",
            "CT",
            "DE",
            "DC",
            "FL",
            "GA",
            "GU",
            "HI",
            "ID",
            "IL",
            "IN",
            "IA",
            "KS",
            "KY",
            "LA",
            "ME",
            "MD",
            "MA",
            "MI",
            "MN",
            "MS",
            "MO",
            "MT",
            "NE",
            "NV",
            "NH",
            "NJ",
            "NM",
            "NY",
            "NC",
            "ND",
            "OH",
            "OK",
            "OR",
            "PA",
            "PR",
            "RI",
            "SC",
            "SD",
            "TN",
            "TX",
            "VI",
            "UT",
            "VT",
            "VA",
            "WA",
            "WV",
            "WI",
            "WY"
           ],
           "name": "",
           "type": "choropleth",
           "z": [
            0,
            9.17,
            0,
            6.61,
            8.66,
            6.61,
            9.49,
            7.89,
            8.98,
            8.21,
            6.61,
            6.61,
            8.66,
            6.61,
            8.34,
            6.61,
            6.61,
            3.4,
            6.61,
            0,
            8.34,
            6.61,
            8.66,
            6.61,
            6.74,
            0,
            6.61,
            5.13,
            6.61,
            6.61,
            6.61,
            7.89,
            6.61,
            8.66,
            6.61,
            6.61,
            3.59,
            2.57,
            9.62,
            6.61,
            4.63,
            8.66,
            0,
            6.61,
            0,
            6.61,
            5.52,
            6.61,
            9.3,
            6.61,
            9.79,
            6.61,
            7.31,
            6.61
           ]
          }
         ],
         "name": "2006"
        },
        {
         "data": [
          {
           "coloraxis": "coloraxis",
           "geo": "geo",
           "hovertemplate": "Year=2007<br>State=%{location}<br>Minimum Wage (2020 Dollars)=%{z}<extra></extra>",
           "locationmode": "USA-states",
           "locations": [
            "AL",
            "AK",
            "AZ",
            "AR",
            "CA",
            "CO",
            "CT",
            "DE",
            "DC",
            "FL",
            "GA",
            "GU",
            "HI",
            "ID",
            "IL",
            "IN",
            "IA",
            "KS",
            "KY",
            "LA",
            "ME",
            "MD",
            "MA",
            "MI",
            "MN",
            "MS",
            "MO",
            "MT",
            "NE",
            "NV",
            "NH",
            "NJ",
            "NM",
            "NY",
            "NC",
            "ND",
            "OH",
            "OK",
            "OR",
            "PA",
            "PR",
            "RI",
            "SC",
            "SD",
            "TN",
            "TX",
            "VI",
            "UT",
            "VT",
            "VA",
            "WA",
            "WV",
            "WI",
            "WY"
           ],
           "name": "",
           "type": "choropleth",
           "z": [
            0,
            8.92,
            8.42,
            7.8,
            9.36,
            8.55,
            9.54,
            8.3,
            8.73,
            8.32,
            6.42,
            6.42,
            9.04,
            6.42,
            9.36,
            6.42,
            6.42,
            3.31,
            6.42,
            0,
            8.42,
            7.67,
            9.36,
            8.67,
            6.55,
            0,
            8.11,
            4.99,
            6.42,
            7.67,
            6.42,
            8.92,
            6.42,
            8.92,
            7.67,
            6.42,
            8.55,
            2.5,
            9.73,
            7.8,
            4.5,
            9.23,
            0,
            6.42,
            0,
            6.42,
            5.36,
            6.42,
            9.39,
            6.42,
            9.89,
            7.3,
            8.11,
            6.42
           ]
          }
         ],
         "name": "2007"
        },
        {
         "data": [
          {
           "coloraxis": "coloraxis",
           "geo": "geo",
           "hovertemplate": "Year=2008<br>State=%{location}<br>Minimum Wage (2020 Dollars)=%{z}<extra></extra>",
           "locationmode": "USA-states",
           "locations": [
            "AL",
            "AK",
            "AZ",
            "AR",
            "CA",
            "CO",
            "CT",
            "DE",
            "DC",
            "FL",
            "GA",
            "GU",
            "HI",
            "ID",
            "IL",
            "IN",
            "IA",
            "KS",
            "KY",
            "LA",
            "ME",
            "MD",
            "MA",
            "MI",
            "MN",
            "MS",
            "MO",
            "MT",
            "NE",
            "NV",
            "NH",
            "NJ",
            "NM",
            "NY",
            "NC",
            "ND",
            "OH",
            "OK",
            "OR",
            "PA",
            "PR",
            "RI",
            "SC",
            "SD",
            "TN",
            "TX",
            "VI",
            "UT",
            "VT",
            "VA",
            "WA",
            "WV",
            "WI",
            "WY"
           ],
           "name": "",
           "type": "choropleth",
           "z": [
            0,
            8.59,
            8.29,
            7.51,
            9.61,
            8.43,
            9.19,
            8.59,
            8.41,
            8.16,
            6.19,
            7.03,
            8.71,
            7.03,
            9.31,
            7.03,
            8.71,
            3.18,
            7.03,
            0,
            8.41,
            7.39,
            9.61,
            8.59,
            6.31,
            0,
            7.99,
            4.81,
            7.03,
            7.6,
            7.81,
            8.59,
            7.81,
            8.59,
            7.39,
            7.03,
            8.41,
            2.4,
            9.55,
            8.59,
            4.34,
            8.89,
            0,
            7.03,
            0,
            7.03,
            5.17,
            7.03,
            9.23,
            7.03,
            9.7,
            7.87,
            7.81,
            6.19
           ]
          }
         ],
         "name": "2008"
        },
        {
         "data": [
          {
           "coloraxis": "coloraxis",
           "geo": "geo",
           "hovertemplate": "Year=2009<br>State=%{location}<br>Minimum Wage (2020 Dollars)=%{z}<extra></extra>",
           "locationmode": "USA-states",
           "locations": [
            "AL",
            "AK",
            "AZ",
            "AR",
            "CA",
            "CO",
            "CT",
            "DE",
            "DC",
            "FL",
            "GA",
            "GU",
            "HI",
            "ID",
            "IL",
            "IN",
            "IA",
            "KS",
            "KY",
            "LA",
            "ME",
            "MD",
            "MA",
            "MI",
            "MN",
            "MS",
            "MO",
            "MT",
            "NE",
            "NV",
            "NH",
            "NJ",
            "NM",
            "NY",
            "NC",
            "ND",
            "OH",
            "OK",
            "OR",
            "PA",
            "PR",
            "RI",
            "SC",
            "SD",
            "TN",
            "TX",
            "VI",
            "UT",
            "VT",
            "VA",
            "WA",
            "WV",
            "WI",
            "WY"
           ],
           "name": "",
           "type": "choropleth",
           "z": [
            0,
            8.62,
            8.74,
            7.54,
            9.65,
            8.78,
            9.65,
            8.62,
            9.1,
            8.69,
            6.21,
            7.05,
            8.74,
            7.9,
            9.65,
            7.9,
            8.74,
            3.2,
            7.9,
            0,
            8.74,
            7.9,
            9.65,
            8.92,
            6.33,
            0,
            8.5,
            4.82,
            7.9,
            7.9,
            8.74,
            8.62,
            9.04,
            8.62,
            7.9,
            7.9,
            8.8,
            2.41,
            10.13,
            8.62,
            4.94,
            8.92,
            0,
            7.9,
            0,
            7.9,
            5.18,
            7.9,
            9.72,
            7.9,
            10.31,
            8.74,
            7.84,
            6.21
           ]
          }
         ],
         "name": "2009"
        },
        {
         "data": [
          {
           "coloraxis": "coloraxis",
           "geo": "geo",
           "hovertemplate": "Year=2010<br>State=%{location}<br>Minimum Wage (2020 Dollars)=%{z}<extra></extra>",
           "locationmode": "USA-states",
           "locations": [
            "AL",
            "AK",
            "AZ",
            "AR",
            "CA",
            "CO",
            "CT",
            "DE",
            "DC",
            "FL",
            "GA",
            "GU",
            "HI",
            "ID",
            "IL",
            "IN",
            "IA",
            "KS",
            "KY",
            "LA",
            "ME",
            "MD",
            "MA",
            "MI",
            "MN",
            "MS",
            "MO",
            "MT",
            "NE",
            "NV",
            "NH",
            "NJ",
            "NM",
            "NY",
            "NC",
            "ND",
            "OH",
            "OK",
            "OR",
            "PA",
            "PR",
            "RI",
            "SC",
            "SD",
            "TN",
            "TX",
            "VI",
            "UT",
            "VT",
            "VA",
            "WA",
            "WV",
            "WI",
            "WY"
           ],
           "name": "",
           "type": "choropleth",
           "z": [
            0,
            9.19,
            8.6,
            7.41,
            9.49,
            8.59,
            9.79,
            8.6,
            9.79,
            8.6,
            6.11,
            8.6,
            8.6,
            8.6,
            9.79,
            8.6,
            8.6,
            8.6,
            8.6,
            0,
            8.9,
            8.6,
            9.49,
            8.78,
            6.23,
            0,
            8.6,
            4.74,
            8.6,
            7.77,
            8.6,
            8.6,
            8.9,
            8.6,
            8.6,
            8.6,
            8.66,
            2.37,
            9.96,
            8.6,
            0,
            8.78,
            0,
            8.6,
            0,
            8.6,
            5.1,
            8.6,
            9.56,
            8.6,
            10.14,
            8.6,
            8.6,
            6.11
           ]
          }
         ],
         "name": "2010"
        },
        {
         "data": [
          {
           "coloraxis": "coloraxis",
           "geo": "geo",
           "hovertemplate": "Year=2011<br>State=%{location}<br>Minimum Wage (2020 Dollars)=%{z}<extra></extra>",
           "locationmode": "USA-states",
           "locations": [
            "AL",
            "AK",
            "AZ",
            "AR",
            "CA",
            "CO",
            "CT",
            "DE",
            "DC",
            "FL",
            "GA",
            "GU",
            "HI",
            "ID",
            "IL",
            "IN",
            "IA",
            "KS",
            "KY",
            "LA",
            "ME",
            "MD",
            "MA",
            "MI",
            "MN",
            "MS",
            "MO",
            "MT",
            "NE",
            "NV",
            "NH",
            "NJ",
            "NM",
            "NY",
            "NC",
            "ND",
            "OH",
            "OK",
            "OR",
            "PA",
            "PR",
            "RI",
            "SC",
            "SD",
            "TN",
            "TX",
            "VI",
            "UT",
            "VT",
            "VA",
            "WA",
            "WV",
            "WI",
            "WY"
           ],
           "name": "",
           "type": "choropleth",
           "z": [
            0,
            8.91,
            8.45,
            7.19,
            9.2,
            8.46,
            9.49,
            8.34,
            9.49,
            8.34,
            5.92,
            8.34,
            8.34,
            8.34,
            9.49,
            8.34,
            8.34,
            8.34,
            8.34,
            0,
            8.62,
            8.34,
            9.2,
            8.51,
            6.04,
            0,
            8.34,
            4.6,
            8.34,
            8.34,
            8.34,
            8.34,
            8.62,
            8.34,
            8.34,
            8.34,
            8.51,
            2.3,
            9.77,
            8.34,
            0,
            8.51,
            0,
            8.34,
            0,
            8.34,
            4.94,
            8.34,
            9.37,
            8.34,
            9.97,
            8.34,
            8.34,
            5.92
           ]
          }
         ],
         "name": "2011"
        },
        {
         "data": [
          {
           "coloraxis": "coloraxis",
           "geo": "geo",
           "hovertemplate": "Year=2012<br>State=%{location}<br>Minimum Wage (2020 Dollars)=%{z}<extra></extra>",
           "locationmode": "USA-states",
           "locations": [
            "AL",
            "AK",
            "AZ",
            "AR",
            "CA",
            "CO",
            "CT",
            "DE",
            "DC",
            "FL",
            "GA",
            "GU",
            "HI",
            "ID",
            "IL",
            "IN",
            "IA",
            "KS",
            "KY",
            "LA",
            "ME",
            "MD",
            "MA",
            "MI",
            "MN",
            "MS",
            "MO",
            "MT",
            "NE",
            "NV",
            "NH",
            "NJ",
            "NM",
            "NY",
            "NC",
            "ND",
            "OH",
            "OK",
            "OR",
            "PA",
            "PR",
            "RI",
            "SC",
            "SD",
            "TN",
            "TX",
            "VI",
            "UT",
            "VT",
            "VA",
            "WA",
            "WV",
            "WI",
            "WY"
           ],
           "name": "",
           "type": "choropleth",
           "z": [
            0,
            8.73,
            8.62,
            7.04,
            9.01,
            8.61,
            9.29,
            8.17,
            9.29,
            8.64,
            5.8,
            8.17,
            8.17,
            8.17,
            9.29,
            8.17,
            8.17,
            8.17,
            8.17,
            0,
            8.45,
            8.17,
            9.01,
            8.34,
            5.91,
            0,
            8.17,
            4.51,
            8.17,
            8.17,
            8.17,
            8.17,
            8.45,
            8.17,
            8.17,
            8.17,
            8.67,
            2.25,
            9.91,
            8.17,
            0,
            8.34,
            0,
            8.17,
            0,
            8.17,
            4.84,
            8.17,
            9.53,
            8.17,
            10.18,
            8.17,
            8.17,
            5.8
           ]
          }
         ],
         "name": "2012"
        },
        {
         "data": [
          {
           "coloraxis": "coloraxis",
           "geo": "geo",
           "hovertemplate": "Year=2013<br>State=%{location}<br>Minimum Wage (2020 Dollars)=%{z}<extra></extra>",
           "locationmode": "USA-states",
           "locations": [
            "AL",
            "AK",
            "AZ",
            "AR",
            "CA",
            "CO",
            "CT",
            "DE",
            "DC",
            "FL",
            "GA",
            "GU",
            "HI",
            "ID",
            "IL",
            "IN",
            "IA",
            "KS",
            "KY",
            "LA",
            "ME",
            "MD",
            "MA",
            "MI",
            "MN",
            "MS",
            "MO",
            "MT",
            "NE",
            "NV",
            "NH",
            "NJ",
            "NM",
            "NY",
            "NC",
            "ND",
            "OH",
            "OK",
            "OR",
            "PA",
            "PR",
            "RI",
            "SC",
            "SD",
            "TN",
            "TX",
            "VI",
            "UT",
            "VT",
            "VA",
            "WA",
            "WV",
            "WI",
            "WY"
           ],
           "name": "",
           "type": "choropleth",
           "z": [
            0,
            8.61,
            8.66,
            6.94,
            8.88,
            8.64,
            9.16,
            8.05,
            9.16,
            8.65,
            5.72,
            8.05,
            8.05,
            8.05,
            9.16,
            8.05,
            8.05,
            8.05,
            8.05,
            0,
            8.33,
            8.05,
            8.88,
            8.22,
            5.83,
            0,
            8.16,
            4.44,
            8.05,
            8.05,
            8.05,
            8.05,
            8.33,
            8.05,
            8.05,
            8.05,
            8.72,
            2.22,
            9.94,
            8.05,
            0,
            8.61,
            0,
            8.05,
            0,
            8.05,
            4.77,
            8.05,
            9.55,
            8.05,
            10.2,
            8.05,
            8.05,
            5.72
           ]
          }
         ],
         "name": "2013"
        },
        {
         "data": [
          {
           "coloraxis": "coloraxis",
           "geo": "geo",
           "hovertemplate": "Year=2014<br>State=%{location}<br>Minimum Wage (2020 Dollars)=%{z}<extra></extra>",
           "locationmode": "USA-states",
           "locations": [
            "AL",
            "AK",
            "AZ",
            "AR",
            "CA",
            "CO",
            "CT",
            "DE",
            "DC",
            "FL",
            "GA",
            "GU",
            "HI",
            "ID",
            "IL",
            "IN",
            "IA",
            "KS",
            "KY",
            "LA",
            "ME",
            "MD",
            "MA",
            "MI",
            "MN",
            "MS",
            "MO",
            "MT",
            "NE",
            "NV",
            "NH",
            "NJ",
            "NM",
            "NY",
            "NC",
            "ND",
            "OH",
            "OK",
            "OR",
            "PA",
            "PR",
            "RI",
            "SC",
            "SD",
            "TN",
            "TX",
            "VI",
            "UT",
            "VT",
            "VA",
            "WA",
            "WV",
            "WI",
            "WY"
           ],
           "name": "",
           "type": "choropleth",
           "z": [
            0,
            8.47,
            8.63,
            6.83,
            9.83,
            8.74,
            9.51,
            8.47,
            10.38,
            8.66,
            5.63,
            7.92,
            7.92,
            7.92,
            9.01,
            7.92,
            7.92,
            7.92,
            7.92,
            0,
            8.19,
            7.92,
            8.74,
            8.9,
            7.1,
            0,
            8.19,
            8.63,
            7.92,
            7.92,
            7.92,
            9.01,
            8.19,
            8.74,
            7.92,
            7.92,
            7.92,
            2.19,
            9.94,
            7.92,
            5.55,
            8.74,
            0,
            7.92,
            0,
            7.92,
            4.7,
            7.92,
            9.54,
            7.92,
            10.18,
            7.92,
            7.92,
            5.63
           ]
          }
         ],
         "name": "2014"
        },
        {
         "data": [
          {
           "coloraxis": "coloraxis",
           "geo": "geo",
           "hovertemplate": "Year=2015<br>State=%{location}<br>Minimum Wage (2020 Dollars)=%{z}<extra></extra>",
           "locationmode": "USA-states",
           "locations": [
            "AL",
            "AK",
            "AZ",
            "AR",
            "CA",
            "CO",
            "CT",
            "DE",
            "DC",
            "FL",
            "GA",
            "GU",
            "HI",
            "ID",
            "IL",
            "IN",
            "IA",
            "KS",
            "KY",
            "LA",
            "ME",
            "MD",
            "MA",
            "MI",
            "MN",
            "MS",
            "MO",
            "MT",
            "NE",
            "NV",
            "NH",
            "NJ",
            "NM",
            "NY",
            "NC",
            "ND",
            "OH",
            "OK",
            "OR",
            "PA",
            "PR",
            "RI",
            "SC",
            "SD",
            "TN",
            "TX",
            "VI",
            "UT",
            "VT",
            "VA",
            "WA",
            "WV",
            "WI",
            "WY"
           ],
           "name": "",
           "type": "choropleth",
           "z": [
            0,
            9.55,
            8.79,
            8.18,
            9.82,
            8.98,
            9.99,
            9,
            11.46,
            8.79,
            5.62,
            9,
            8.46,
            7.91,
            9,
            7.91,
            7.91,
            7.91,
            7.91,
            0,
            8.18,
            9,
            9.82,
            8.89,
            7.91,
            0,
            8.35,
            8.79,
            8.73,
            7.91,
            7.91,
            9.15,
            8.18,
            9.55,
            7.91,
            7.91,
            7.91,
            2.18,
            10.09,
            7.91,
            5.54,
            9.82,
            0,
            9.28,
            0,
            7.91,
            4.69,
            7.91,
            9.99,
            7.91,
            10.33,
            8.73,
            7.91,
            5.62
           ]
          }
         ],
         "name": "2015"
        },
        {
         "data": [
          {
           "coloraxis": "coloraxis",
           "geo": "geo",
           "hovertemplate": "Year=2016<br>State=%{location}<br>Minimum Wage (2020 Dollars)=%{z}<extra></extra>",
           "locationmode": "USA-states",
           "locations": [
            "AL",
            "AK",
            "AZ",
            "AR",
            "CA",
            "CO",
            "CT",
            "DE",
            "DC",
            "FL",
            "GA",
            "GU",
            "HI",
            "ID",
            "IL",
            "IN",
            "IA",
            "KS",
            "KY",
            "LA",
            "ME",
            "MD",
            "MA",
            "MI",
            "MN",
            "MS",
            "MO",
            "MT",
            "NE",
            "NV",
            "NH",
            "NJ",
            "NM",
            "NY",
            "NC",
            "ND",
            "OH",
            "OK",
            "OR",
            "PA",
            "PR",
            "RI",
            "SC",
            "SD",
            "TN",
            "TX",
            "VI",
            "UT",
            "VT",
            "VA",
            "WA",
            "WV",
            "WI",
            "WY"
           ],
           "name": "",
           "type": "choropleth",
           "z": [
            0,
            10.51,
            8.68,
            8.62,
            10.78,
            8.96,
            10.35,
            8.89,
            12.39,
            8.68,
            5.55,
            8.89,
            9.16,
            7.81,
            8.89,
            7.81,
            7.81,
            7.81,
            7.81,
            0,
            8.08,
            9.43,
            10.78,
            9.16,
            7.81,
            0,
            8.24,
            8.68,
            9.7,
            7.81,
            7.81,
            9.03,
            8.08,
            9.7,
            7.81,
            7.81,
            7.81,
            2.16,
            10.51,
            7.81,
            5.47,
            10.35,
            0,
            9.21,
            0,
            7.81,
            4.63,
            7.81,
            10.35,
            7.81,
            10.21,
            9.43,
            7.81,
            5.55
           ]
          }
         ],
         "name": "2016"
        },
        {
         "data": [
          {
           "coloraxis": "coloraxis",
           "geo": "geo",
           "hovertemplate": "Year=2017<br>State=%{location}<br>Minimum Wage (2020 Dollars)=%{z}<extra></extra>",
           "locationmode": "USA-states",
           "locations": [
            "AL",
            "AK",
            "AZ",
            "AR",
            "CA",
            "CO",
            "CT",
            "DE",
            "DC",
            "FL",
            "GA",
            "GU",
            "HI",
            "ID",
            "IL",
            "IN",
            "IA",
            "KS",
            "KY",
            "LA",
            "ME",
            "MD",
            "MA",
            "MI",
            "MN",
            "MS",
            "MO",
            "MT",
            "NE",
            "NV",
            "NH",
            "NJ",
            "NM",
            "NY",
            "NC",
            "ND",
            "OH",
            "OK",
            "OR",
            "PA",
            "PR",
            "RI",
            "SC",
            "SD",
            "TN",
            "TX",
            "VI",
            "UT",
            "VT",
            "VA",
            "WA",
            "WV",
            "WI",
            "WY"
           ],
           "name": "",
           "type": "choropleth",
           "z": [
            0,
            10.34,
            10.55,
            8.97,
            10.55,
            9.81,
            10.66,
            8.71,
            12.14,
            8.55,
            5.43,
            8.71,
            9.76,
            7.65,
            8.71,
            7.65,
            7.65,
            7.65,
            7.65,
            0,
            9.5,
            9.23,
            11.61,
            9.39,
            8.18,
            0,
            8.13,
            8.6,
            9.5,
            7.65,
            7.65,
            8.91,
            7.91,
            10.24,
            7.65,
            7.65,
            8.6,
            2.11,
            10.29,
            7.65,
            5.36,
            10.13,
            0,
            9.13,
            0,
            7.65,
            4.54,
            7.65,
            10.55,
            7.65,
            11.61,
            9.23,
            7.65,
            5.43
           ]
          }
         ],
         "name": "2017"
        },
        {
         "data": [
          {
           "coloraxis": "coloraxis",
           "geo": "geo",
           "hovertemplate": "Year=2018<br>State=%{location}<br>Minimum Wage (2020 Dollars)=%{z}<extra></extra>",
           "locationmode": "USA-states",
           "locations": [
            "AL",
            "AK",
            "AZ",
            "AR",
            "CA",
            "CO",
            "CT",
            "DE",
            "DC",
            "FL",
            "GA",
            "GU",
            "HI",
            "ID",
            "IL",
            "IN",
            "IA",
            "KS",
            "KY",
            "LA",
            "ME",
            "MD",
            "MA",
            "MI",
            "MN",
            "MS",
            "MO",
            "MT",
            "NE",
            "NV",
            "NH",
            "NJ",
            "NM",
            "NY",
            "NC",
            "ND",
            "OH",
            "OK",
            "OR",
            "PA",
            "PR",
            "RI",
            "SC",
            "SD",
            "TN",
            "TX",
            "VI",
            "UT",
            "VT",
            "VA",
            "WA",
            "WV",
            "WI",
            "WY"
           ],
           "name": "",
           "type": "choropleth",
           "z": [
            0,
            10.14,
            10.82,
            8.76,
            11.33,
            10.51,
            10.4,
            8.5,
            13.65,
            8.5,
            5.3,
            8.5,
            10.4,
            7.47,
            8.5,
            7.47,
            7.47,
            7.47,
            7.47,
            0,
            10.3,
            10.4,
            11.33,
            9.53,
            8.28,
            0,
            8.09,
            8.55,
            9.27,
            7.47,
            7.47,
            8.86,
            7.73,
            10.71,
            7.47,
            7.47,
            8.55,
            2.06,
            11.07,
            7.47,
            5.23,
            10.4,
            0,
            9.12,
            0,
            7.47,
            4.43,
            7.47,
            10.82,
            7.47,
            11.85,
            9.01,
            7.47,
            5.3
           ]
          }
         ],
         "name": "2018"
        },
        {
         "data": [
          {
           "coloraxis": "coloraxis",
           "geo": "geo",
           "hovertemplate": "Year=2019<br>State=%{location}<br>Minimum Wage (2020 Dollars)=%{z}<extra></extra>",
           "locationmode": "USA-states",
           "locations": [
            "AL",
            "AK",
            "AZ",
            "AR",
            "CA",
            "CO",
            "CT",
            "DE",
            "DC",
            "FL",
            "GA",
            "GU",
            "HI",
            "ID",
            "IL",
            "IN",
            "IA",
            "KS",
            "KY",
            "LA",
            "ME",
            "MD",
            "MA",
            "MI",
            "MN",
            "MS",
            "MO",
            "MT",
            "NE",
            "NV",
            "NH",
            "NJ",
            "NM",
            "NY",
            "NC",
            "ND",
            "OH",
            "OK",
            "OR",
            "PA",
            "PR",
            "RI",
            "SC",
            "SD",
            "TN",
            "TX",
            "VI",
            "UT",
            "VT",
            "VA",
            "WA",
            "WV",
            "WI",
            "WY"
           ],
           "name": "",
           "type": "choropleth",
           "z": [
            0,
            10.31,
            12.14,
            9.36,
            12.14,
            12.14,
            11.13,
            9.36,
            14.16,
            8.66,
            5.21,
            8.35,
            10.22,
            7.34,
            9.36,
            7.34,
            7.34,
            7.34,
            7.34,
            0,
            12.14,
            11.13,
            12.9,
            9.76,
            8.25,
            0,
            9.56,
            8.75,
            9.11,
            7.34,
            7.34,
            11.13,
            9.11,
            11.94,
            7.34,
            7.34,
            8.8,
            2.02,
            11.38,
            7.34,
            5.14,
            10.62,
            0,
            9.41,
            0,
            7.34,
            10.62,
            7.34,
            11.09,
            7.34,
            13.66,
            8.85,
            7.34,
            5.21
           ]
          }
         ],
         "name": "2019"
        },
        {
         "data": [
          {
           "coloraxis": "coloraxis",
           "geo": "geo",
           "hovertemplate": "Year=2020<br>State=%{location}<br>Minimum Wage (2020 Dollars)=%{z}<extra></extra>",
           "locationmode": "USA-states",
           "locations": [
            "AL",
            "AK",
            "AZ",
            "AR",
            "CA",
            "CO",
            "CT",
            "DE",
            "DC",
            "FL",
            "GA",
            "GU",
            "HI",
            "ID",
            "IL",
            "IN",
            "IA",
            "KS",
            "KY",
            "LA",
            "ME",
            "MD",
            "MA",
            "MI",
            "MN",
            "MS",
            "MO",
            "MT",
            "NE",
            "NV",
            "NH",
            "NJ",
            "NM",
            "NY",
            "NC",
            "ND",
            "OH",
            "OK",
            "OR",
            "PA",
            "PR",
            "RI",
            "SC",
            "SD",
            "TN",
            "TX",
            "VI",
            "UT",
            "VT",
            "VA",
            "WA",
            "WV",
            "WI",
            "WY"
           ],
           "name": "",
           "type": "choropleth",
           "z": [
            0,
            10.19,
            12,
            10,
            13,
            12,
            11,
            9.25,
            14,
            8.56,
            5.15,
            8.25,
            10.1,
            7.25,
            9.25,
            7.25,
            7.25,
            7.25,
            7.25,
            0,
            12,
            11,
            12.75,
            9.65,
            8.15,
            0,
            9.45,
            8.65,
            9,
            7.25,
            7.25,
            11,
            9,
            11.8,
            7.25,
            7.25,
            8.7,
            2,
            11.25,
            7.25,
            5.08,
            10.5,
            0,
            9.3,
            0,
            7.25,
            10.5,
            7.25,
            10.96,
            7.25,
            13.5,
            8.75,
            7.25,
            5.15
           ]
          }
         ],
         "name": "2020"
        }
       ],
       "layout": {
        "coloraxis": {
         "colorbar": {
          "title": {
           "text": "Minimum Wage (2020 Dollars)"
          }
         },
         "colorscale": [
          [
           0,
           "#440154"
          ],
          [
           0.1111111111111111,
           "#482878"
          ],
          [
           0.2222222222222222,
           "#3e4989"
          ],
          [
           0.3333333333333333,
           "#31688e"
          ],
          [
           0.4444444444444444,
           "#26828e"
          ],
          [
           0.5555555555555556,
           "#1f9e89"
          ],
          [
           0.6666666666666666,
           "#35b779"
          ],
          [
           0.7777777777777778,
           "#6ece58"
          ],
          [
           0.8888888888888888,
           "#b5de2b"
          ],
          [
           1,
           "#fde725"
          ]
         ]
        },
        "geo": {
         "center": {},
         "domain": {
          "x": [
           0,
           1
          ],
          "y": [
           0,
           1
          ]
         },
         "scope": "usa"
        },
        "legend": {
         "tracegroupgap": 0
        },
        "sliders": [
         {
          "active": 0,
          "currentvalue": {
           "prefix": "Year: "
          },
          "len": 0.9,
          "pad": {
           "b": 10,
           "t": 60
          },
          "steps": [
           {
            "args": [
             [
              "1968"
             ],
             {
              "frame": {
               "duration": 0,
               "redraw": true
              },
              "fromcurrent": true,
              "mode": "immediate",
              "transition": {
               "duration": 0,
               "easing": "linear"
              }
             }
            ],
            "label": "1968",
            "method": "animate"
           },
           {
            "args": [
             [
              "1969"
             ],
             {
              "frame": {
               "duration": 0,
               "redraw": true
              },
              "fromcurrent": true,
              "mode": "immediate",
              "transition": {
               "duration": 0,
               "easing": "linear"
              }
             }
            ],
            "label": "1969",
            "method": "animate"
           },
           {
            "args": [
             [
              "1970"
             ],
             {
              "frame": {
               "duration": 0,
               "redraw": true
              },
              "fromcurrent": true,
              "mode": "immediate",
              "transition": {
               "duration": 0,
               "easing": "linear"
              }
             }
            ],
            "label": "1970",
            "method": "animate"
           },
           {
            "args": [
             [
              "1971"
             ],
             {
              "frame": {
               "duration": 0,
               "redraw": true
              },
              "fromcurrent": true,
              "mode": "immediate",
              "transition": {
               "duration": 0,
               "easing": "linear"
              }
             }
            ],
            "label": "1971",
            "method": "animate"
           },
           {
            "args": [
             [
              "1972"
             ],
             {
              "frame": {
               "duration": 0,
               "redraw": true
              },
              "fromcurrent": true,
              "mode": "immediate",
              "transition": {
               "duration": 0,
               "easing": "linear"
              }
             }
            ],
            "label": "1972",
            "method": "animate"
           },
           {
            "args": [
             [
              "1973"
             ],
             {
              "frame": {
               "duration": 0,
               "redraw": true
              },
              "fromcurrent": true,
              "mode": "immediate",
              "transition": {
               "duration": 0,
               "easing": "linear"
              }
             }
            ],
            "label": "1973",
            "method": "animate"
           },
           {
            "args": [
             [
              "1974"
             ],
             {
              "frame": {
               "duration": 0,
               "redraw": true
              },
              "fromcurrent": true,
              "mode": "immediate",
              "transition": {
               "duration": 0,
               "easing": "linear"
              }
             }
            ],
            "label": "1974",
            "method": "animate"
           },
           {
            "args": [
             [
              "1975"
             ],
             {
              "frame": {
               "duration": 0,
               "redraw": true
              },
              "fromcurrent": true,
              "mode": "immediate",
              "transition": {
               "duration": 0,
               "easing": "linear"
              }
             }
            ],
            "label": "1975",
            "method": "animate"
           },
           {
            "args": [
             [
              "1976"
             ],
             {
              "frame": {
               "duration": 0,
               "redraw": true
              },
              "fromcurrent": true,
              "mode": "immediate",
              "transition": {
               "duration": 0,
               "easing": "linear"
              }
             }
            ],
            "label": "1976",
            "method": "animate"
           },
           {
            "args": [
             [
              "1977"
             ],
             {
              "frame": {
               "duration": 0,
               "redraw": true
              },
              "fromcurrent": true,
              "mode": "immediate",
              "transition": {
               "duration": 0,
               "easing": "linear"
              }
             }
            ],
            "label": "1977",
            "method": "animate"
           },
           {
            "args": [
             [
              "1978"
             ],
             {
              "frame": {
               "duration": 0,
               "redraw": true
              },
              "fromcurrent": true,
              "mode": "immediate",
              "transition": {
               "duration": 0,
               "easing": "linear"
              }
             }
            ],
            "label": "1978",
            "method": "animate"
           },
           {
            "args": [
             [
              "1979"
             ],
             {
              "frame": {
               "duration": 0,
               "redraw": true
              },
              "fromcurrent": true,
              "mode": "immediate",
              "transition": {
               "duration": 0,
               "easing": "linear"
              }
             }
            ],
            "label": "1979",
            "method": "animate"
           },
           {
            "args": [
             [
              "1980"
             ],
             {
              "frame": {
               "duration": 0,
               "redraw": true
              },
              "fromcurrent": true,
              "mode": "immediate",
              "transition": {
               "duration": 0,
               "easing": "linear"
              }
             }
            ],
            "label": "1980",
            "method": "animate"
           },
           {
            "args": [
             [
              "1981"
             ],
             {
              "frame": {
               "duration": 0,
               "redraw": true
              },
              "fromcurrent": true,
              "mode": "immediate",
              "transition": {
               "duration": 0,
               "easing": "linear"
              }
             }
            ],
            "label": "1981",
            "method": "animate"
           },
           {
            "args": [
             [
              "1982"
             ],
             {
              "frame": {
               "duration": 0,
               "redraw": true
              },
              "fromcurrent": true,
              "mode": "immediate",
              "transition": {
               "duration": 0,
               "easing": "linear"
              }
             }
            ],
            "label": "1982",
            "method": "animate"
           },
           {
            "args": [
             [
              "1983"
             ],
             {
              "frame": {
               "duration": 0,
               "redraw": true
              },
              "fromcurrent": true,
              "mode": "immediate",
              "transition": {
               "duration": 0,
               "easing": "linear"
              }
             }
            ],
            "label": "1983",
            "method": "animate"
           },
           {
            "args": [
             [
              "1984"
             ],
             {
              "frame": {
               "duration": 0,
               "redraw": true
              },
              "fromcurrent": true,
              "mode": "immediate",
              "transition": {
               "duration": 0,
               "easing": "linear"
              }
             }
            ],
            "label": "1984",
            "method": "animate"
           },
           {
            "args": [
             [
              "1985"
             ],
             {
              "frame": {
               "duration": 0,
               "redraw": true
              },
              "fromcurrent": true,
              "mode": "immediate",
              "transition": {
               "duration": 0,
               "easing": "linear"
              }
             }
            ],
            "label": "1985",
            "method": "animate"
           },
           {
            "args": [
             [
              "1986"
             ],
             {
              "frame": {
               "duration": 0,
               "redraw": true
              },
              "fromcurrent": true,
              "mode": "immediate",
              "transition": {
               "duration": 0,
               "easing": "linear"
              }
             }
            ],
            "label": "1986",
            "method": "animate"
           },
           {
            "args": [
             [
              "1987"
             ],
             {
              "frame": {
               "duration": 0,
               "redraw": true
              },
              "fromcurrent": true,
              "mode": "immediate",
              "transition": {
               "duration": 0,
               "easing": "linear"
              }
             }
            ],
            "label": "1987",
            "method": "animate"
           },
           {
            "args": [
             [
              "1988"
             ],
             {
              "frame": {
               "duration": 0,
               "redraw": true
              },
              "fromcurrent": true,
              "mode": "immediate",
              "transition": {
               "duration": 0,
               "easing": "linear"
              }
             }
            ],
            "label": "1988",
            "method": "animate"
           },
           {
            "args": [
             [
              "1989"
             ],
             {
              "frame": {
               "duration": 0,
               "redraw": true
              },
              "fromcurrent": true,
              "mode": "immediate",
              "transition": {
               "duration": 0,
               "easing": "linear"
              }
             }
            ],
            "label": "1989",
            "method": "animate"
           },
           {
            "args": [
             [
              "1990"
             ],
             {
              "frame": {
               "duration": 0,
               "redraw": true
              },
              "fromcurrent": true,
              "mode": "immediate",
              "transition": {
               "duration": 0,
               "easing": "linear"
              }
             }
            ],
            "label": "1990",
            "method": "animate"
           },
           {
            "args": [
             [
              "1991"
             ],
             {
              "frame": {
               "duration": 0,
               "redraw": true
              },
              "fromcurrent": true,
              "mode": "immediate",
              "transition": {
               "duration": 0,
               "easing": "linear"
              }
             }
            ],
            "label": "1991",
            "method": "animate"
           },
           {
            "args": [
             [
              "1992"
             ],
             {
              "frame": {
               "duration": 0,
               "redraw": true
              },
              "fromcurrent": true,
              "mode": "immediate",
              "transition": {
               "duration": 0,
               "easing": "linear"
              }
             }
            ],
            "label": "1992",
            "method": "animate"
           },
           {
            "args": [
             [
              "1993"
             ],
             {
              "frame": {
               "duration": 0,
               "redraw": true
              },
              "fromcurrent": true,
              "mode": "immediate",
              "transition": {
               "duration": 0,
               "easing": "linear"
              }
             }
            ],
            "label": "1993",
            "method": "animate"
           },
           {
            "args": [
             [
              "1994"
             ],
             {
              "frame": {
               "duration": 0,
               "redraw": true
              },
              "fromcurrent": true,
              "mode": "immediate",
              "transition": {
               "duration": 0,
               "easing": "linear"
              }
             }
            ],
            "label": "1994",
            "method": "animate"
           },
           {
            "args": [
             [
              "1995"
             ],
             {
              "frame": {
               "duration": 0,
               "redraw": true
              },
              "fromcurrent": true,
              "mode": "immediate",
              "transition": {
               "duration": 0,
               "easing": "linear"
              }
             }
            ],
            "label": "1995",
            "method": "animate"
           },
           {
            "args": [
             [
              "1996"
             ],
             {
              "frame": {
               "duration": 0,
               "redraw": true
              },
              "fromcurrent": true,
              "mode": "immediate",
              "transition": {
               "duration": 0,
               "easing": "linear"
              }
             }
            ],
            "label": "1996",
            "method": "animate"
           },
           {
            "args": [
             [
              "1997"
             ],
             {
              "frame": {
               "duration": 0,
               "redraw": true
              },
              "fromcurrent": true,
              "mode": "immediate",
              "transition": {
               "duration": 0,
               "easing": "linear"
              }
             }
            ],
            "label": "1997",
            "method": "animate"
           },
           {
            "args": [
             [
              "1998"
             ],
             {
              "frame": {
               "duration": 0,
               "redraw": true
              },
              "fromcurrent": true,
              "mode": "immediate",
              "transition": {
               "duration": 0,
               "easing": "linear"
              }
             }
            ],
            "label": "1998",
            "method": "animate"
           },
           {
            "args": [
             [
              "1999"
             ],
             {
              "frame": {
               "duration": 0,
               "redraw": true
              },
              "fromcurrent": true,
              "mode": "immediate",
              "transition": {
               "duration": 0,
               "easing": "linear"
              }
             }
            ],
            "label": "1999",
            "method": "animate"
           },
           {
            "args": [
             [
              "2000"
             ],
             {
              "frame": {
               "duration": 0,
               "redraw": true
              },
              "fromcurrent": true,
              "mode": "immediate",
              "transition": {
               "duration": 0,
               "easing": "linear"
              }
             }
            ],
            "label": "2000",
            "method": "animate"
           },
           {
            "args": [
             [
              "2001"
             ],
             {
              "frame": {
               "duration": 0,
               "redraw": true
              },
              "fromcurrent": true,
              "mode": "immediate",
              "transition": {
               "duration": 0,
               "easing": "linear"
              }
             }
            ],
            "label": "2001",
            "method": "animate"
           },
           {
            "args": [
             [
              "2002"
             ],
             {
              "frame": {
               "duration": 0,
               "redraw": true
              },
              "fromcurrent": true,
              "mode": "immediate",
              "transition": {
               "duration": 0,
               "easing": "linear"
              }
             }
            ],
            "label": "2002",
            "method": "animate"
           },
           {
            "args": [
             [
              "2003"
             ],
             {
              "frame": {
               "duration": 0,
               "redraw": true
              },
              "fromcurrent": true,
              "mode": "immediate",
              "transition": {
               "duration": 0,
               "easing": "linear"
              }
             }
            ],
            "label": "2003",
            "method": "animate"
           },
           {
            "args": [
             [
              "2004"
             ],
             {
              "frame": {
               "duration": 0,
               "redraw": true
              },
              "fromcurrent": true,
              "mode": "immediate",
              "transition": {
               "duration": 0,
               "easing": "linear"
              }
             }
            ],
            "label": "2004",
            "method": "animate"
           },
           {
            "args": [
             [
              "2005"
             ],
             {
              "frame": {
               "duration": 0,
               "redraw": true
              },
              "fromcurrent": true,
              "mode": "immediate",
              "transition": {
               "duration": 0,
               "easing": "linear"
              }
             }
            ],
            "label": "2005",
            "method": "animate"
           },
           {
            "args": [
             [
              "2006"
             ],
             {
              "frame": {
               "duration": 0,
               "redraw": true
              },
              "fromcurrent": true,
              "mode": "immediate",
              "transition": {
               "duration": 0,
               "easing": "linear"
              }
             }
            ],
            "label": "2006",
            "method": "animate"
           },
           {
            "args": [
             [
              "2007"
             ],
             {
              "frame": {
               "duration": 0,
               "redraw": true
              },
              "fromcurrent": true,
              "mode": "immediate",
              "transition": {
               "duration": 0,
               "easing": "linear"
              }
             }
            ],
            "label": "2007",
            "method": "animate"
           },
           {
            "args": [
             [
              "2008"
             ],
             {
              "frame": {
               "duration": 0,
               "redraw": true
              },
              "fromcurrent": true,
              "mode": "immediate",
              "transition": {
               "duration": 0,
               "easing": "linear"
              }
             }
            ],
            "label": "2008",
            "method": "animate"
           },
           {
            "args": [
             [
              "2009"
             ],
             {
              "frame": {
               "duration": 0,
               "redraw": true
              },
              "fromcurrent": true,
              "mode": "immediate",
              "transition": {
               "duration": 0,
               "easing": "linear"
              }
             }
            ],
            "label": "2009",
            "method": "animate"
           },
           {
            "args": [
             [
              "2010"
             ],
             {
              "frame": {
               "duration": 0,
               "redraw": true
              },
              "fromcurrent": true,
              "mode": "immediate",
              "transition": {
               "duration": 0,
               "easing": "linear"
              }
             }
            ],
            "label": "2010",
            "method": "animate"
           },
           {
            "args": [
             [
              "2011"
             ],
             {
              "frame": {
               "duration": 0,
               "redraw": true
              },
              "fromcurrent": true,
              "mode": "immediate",
              "transition": {
               "duration": 0,
               "easing": "linear"
              }
             }
            ],
            "label": "2011",
            "method": "animate"
           },
           {
            "args": [
             [
              "2012"
             ],
             {
              "frame": {
               "duration": 0,
               "redraw": true
              },
              "fromcurrent": true,
              "mode": "immediate",
              "transition": {
               "duration": 0,
               "easing": "linear"
              }
             }
            ],
            "label": "2012",
            "method": "animate"
           },
           {
            "args": [
             [
              "2013"
             ],
             {
              "frame": {
               "duration": 0,
               "redraw": true
              },
              "fromcurrent": true,
              "mode": "immediate",
              "transition": {
               "duration": 0,
               "easing": "linear"
              }
             }
            ],
            "label": "2013",
            "method": "animate"
           },
           {
            "args": [
             [
              "2014"
             ],
             {
              "frame": {
               "duration": 0,
               "redraw": true
              },
              "fromcurrent": true,
              "mode": "immediate",
              "transition": {
               "duration": 0,
               "easing": "linear"
              }
             }
            ],
            "label": "2014",
            "method": "animate"
           },
           {
            "args": [
             [
              "2015"
             ],
             {
              "frame": {
               "duration": 0,
               "redraw": true
              },
              "fromcurrent": true,
              "mode": "immediate",
              "transition": {
               "duration": 0,
               "easing": "linear"
              }
             }
            ],
            "label": "2015",
            "method": "animate"
           },
           {
            "args": [
             [
              "2016"
             ],
             {
              "frame": {
               "duration": 0,
               "redraw": true
              },
              "fromcurrent": true,
              "mode": "immediate",
              "transition": {
               "duration": 0,
               "easing": "linear"
              }
             }
            ],
            "label": "2016",
            "method": "animate"
           },
           {
            "args": [
             [
              "2017"
             ],
             {
              "frame": {
               "duration": 0,
               "redraw": true
              },
              "fromcurrent": true,
              "mode": "immediate",
              "transition": {
               "duration": 0,
               "easing": "linear"
              }
             }
            ],
            "label": "2017",
            "method": "animate"
           },
           {
            "args": [
             [
              "2018"
             ],
             {
              "frame": {
               "duration": 0,
               "redraw": true
              },
              "fromcurrent": true,
              "mode": "immediate",
              "transition": {
               "duration": 0,
               "easing": "linear"
              }
             }
            ],
            "label": "2018",
            "method": "animate"
           },
           {
            "args": [
             [
              "2019"
             ],
             {
              "frame": {
               "duration": 0,
               "redraw": true
              },
              "fromcurrent": true,
              "mode": "immediate",
              "transition": {
               "duration": 0,
               "easing": "linear"
              }
             }
            ],
            "label": "2019",
            "method": "animate"
           },
           {
            "args": [
             [
              "2020"
             ],
             {
              "frame": {
               "duration": 0,
               "redraw": true
              },
              "fromcurrent": true,
              "mode": "immediate",
              "transition": {
               "duration": 0,
               "easing": "linear"
              }
             }
            ],
            "label": "2020",
            "method": "animate"
           }
          ],
          "transition": {
           "duration": 500,
           "easing": "cubic-in-out"
          },
          "x": 0.1,
          "xanchor": "left",
          "y": 0,
          "yanchor": "top"
         }
        ],
        "template": {
         "data": {
          "bar": [
           {
            "error_x": {
             "color": "#2a3f5f"
            },
            "error_y": {
             "color": "#2a3f5f"
            },
            "marker": {
             "line": {
              "color": "#E5ECF6",
              "width": 0.5
             },
             "pattern": {
              "fillmode": "overlay",
              "size": 10,
              "solidity": 0.2
             }
            },
            "type": "bar"
           }
          ],
          "barpolar": [
           {
            "marker": {
             "line": {
              "color": "#E5ECF6",
              "width": 0.5
             },
             "pattern": {
              "fillmode": "overlay",
              "size": 10,
              "solidity": 0.2
             }
            },
            "type": "barpolar"
           }
          ],
          "carpet": [
           {
            "aaxis": {
             "endlinecolor": "#2a3f5f",
             "gridcolor": "white",
             "linecolor": "white",
             "minorgridcolor": "white",
             "startlinecolor": "#2a3f5f"
            },
            "baxis": {
             "endlinecolor": "#2a3f5f",
             "gridcolor": "white",
             "linecolor": "white",
             "minorgridcolor": "white",
             "startlinecolor": "#2a3f5f"
            },
            "type": "carpet"
           }
          ],
          "choropleth": [
           {
            "colorbar": {
             "outlinewidth": 0,
             "ticks": ""
            },
            "type": "choropleth"
           }
          ],
          "contour": [
           {
            "colorbar": {
             "outlinewidth": 0,
             "ticks": ""
            },
            "colorscale": [
             [
              0,
              "#0d0887"
             ],
             [
              0.1111111111111111,
              "#46039f"
             ],
             [
              0.2222222222222222,
              "#7201a8"
             ],
             [
              0.3333333333333333,
              "#9c179e"
             ],
             [
              0.4444444444444444,
              "#bd3786"
             ],
             [
              0.5555555555555556,
              "#d8576b"
             ],
             [
              0.6666666666666666,
              "#ed7953"
             ],
             [
              0.7777777777777778,
              "#fb9f3a"
             ],
             [
              0.8888888888888888,
              "#fdca26"
             ],
             [
              1,
              "#f0f921"
             ]
            ],
            "type": "contour"
           }
          ],
          "contourcarpet": [
           {
            "colorbar": {
             "outlinewidth": 0,
             "ticks": ""
            },
            "type": "contourcarpet"
           }
          ],
          "heatmap": [
           {
            "colorbar": {
             "outlinewidth": 0,
             "ticks": ""
            },
            "colorscale": [
             [
              0,
              "#0d0887"
             ],
             [
              0.1111111111111111,
              "#46039f"
             ],
             [
              0.2222222222222222,
              "#7201a8"
             ],
             [
              0.3333333333333333,
              "#9c179e"
             ],
             [
              0.4444444444444444,
              "#bd3786"
             ],
             [
              0.5555555555555556,
              "#d8576b"
             ],
             [
              0.6666666666666666,
              "#ed7953"
             ],
             [
              0.7777777777777778,
              "#fb9f3a"
             ],
             [
              0.8888888888888888,
              "#fdca26"
             ],
             [
              1,
              "#f0f921"
             ]
            ],
            "type": "heatmap"
           }
          ],
          "heatmapgl": [
           {
            "colorbar": {
             "outlinewidth": 0,
             "ticks": ""
            },
            "colorscale": [
             [
              0,
              "#0d0887"
             ],
             [
              0.1111111111111111,
              "#46039f"
             ],
             [
              0.2222222222222222,
              "#7201a8"
             ],
             [
              0.3333333333333333,
              "#9c179e"
             ],
             [
              0.4444444444444444,
              "#bd3786"
             ],
             [
              0.5555555555555556,
              "#d8576b"
             ],
             [
              0.6666666666666666,
              "#ed7953"
             ],
             [
              0.7777777777777778,
              "#fb9f3a"
             ],
             [
              0.8888888888888888,
              "#fdca26"
             ],
             [
              1,
              "#f0f921"
             ]
            ],
            "type": "heatmapgl"
           }
          ],
          "histogram": [
           {
            "marker": {
             "pattern": {
              "fillmode": "overlay",
              "size": 10,
              "solidity": 0.2
             }
            },
            "type": "histogram"
           }
          ],
          "histogram2d": [
           {
            "colorbar": {
             "outlinewidth": 0,
             "ticks": ""
            },
            "colorscale": [
             [
              0,
              "#0d0887"
             ],
             [
              0.1111111111111111,
              "#46039f"
             ],
             [
              0.2222222222222222,
              "#7201a8"
             ],
             [
              0.3333333333333333,
              "#9c179e"
             ],
             [
              0.4444444444444444,
              "#bd3786"
             ],
             [
              0.5555555555555556,
              "#d8576b"
             ],
             [
              0.6666666666666666,
              "#ed7953"
             ],
             [
              0.7777777777777778,
              "#fb9f3a"
             ],
             [
              0.8888888888888888,
              "#fdca26"
             ],
             [
              1,
              "#f0f921"
             ]
            ],
            "type": "histogram2d"
           }
          ],
          "histogram2dcontour": [
           {
            "colorbar": {
             "outlinewidth": 0,
             "ticks": ""
            },
            "colorscale": [
             [
              0,
              "#0d0887"
             ],
             [
              0.1111111111111111,
              "#46039f"
             ],
             [
              0.2222222222222222,
              "#7201a8"
             ],
             [
              0.3333333333333333,
              "#9c179e"
             ],
             [
              0.4444444444444444,
              "#bd3786"
             ],
             [
              0.5555555555555556,
              "#d8576b"
             ],
             [
              0.6666666666666666,
              "#ed7953"
             ],
             [
              0.7777777777777778,
              "#fb9f3a"
             ],
             [
              0.8888888888888888,
              "#fdca26"
             ],
             [
              1,
              "#f0f921"
             ]
            ],
            "type": "histogram2dcontour"
           }
          ],
          "mesh3d": [
           {
            "colorbar": {
             "outlinewidth": 0,
             "ticks": ""
            },
            "type": "mesh3d"
           }
          ],
          "parcoords": [
           {
            "line": {
             "colorbar": {
              "outlinewidth": 0,
              "ticks": ""
             }
            },
            "type": "parcoords"
           }
          ],
          "pie": [
           {
            "automargin": true,
            "type": "pie"
           }
          ],
          "scatter": [
           {
            "fillpattern": {
             "fillmode": "overlay",
             "size": 10,
             "solidity": 0.2
            },
            "type": "scatter"
           }
          ],
          "scatter3d": [
           {
            "line": {
             "colorbar": {
              "outlinewidth": 0,
              "ticks": ""
             }
            },
            "marker": {
             "colorbar": {
              "outlinewidth": 0,
              "ticks": ""
             }
            },
            "type": "scatter3d"
           }
          ],
          "scattercarpet": [
           {
            "marker": {
             "colorbar": {
              "outlinewidth": 0,
              "ticks": ""
             }
            },
            "type": "scattercarpet"
           }
          ],
          "scattergeo": [
           {
            "marker": {
             "colorbar": {
              "outlinewidth": 0,
              "ticks": ""
             }
            },
            "type": "scattergeo"
           }
          ],
          "scattergl": [
           {
            "marker": {
             "colorbar": {
              "outlinewidth": 0,
              "ticks": ""
             }
            },
            "type": "scattergl"
           }
          ],
          "scattermapbox": [
           {
            "marker": {
             "colorbar": {
              "outlinewidth": 0,
              "ticks": ""
             }
            },
            "type": "scattermapbox"
           }
          ],
          "scatterpolar": [
           {
            "marker": {
             "colorbar": {
              "outlinewidth": 0,
              "ticks": ""
             }
            },
            "type": "scatterpolar"
           }
          ],
          "scatterpolargl": [
           {
            "marker": {
             "colorbar": {
              "outlinewidth": 0,
              "ticks": ""
             }
            },
            "type": "scatterpolargl"
           }
          ],
          "scatterternary": [
           {
            "marker": {
             "colorbar": {
              "outlinewidth": 0,
              "ticks": ""
             }
            },
            "type": "scatterternary"
           }
          ],
          "surface": [
           {
            "colorbar": {
             "outlinewidth": 0,
             "ticks": ""
            },
            "colorscale": [
             [
              0,
              "#0d0887"
             ],
             [
              0.1111111111111111,
              "#46039f"
             ],
             [
              0.2222222222222222,
              "#7201a8"
             ],
             [
              0.3333333333333333,
              "#9c179e"
             ],
             [
              0.4444444444444444,
              "#bd3786"
             ],
             [
              0.5555555555555556,
              "#d8576b"
             ],
             [
              0.6666666666666666,
              "#ed7953"
             ],
             [
              0.7777777777777778,
              "#fb9f3a"
             ],
             [
              0.8888888888888888,
              "#fdca26"
             ],
             [
              1,
              "#f0f921"
             ]
            ],
            "type": "surface"
           }
          ],
          "table": [
           {
            "cells": {
             "fill": {
              "color": "#EBF0F8"
             },
             "line": {
              "color": "white"
             }
            },
            "header": {
             "fill": {
              "color": "#C8D4E3"
             },
             "line": {
              "color": "white"
             }
            },
            "type": "table"
           }
          ]
         },
         "layout": {
          "annotationdefaults": {
           "arrowcolor": "#2a3f5f",
           "arrowhead": 0,
           "arrowwidth": 1
          },
          "autotypenumbers": "strict",
          "coloraxis": {
           "colorbar": {
            "outlinewidth": 0,
            "ticks": ""
           }
          },
          "colorscale": {
           "diverging": [
            [
             0,
             "#8e0152"
            ],
            [
             0.1,
             "#c51b7d"
            ],
            [
             0.2,
             "#de77ae"
            ],
            [
             0.3,
             "#f1b6da"
            ],
            [
             0.4,
             "#fde0ef"
            ],
            [
             0.5,
             "#f7f7f7"
            ],
            [
             0.6,
             "#e6f5d0"
            ],
            [
             0.7,
             "#b8e186"
            ],
            [
             0.8,
             "#7fbc41"
            ],
            [
             0.9,
             "#4d9221"
            ],
            [
             1,
             "#276419"
            ]
           ],
           "sequential": [
            [
             0,
             "#0d0887"
            ],
            [
             0.1111111111111111,
             "#46039f"
            ],
            [
             0.2222222222222222,
             "#7201a8"
            ],
            [
             0.3333333333333333,
             "#9c179e"
            ],
            [
             0.4444444444444444,
             "#bd3786"
            ],
            [
             0.5555555555555556,
             "#d8576b"
            ],
            [
             0.6666666666666666,
             "#ed7953"
            ],
            [
             0.7777777777777778,
             "#fb9f3a"
            ],
            [
             0.8888888888888888,
             "#fdca26"
            ],
            [
             1,
             "#f0f921"
            ]
           ],
           "sequentialminus": [
            [
             0,
             "#0d0887"
            ],
            [
             0.1111111111111111,
             "#46039f"
            ],
            [
             0.2222222222222222,
             "#7201a8"
            ],
            [
             0.3333333333333333,
             "#9c179e"
            ],
            [
             0.4444444444444444,
             "#bd3786"
            ],
            [
             0.5555555555555556,
             "#d8576b"
            ],
            [
             0.6666666666666666,
             "#ed7953"
            ],
            [
             0.7777777777777778,
             "#fb9f3a"
            ],
            [
             0.8888888888888888,
             "#fdca26"
            ],
            [
             1,
             "#f0f921"
            ]
           ]
          },
          "colorway": [
           "#636efa",
           "#EF553B",
           "#00cc96",
           "#ab63fa",
           "#FFA15A",
           "#19d3f3",
           "#FF6692",
           "#B6E880",
           "#FF97FF",
           "#FECB52"
          ],
          "font": {
           "color": "#2a3f5f"
          },
          "geo": {
           "bgcolor": "white",
           "lakecolor": "white",
           "landcolor": "#E5ECF6",
           "showlakes": true,
           "showland": true,
           "subunitcolor": "white"
          },
          "hoverlabel": {
           "align": "left"
          },
          "hovermode": "closest",
          "mapbox": {
           "style": "light"
          },
          "paper_bgcolor": "white",
          "plot_bgcolor": "#E5ECF6",
          "polar": {
           "angularaxis": {
            "gridcolor": "white",
            "linecolor": "white",
            "ticks": ""
           },
           "bgcolor": "#E5ECF6",
           "radialaxis": {
            "gridcolor": "white",
            "linecolor": "white",
            "ticks": ""
           }
          },
          "scene": {
           "xaxis": {
            "backgroundcolor": "#E5ECF6",
            "gridcolor": "white",
            "gridwidth": 2,
            "linecolor": "white",
            "showbackground": true,
            "ticks": "",
            "zerolinecolor": "white"
           },
           "yaxis": {
            "backgroundcolor": "#E5ECF6",
            "gridcolor": "white",
            "gridwidth": 2,
            "linecolor": "white",
            "showbackground": true,
            "ticks": "",
            "zerolinecolor": "white"
           },
           "zaxis": {
            "backgroundcolor": "#E5ECF6",
            "gridcolor": "white",
            "gridwidth": 2,
            "linecolor": "white",
            "showbackground": true,
            "ticks": "",
            "zerolinecolor": "white"
           }
          },
          "shapedefaults": {
           "line": {
            "color": "#2a3f5f"
           }
          },
          "ternary": {
           "aaxis": {
            "gridcolor": "white",
            "linecolor": "white",
            "ticks": ""
           },
           "baxis": {
            "gridcolor": "white",
            "linecolor": "white",
            "ticks": ""
           },
           "bgcolor": "#E5ECF6",
           "caxis": {
            "gridcolor": "white",
            "linecolor": "white",
            "ticks": ""
           }
          },
          "title": {
           "x": 0.05
          },
          "xaxis": {
           "automargin": true,
           "gridcolor": "white",
           "linecolor": "white",
           "ticks": "",
           "title": {
            "standoff": 15
           },
           "zerolinecolor": "white",
           "zerolinewidth": 2
          },
          "yaxis": {
           "automargin": true,
           "gridcolor": "white",
           "linecolor": "white",
           "ticks": "",
           "title": {
            "standoff": 15
           },
           "zerolinecolor": "white",
           "zerolinewidth": 2
          }
         }
        },
        "title": {
         "text": "Minimum Wage by State Over Time (2020 Dollars)"
        },
        "updatemenus": [
         {
          "buttons": [
           {
            "args": [
             null,
             {
              "frame": {
               "duration": 500,
               "redraw": true
              },
              "fromcurrent": true,
              "transition": {
               "duration": 500,
               "easing": "cubic-in-out"
              }
             }
            ],
            "label": "Play",
            "method": "animate"
           },
           {
            "args": [
             [
              null
             ],
             {
              "frame": {
               "duration": 0,
               "redraw": false
              },
              "mode": "immediate",
              "transition": {
               "duration": 0
              }
             }
            ],
            "label": "Pause",
            "method": "animate"
           }
          ],
          "direction": "left",
          "pad": {
           "r": 10,
           "t": 70
          },
          "showactive": false,
          "type": "buttons",
          "x": 0.1,
          "xanchor": "right",
          "y": 0,
          "yanchor": "top"
         }
        ]
       }
      }
     },
     "metadata": {},
     "output_type": "display_data"
    }
   ],
   "source": [
    "import pandas as pd\n",
    "import plotly.express as px\n",
    "\n",
    "# Load the dataset\n",
    "minimum_wage_data = pd.read_csv('minimum_wage_us.csv', encoding='ISO-8859-1')\n",
    "\n",
    "# Mapping van volledige staatnamen naar afkortingen\n",
    "state_abbreviations = {\n",
    "    'Alabama': 'AL', 'Alaska': 'AK', 'Arizona': 'AZ', 'Arkansas': 'AR', 'California': 'CA',\n",
    "    'Colorado': 'CO', 'Connecticut': 'CT', 'Delaware': 'DE', 'District of Columbia': 'DC',\n",
    "    'Florida': 'FL', 'Georgia': 'GA', 'Hawaii': 'HI', 'Idaho': 'ID', 'Illinois': 'IL',\n",
    "    'Indiana': 'IN', 'Iowa': 'IA', 'Kansas': 'KS', 'Kentucky': 'KY', 'Louisiana': 'LA',\n",
    "    'Maine': 'ME', 'Maryland': 'MD', 'Massachusetts': 'MA', 'Michigan': 'MI', 'Minnesota': 'MN',\n",
    "    'Mississippi': 'MS', 'Missouri': 'MO', 'Montana': 'MT', 'Nebraska': 'NE', 'Nevada': 'NV',\n",
    "    'New Hampshire': 'NH', 'New Jersey': 'NJ', 'New Mexico': 'NM', 'New York': 'NY', 'North Carolina': 'NC',\n",
    "    'North Dakota': 'ND', 'Ohio': 'OH', 'Oklahoma': 'OK', 'Oregon': 'OR', 'Pennsylvania': 'PA',\n",
    "    'Rhode Island': 'RI', 'South Carolina': 'SC', 'South Dakota': 'SD', 'Tennessee': 'TN', 'Texas': 'TX',\n",
    "    'Utah': 'UT', 'Vermont': 'VT', 'Virginia': 'VA', 'Washington': 'WA', 'West Virginia': 'WV',\n",
    "    'Wisconsin': 'WI', 'Wyoming': 'WY', 'Guam': 'GU', 'Puerto Rico': 'PR', 'U.S. Virgin Islands': 'VI'\n",
    "}\n",
    "\n",
    "# Corrigeer de staatnamen in de dataset\n",
    "minimum_wage_data['State'] = minimum_wage_data['State'].map(state_abbreviations)\n",
    "\n",
    "# Controleer of de mapping correct is toegepast\n",
    "print(\"Staten na correctie:\", minimum_wage_data['State'].unique())\n",
    "\n",
    "# Maak de heatmap met een slider voor elk jaar\n",
    "fig = px.choropleth(minimum_wage_data,\n",
    "                    locations='State',\n",
    "                    locationmode='USA-states',\n",
    "                    color='State.Minimum.Wage.2020.Dollars',\n",
    "                    color_continuous_scale='Viridis',\n",
    "                    scope='usa',\n",
    "                    animation_frame='Year',\n",
    "                    title='Minimum Wage by State Over Time (2020 Dollars)',\n",
    "                    labels={'State.Minimum.Wage.2020.Dollars': 'Minimum Wage (2020 Dollars)'})\n",
    "\n",
    "# Pas de snelheid van de slider aan\n",
    "fig.update_layout(\n",
    "    sliders=[{\n",
    "        'currentvalue': {'prefix': 'Year: '},\n",
    "        'transition': {'duration': 500, 'easing': 'cubic-in-out'},  # Snellere overgang\n",
    "        'pad': {'b': 10},\n",
    "        'len': 0.9\n",
    "    }],\n",
    "    updatemenus=[{\n",
    "        'type': 'buttons',\n",
    "        'showactive': False,\n",
    "        'buttons': [{\n",
    "            'label': 'Play',\n",
    "            'method': 'animate',\n",
    "            'args': [None, {\n",
    "                'frame': {'duration': 500, 'redraw': True},\n",
    "                'fromcurrent': True,\n",
    "                'transition': {'duration': 500, 'easing': 'cubic-in-out'}\n",
    "            }]\n",
    "        }, {\n",
    "            'label': 'Pause',\n",
    "            'method': 'animate',\n",
    "            'args': [[None], {'frame': {'duration': 0, 'redraw': False}, 'mode': 'immediate', 'transition': {'duration': 0}}]\n",
    "        }]\n",
    "    }]\n",
    ")\n",
    "\n",
    "# Toon de heatmap\n",
    "fig.show()\n"
   ]
  },
  {
   "cell_type": "code",
   "execution_count": null,
   "id": "d0d04a99",
   "metadata": {},
   "outputs": [],
   "source": []
  },
  {
   "cell_type": "code",
   "execution_count": null,
   "id": "a9a0f49d",
   "metadata": {},
   "outputs": [],
   "source": []
  }
 ],
 "metadata": {
  "kernelspec": {
   "display_name": "Python 3 (ipykernel)",
   "language": "python",
   "name": "python3"
  },
  "language_info": {
   "codemirror_mode": {
    "name": "ipython",
    "version": 3
   },
   "file_extension": ".py",
   "mimetype": "text/x-python",
   "name": "python",
   "nbconvert_exporter": "python",
   "pygments_lexer": "ipython3",
   "version": "3.11.7"
  }
 },
 "nbformat": 4,
 "nbformat_minor": 5
}
